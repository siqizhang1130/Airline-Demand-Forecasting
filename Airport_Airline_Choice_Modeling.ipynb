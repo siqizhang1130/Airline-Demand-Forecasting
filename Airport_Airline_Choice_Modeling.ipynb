{
 "cells": [
  {
   "cell_type": "code",
   "execution_count": 1,
   "metadata": {},
   "outputs": [],
   "source": [
    "import pandas as pd\n",
    "import numpy as np\n",
    "import math\n",
    "from sklearn.model_selection  import train_test_split\n",
    "from sklearn import metrics\n",
    "from scipy import stats\n",
    "import seaborn as sns\n",
    "import matplotlib as mpl\n",
    "import matplotlib.pyplot as plt\n",
    "from sklearn import tree\n",
    "import statsmodels.api as sm\n",
    "from sklearn.linear_model import LogisticRegression\n",
    "from sklearn.metrics import confusion_matrix, classification_report\n",
    "from sklearn.tree import export_graphviz"
   ]
  },
  {
   "cell_type": "markdown",
   "metadata": {},
   "source": [
    "# Data Loading and Cleaning"
   ]
  },
  {
   "cell_type": "code",
   "execution_count": 2,
   "metadata": {},
   "outputs": [
    {
     "name": "stdout",
     "output_type": "stream",
     "text": [
      "<class 'pandas.core.frame.DataFrame'>\n",
      "RangeIndex: 488 entries, 0 to 487\n",
      "Data columns (total 28 columns):\n",
      "ID                           488 non-null int64\n",
      "Airport                      488 non-null int64\n",
      "Airline                      478 non-null float64\n",
      "Age                          487 non-null float64\n",
      "Gender                       485 non-null float64\n",
      "Nationality                  488 non-null int64\n",
      "TripPurpose                  488 non-null int64\n",
      "TripDuration                 488 non-null int64\n",
      "FlyingCompanion              488 non-null int64\n",
      "ProvinceResidence            488 non-null int64\n",
      "GroupTravel                  488 non-null int64\n",
      "NoTripsLastYear              488 non-null int64\n",
      "FrequentFlightDestination    488 non-null object\n",
      "Destination                  483 non-null float64\n",
      "FlightNo                     346 non-null object\n",
      "DepartureHr                  455 non-null object\n",
      "DepartureMn                  368 non-null float64\n",
      "DepartureTime                488 non-null int64\n",
      "SeatClass                    484 non-null float64\n",
      "Airfare                      333 non-null float64\n",
      "NoTransport                  488 non-null int64\n",
      "ModeTransport                488 non-null int64\n",
      "AccessCost                   291 non-null float64\n",
      "AccessTime                   391 non-null float64\n",
      "Occupation                   488 non-null int64\n",
      "Income                       356 non-null float64\n",
      "MileageAirline               251 non-null object\n",
      "Mileage                      90 non-null float64\n",
      "dtypes: float64(11), int64(13), object(4)\n",
      "memory usage: 106.9+ KB\n",
      "None\n"
     ]
    }
   ],
   "source": [
    "df = pd.read_excel(\"airport_choice_survey_EN_ver2.0_Capstone.xlsx\", sep=',', header=0)\n",
    "print(df.info())"
   ]
  },
  {
   "cell_type": "code",
   "execution_count": 3,
   "metadata": {},
   "outputs": [
    {
     "data": {
      "text/html": [
       "<div>\n",
       "<style scoped>\n",
       "    .dataframe tbody tr th:only-of-type {\n",
       "        vertical-align: middle;\n",
       "    }\n",
       "\n",
       "    .dataframe tbody tr th {\n",
       "        vertical-align: top;\n",
       "    }\n",
       "\n",
       "    .dataframe thead th {\n",
       "        text-align: right;\n",
       "    }\n",
       "</style>\n",
       "<table border=\"1\" class=\"dataframe\">\n",
       "  <thead>\n",
       "    <tr style=\"text-align: right;\">\n",
       "      <th></th>\n",
       "      <th>ID</th>\n",
       "      <th>Airport</th>\n",
       "      <th>Airline</th>\n",
       "      <th>Age</th>\n",
       "      <th>Gender</th>\n",
       "      <th>Nationality</th>\n",
       "      <th>TripPurpose</th>\n",
       "      <th>TripDuration</th>\n",
       "      <th>FlyingCompanion</th>\n",
       "      <th>ProvinceResidence</th>\n",
       "      <th>...</th>\n",
       "      <th>DepartureTime</th>\n",
       "      <th>SeatClass</th>\n",
       "      <th>Airfare</th>\n",
       "      <th>NoTransport</th>\n",
       "      <th>ModeTransport</th>\n",
       "      <th>AccessCost</th>\n",
       "      <th>AccessTime</th>\n",
       "      <th>Occupation</th>\n",
       "      <th>Income</th>\n",
       "      <th>Mileage</th>\n",
       "    </tr>\n",
       "  </thead>\n",
       "  <tbody>\n",
       "    <tr>\n",
       "      <td>count</td>\n",
       "      <td>488.000000</td>\n",
       "      <td>488.000000</td>\n",
       "      <td>478.000000</td>\n",
       "      <td>487.000000</td>\n",
       "      <td>485.000000</td>\n",
       "      <td>488.000000</td>\n",
       "      <td>488.000000</td>\n",
       "      <td>488.000000</td>\n",
       "      <td>488.000000</td>\n",
       "      <td>488.000000</td>\n",
       "      <td>...</td>\n",
       "      <td>488.000000</td>\n",
       "      <td>484.000000</td>\n",
       "      <td>333.000000</td>\n",
       "      <td>488.000000</td>\n",
       "      <td>488.000000</td>\n",
       "      <td>291.000000</td>\n",
       "      <td>391.000000</td>\n",
       "      <td>488.000000</td>\n",
       "      <td>356.000000</td>\n",
       "      <td>90.000000</td>\n",
       "    </tr>\n",
       "    <tr>\n",
       "      <td>mean</td>\n",
       "      <td>244.500000</td>\n",
       "      <td>1.510246</td>\n",
       "      <td>2.422594</td>\n",
       "      <td>39.965092</td>\n",
       "      <td>1.527835</td>\n",
       "      <td>1.483607</td>\n",
       "      <td>1.518443</td>\n",
       "      <td>27.440574</td>\n",
       "      <td>2.819672</td>\n",
       "      <td>3.391393</td>\n",
       "      <td>...</td>\n",
       "      <td>2.432377</td>\n",
       "      <td>1.121901</td>\n",
       "      <td>50.456577</td>\n",
       "      <td>1.334016</td>\n",
       "      <td>3.801230</td>\n",
       "      <td>11220.079038</td>\n",
       "      <td>51.831202</td>\n",
       "      <td>6.768443</td>\n",
       "      <td>3.126404</td>\n",
       "      <td>56383.700000</td>\n",
       "    </tr>\n",
       "    <tr>\n",
       "      <td>std</td>\n",
       "      <td>141.017729</td>\n",
       "      <td>0.500408</td>\n",
       "      <td>1.208492</td>\n",
       "      <td>13.672869</td>\n",
       "      <td>0.499740</td>\n",
       "      <td>1.013126</td>\n",
       "      <td>0.861966</td>\n",
       "      <td>74.988134</td>\n",
       "      <td>4.001573</td>\n",
       "      <td>2.599259</td>\n",
       "      <td>...</td>\n",
       "      <td>0.749769</td>\n",
       "      <td>0.396172</td>\n",
       "      <td>28.981217</td>\n",
       "      <td>0.552306</td>\n",
       "      <td>2.380499</td>\n",
       "      <td>24083.030747</td>\n",
       "      <td>43.486834</td>\n",
       "      <td>4.172077</td>\n",
       "      <td>1.573828</td>\n",
       "      <td>89411.837228</td>\n",
       "    </tr>\n",
       "    <tr>\n",
       "      <td>min</td>\n",
       "      <td>1.000000</td>\n",
       "      <td>1.000000</td>\n",
       "      <td>1.000000</td>\n",
       "      <td>17.000000</td>\n",
       "      <td>1.000000</td>\n",
       "      <td>1.000000</td>\n",
       "      <td>1.000000</td>\n",
       "      <td>0.000000</td>\n",
       "      <td>0.000000</td>\n",
       "      <td>1.000000</td>\n",
       "      <td>...</td>\n",
       "      <td>1.000000</td>\n",
       "      <td>1.000000</td>\n",
       "      <td>3.000000</td>\n",
       "      <td>1.000000</td>\n",
       "      <td>1.000000</td>\n",
       "      <td>0.000000</td>\n",
       "      <td>4.000000</td>\n",
       "      <td>1.000000</td>\n",
       "      <td>1.000000</td>\n",
       "      <td>1.000000</td>\n",
       "    </tr>\n",
       "    <tr>\n",
       "      <td>25%</td>\n",
       "      <td>122.750000</td>\n",
       "      <td>1.000000</td>\n",
       "      <td>1.000000</td>\n",
       "      <td>29.000000</td>\n",
       "      <td>1.000000</td>\n",
       "      <td>1.000000</td>\n",
       "      <td>1.000000</td>\n",
       "      <td>4.000000</td>\n",
       "      <td>1.000000</td>\n",
       "      <td>1.000000</td>\n",
       "      <td>...</td>\n",
       "      <td>2.000000</td>\n",
       "      <td>1.000000</td>\n",
       "      <td>35.000000</td>\n",
       "      <td>1.000000</td>\n",
       "      <td>2.000000</td>\n",
       "      <td>2000.000000</td>\n",
       "      <td>25.000000</td>\n",
       "      <td>2.000000</td>\n",
       "      <td>2.000000</td>\n",
       "      <td>8257.500000</td>\n",
       "    </tr>\n",
       "    <tr>\n",
       "      <td>50%</td>\n",
       "      <td>244.500000</td>\n",
       "      <td>2.000000</td>\n",
       "      <td>2.000000</td>\n",
       "      <td>38.000000</td>\n",
       "      <td>2.000000</td>\n",
       "      <td>1.000000</td>\n",
       "      <td>1.000000</td>\n",
       "      <td>5.000000</td>\n",
       "      <td>2.000000</td>\n",
       "      <td>3.000000</td>\n",
       "      <td>...</td>\n",
       "      <td>2.000000</td>\n",
       "      <td>1.000000</td>\n",
       "      <td>45.000000</td>\n",
       "      <td>1.000000</td>\n",
       "      <td>3.000000</td>\n",
       "      <td>6000.000000</td>\n",
       "      <td>40.000000</td>\n",
       "      <td>8.000000</td>\n",
       "      <td>3.000000</td>\n",
       "      <td>27997.500000</td>\n",
       "    </tr>\n",
       "    <tr>\n",
       "      <td>75%</td>\n",
       "      <td>366.250000</td>\n",
       "      <td>2.000000</td>\n",
       "      <td>4.000000</td>\n",
       "      <td>50.000000</td>\n",
       "      <td>2.000000</td>\n",
       "      <td>1.000000</td>\n",
       "      <td>2.000000</td>\n",
       "      <td>8.000000</td>\n",
       "      <td>3.000000</td>\n",
       "      <td>5.000000</td>\n",
       "      <td>...</td>\n",
       "      <td>3.000000</td>\n",
       "      <td>1.000000</td>\n",
       "      <td>60.000000</td>\n",
       "      <td>2.000000</td>\n",
       "      <td>6.000000</td>\n",
       "      <td>12000.000000</td>\n",
       "      <td>60.000000</td>\n",
       "      <td>12.000000</td>\n",
       "      <td>4.000000</td>\n",
       "      <td>61808.000000</td>\n",
       "    </tr>\n",
       "    <tr>\n",
       "      <td>max</td>\n",
       "      <td>488.000000</td>\n",
       "      <td>2.000000</td>\n",
       "      <td>4.000000</td>\n",
       "      <td>80.000000</td>\n",
       "      <td>2.000000</td>\n",
       "      <td>5.000000</td>\n",
       "      <td>4.000000</td>\n",
       "      <td>730.000000</td>\n",
       "      <td>34.000000</td>\n",
       "      <td>8.000000</td>\n",
       "      <td>...</td>\n",
       "      <td>4.000000</td>\n",
       "      <td>3.000000</td>\n",
       "      <td>260.000000</td>\n",
       "      <td>4.000000</td>\n",
       "      <td>11.000000</td>\n",
       "      <td>350000.000000</td>\n",
       "      <td>390.000000</td>\n",
       "      <td>12.000000</td>\n",
       "      <td>7.000000</td>\n",
       "      <td>500000.000000</td>\n",
       "    </tr>\n",
       "  </tbody>\n",
       "</table>\n",
       "<p>8 rows × 24 columns</p>\n",
       "</div>"
      ],
      "text/plain": [
       "               ID     Airport     Airline         Age      Gender  \\\n",
       "count  488.000000  488.000000  478.000000  487.000000  485.000000   \n",
       "mean   244.500000    1.510246    2.422594   39.965092    1.527835   \n",
       "std    141.017729    0.500408    1.208492   13.672869    0.499740   \n",
       "min      1.000000    1.000000    1.000000   17.000000    1.000000   \n",
       "25%    122.750000    1.000000    1.000000   29.000000    1.000000   \n",
       "50%    244.500000    2.000000    2.000000   38.000000    2.000000   \n",
       "75%    366.250000    2.000000    4.000000   50.000000    2.000000   \n",
       "max    488.000000    2.000000    4.000000   80.000000    2.000000   \n",
       "\n",
       "       Nationality  TripPurpose  TripDuration  FlyingCompanion  \\\n",
       "count   488.000000   488.000000    488.000000       488.000000   \n",
       "mean      1.483607     1.518443     27.440574         2.819672   \n",
       "std       1.013126     0.861966     74.988134         4.001573   \n",
       "min       1.000000     1.000000      0.000000         0.000000   \n",
       "25%       1.000000     1.000000      4.000000         1.000000   \n",
       "50%       1.000000     1.000000      5.000000         2.000000   \n",
       "75%       1.000000     2.000000      8.000000         3.000000   \n",
       "max       5.000000     4.000000    730.000000        34.000000   \n",
       "\n",
       "       ProvinceResidence  ...  DepartureTime   SeatClass     Airfare  \\\n",
       "count         488.000000  ...     488.000000  484.000000  333.000000   \n",
       "mean            3.391393  ...       2.432377    1.121901   50.456577   \n",
       "std             2.599259  ...       0.749769    0.396172   28.981217   \n",
       "min             1.000000  ...       1.000000    1.000000    3.000000   \n",
       "25%             1.000000  ...       2.000000    1.000000   35.000000   \n",
       "50%             3.000000  ...       2.000000    1.000000   45.000000   \n",
       "75%             5.000000  ...       3.000000    1.000000   60.000000   \n",
       "max             8.000000  ...       4.000000    3.000000  260.000000   \n",
       "\n",
       "       NoTransport  ModeTransport     AccessCost  AccessTime  Occupation  \\\n",
       "count   488.000000     488.000000     291.000000  391.000000  488.000000   \n",
       "mean      1.334016       3.801230   11220.079038   51.831202    6.768443   \n",
       "std       0.552306       2.380499   24083.030747   43.486834    4.172077   \n",
       "min       1.000000       1.000000       0.000000    4.000000    1.000000   \n",
       "25%       1.000000       2.000000    2000.000000   25.000000    2.000000   \n",
       "50%       1.000000       3.000000    6000.000000   40.000000    8.000000   \n",
       "75%       2.000000       6.000000   12000.000000   60.000000   12.000000   \n",
       "max       4.000000      11.000000  350000.000000  390.000000   12.000000   \n",
       "\n",
       "           Income        Mileage  \n",
       "count  356.000000      90.000000  \n",
       "mean     3.126404   56383.700000  \n",
       "std      1.573828   89411.837228  \n",
       "min      1.000000       1.000000  \n",
       "25%      2.000000    8257.500000  \n",
       "50%      3.000000   27997.500000  \n",
       "75%      4.000000   61808.000000  \n",
       "max      7.000000  500000.000000  \n",
       "\n",
       "[8 rows x 24 columns]"
      ]
     },
     "execution_count": 3,
     "metadata": {},
     "output_type": "execute_result"
    }
   ],
   "source": [
    "df.head()\n",
    "df.describe()"
   ]
  },
  {
   "cell_type": "markdown",
   "metadata": {},
   "source": [
    "# Missing Value Processing"
   ]
  },
  {
   "cell_type": "code",
   "execution_count": 4,
   "metadata": {},
   "outputs": [
    {
     "data": {
      "text/plain": [
       "ID                             0\n",
       "Airport                        0\n",
       "Airline                       10\n",
       "Age                            1\n",
       "Gender                         3\n",
       "Nationality                    0\n",
       "TripPurpose                    0\n",
       "TripDuration                   0\n",
       "FlyingCompanion                0\n",
       "ProvinceResidence              0\n",
       "GroupTravel                    0\n",
       "NoTripsLastYear                0\n",
       "FrequentFlightDestination      0\n",
       "Destination                    5\n",
       "FlightNo                     142\n",
       "DepartureHr                   33\n",
       "DepartureMn                  120\n",
       "DepartureTime                  0\n",
       "SeatClass                      4\n",
       "Airfare                      155\n",
       "NoTransport                    0\n",
       "ModeTransport                  0\n",
       "AccessCost                   197\n",
       "AccessTime                    97\n",
       "Occupation                     0\n",
       "Income                       132\n",
       "MileageAirline               237\n",
       "Mileage                      398\n",
       "dtype: int64"
      ]
     },
     "execution_count": 4,
     "metadata": {},
     "output_type": "execute_result"
    }
   ],
   "source": [
    "# check number of missing values\n",
    "df.isnull().sum()"
   ]
  },
  {
   "cell_type": "code",
   "execution_count": 5,
   "metadata": {},
   "outputs": [],
   "source": [
    "# fill the missing value with age median value\n",
    "median =df['Age'].median()\n",
    "df['Age'].fillna(median, inplace=True)"
   ]
  },
  {
   "cell_type": "code",
   "execution_count": 6,
   "metadata": {},
   "outputs": [],
   "source": [
    "# fill the missing value with gender mode\n",
    "df['Gender'].mode()\n",
    "df['Gender'].fillna(2, inplace=True)"
   ]
  },
  {
   "cell_type": "code",
   "execution_count": 7,
   "metadata": {
    "scrolled": true
   },
   "outputs": [
    {
     "data": {
      "text/html": [
       "<div>\n",
       "<style scoped>\n",
       "    .dataframe tbody tr th:only-of-type {\n",
       "        vertical-align: middle;\n",
       "    }\n",
       "\n",
       "    .dataframe tbody tr th {\n",
       "        vertical-align: top;\n",
       "    }\n",
       "\n",
       "    .dataframe thead th {\n",
       "        text-align: right;\n",
       "    }\n",
       "</style>\n",
       "<table border=\"1\" class=\"dataframe\">\n",
       "  <thead>\n",
       "    <tr style=\"text-align: right;\">\n",
       "      <th></th>\n",
       "      <th>ID</th>\n",
       "      <th>Airport</th>\n",
       "      <th>Airline</th>\n",
       "      <th>Age</th>\n",
       "      <th>Gender</th>\n",
       "      <th>Nationality</th>\n",
       "      <th>TripPurpose</th>\n",
       "      <th>TripDuration</th>\n",
       "      <th>FlyingCompanion</th>\n",
       "      <th>ProvinceResidence</th>\n",
       "      <th>...</th>\n",
       "      <th>SeatClass</th>\n",
       "      <th>Airfare</th>\n",
       "      <th>NoTransport</th>\n",
       "      <th>ModeTransport</th>\n",
       "      <th>AccessCost</th>\n",
       "      <th>AccessTime</th>\n",
       "      <th>Occupation</th>\n",
       "      <th>Income</th>\n",
       "      <th>MileageAirline</th>\n",
       "      <th>Mileage</th>\n",
       "    </tr>\n",
       "  </thead>\n",
       "  <tbody>\n",
       "    <tr>\n",
       "      <td>244</td>\n",
       "      <td>245</td>\n",
       "      <td>2</td>\n",
       "      <td>2.0</td>\n",
       "      <td>76.0</td>\n",
       "      <td>1.0</td>\n",
       "      <td>1</td>\n",
       "      <td>4</td>\n",
       "      <td>4</td>\n",
       "      <td>2</td>\n",
       "      <td>3</td>\n",
       "      <td>...</td>\n",
       "      <td>NaN</td>\n",
       "      <td>24.0</td>\n",
       "      <td>1</td>\n",
       "      <td>1</td>\n",
       "      <td>NaN</td>\n",
       "      <td>90.0</td>\n",
       "      <td>11</td>\n",
       "      <td>1.0</td>\n",
       "      <td>NaN</td>\n",
       "      <td>NaN</td>\n",
       "    </tr>\n",
       "    <tr>\n",
       "      <td>254</td>\n",
       "      <td>255</td>\n",
       "      <td>2</td>\n",
       "      <td>4.0</td>\n",
       "      <td>23.0</td>\n",
       "      <td>2.0</td>\n",
       "      <td>2</td>\n",
       "      <td>1</td>\n",
       "      <td>7</td>\n",
       "      <td>1</td>\n",
       "      <td>8</td>\n",
       "      <td>...</td>\n",
       "      <td>NaN</td>\n",
       "      <td>24.0</td>\n",
       "      <td>1</td>\n",
       "      <td>5</td>\n",
       "      <td>2000.0</td>\n",
       "      <td>30.0</td>\n",
       "      <td>2</td>\n",
       "      <td>3.0</td>\n",
       "      <td>4</td>\n",
       "      <td>NaN</td>\n",
       "    </tr>\n",
       "    <tr>\n",
       "      <td>449</td>\n",
       "      <td>450</td>\n",
       "      <td>2</td>\n",
       "      <td>4.0</td>\n",
       "      <td>28.0</td>\n",
       "      <td>1.0</td>\n",
       "      <td>1</td>\n",
       "      <td>2</td>\n",
       "      <td>7</td>\n",
       "      <td>2</td>\n",
       "      <td>3</td>\n",
       "      <td>...</td>\n",
       "      <td>NaN</td>\n",
       "      <td>NaN</td>\n",
       "      <td>1</td>\n",
       "      <td>3</td>\n",
       "      <td>1000.0</td>\n",
       "      <td>20.0</td>\n",
       "      <td>2</td>\n",
       "      <td>2.0</td>\n",
       "      <td>2</td>\n",
       "      <td>5000.0</td>\n",
       "    </tr>\n",
       "    <tr>\n",
       "      <td>474</td>\n",
       "      <td>475</td>\n",
       "      <td>2</td>\n",
       "      <td>2.0</td>\n",
       "      <td>69.0</td>\n",
       "      <td>2.0</td>\n",
       "      <td>1</td>\n",
       "      <td>2</td>\n",
       "      <td>365</td>\n",
       "      <td>0</td>\n",
       "      <td>1</td>\n",
       "      <td>...</td>\n",
       "      <td>NaN</td>\n",
       "      <td>50.0</td>\n",
       "      <td>1</td>\n",
       "      <td>5</td>\n",
       "      <td>NaN</td>\n",
       "      <td>45.0</td>\n",
       "      <td>12</td>\n",
       "      <td>1.0</td>\n",
       "      <td>2</td>\n",
       "      <td>17918.0</td>\n",
       "    </tr>\n",
       "  </tbody>\n",
       "</table>\n",
       "<p>4 rows × 28 columns</p>\n",
       "</div>"
      ],
      "text/plain": [
       "      ID  Airport  Airline   Age  Gender  Nationality  TripPurpose  \\\n",
       "244  245        2      2.0  76.0     1.0            1            4   \n",
       "254  255        2      4.0  23.0     2.0            2            1   \n",
       "449  450        2      4.0  28.0     1.0            1            2   \n",
       "474  475        2      2.0  69.0     2.0            1            2   \n",
       "\n",
       "     TripDuration  FlyingCompanion  ProvinceResidence  ...  SeatClass  \\\n",
       "244             4                2                  3  ...        NaN   \n",
       "254             7                1                  8  ...        NaN   \n",
       "449             7                2                  3  ...        NaN   \n",
       "474           365                0                  1  ...        NaN   \n",
       "\n",
       "     Airfare NoTransport  ModeTransport AccessCost AccessTime  Occupation  \\\n",
       "244     24.0           1              1        NaN       90.0          11   \n",
       "254     24.0           1              5     2000.0       30.0           2   \n",
       "449      NaN           1              3     1000.0       20.0           2   \n",
       "474     50.0           1              5        NaN       45.0          12   \n",
       "\n",
       "     Income  MileageAirline  Mileage  \n",
       "244     1.0             NaN      NaN  \n",
       "254     3.0               4      NaN  \n",
       "449     2.0               2   5000.0  \n",
       "474     1.0               2  17918.0  \n",
       "\n",
       "[4 rows x 28 columns]"
      ]
     },
     "execution_count": 7,
     "metadata": {},
     "output_type": "execute_result"
    }
   ],
   "source": [
    "# check SeatClass missing values across Airfare\n",
    "df[df['SeatClass'].isnull()]"
   ]
  },
  {
   "cell_type": "code",
   "execution_count": 8,
   "metadata": {},
   "outputs": [
    {
     "data": {
      "text/html": [
       "<div>\n",
       "<style scoped>\n",
       "    .dataframe tbody tr th:only-of-type {\n",
       "        vertical-align: middle;\n",
       "    }\n",
       "\n",
       "    .dataframe tbody tr th {\n",
       "        vertical-align: top;\n",
       "    }\n",
       "\n",
       "    .dataframe thead th {\n",
       "        text-align: right;\n",
       "    }\n",
       "</style>\n",
       "<table border=\"1\" class=\"dataframe\">\n",
       "  <thead>\n",
       "    <tr style=\"text-align: right;\">\n",
       "      <th></th>\n",
       "      <th>ID</th>\n",
       "      <th>Airport</th>\n",
       "      <th>Airline</th>\n",
       "      <th>Age</th>\n",
       "      <th>Gender</th>\n",
       "      <th>Nationality</th>\n",
       "      <th>TripPurpose</th>\n",
       "      <th>TripDuration</th>\n",
       "      <th>FlyingCompanion</th>\n",
       "      <th>ProvinceResidence</th>\n",
       "      <th>...</th>\n",
       "      <th>DepartureTime</th>\n",
       "      <th>SeatClass</th>\n",
       "      <th>Airfare</th>\n",
       "      <th>NoTransport</th>\n",
       "      <th>ModeTransport</th>\n",
       "      <th>AccessCost</th>\n",
       "      <th>AccessTime</th>\n",
       "      <th>Occupation</th>\n",
       "      <th>Income</th>\n",
       "      <th>Mileage</th>\n",
       "    </tr>\n",
       "  </thead>\n",
       "  <tbody>\n",
       "    <tr>\n",
       "      <td>count</td>\n",
       "      <td>437.000000</td>\n",
       "      <td>437.000000</td>\n",
       "      <td>427.000000</td>\n",
       "      <td>437.000000</td>\n",
       "      <td>437.000000</td>\n",
       "      <td>437.000000</td>\n",
       "      <td>437.000000</td>\n",
       "      <td>437.000000</td>\n",
       "      <td>437.000000</td>\n",
       "      <td>437.000000</td>\n",
       "      <td>...</td>\n",
       "      <td>437.000000</td>\n",
       "      <td>437.0</td>\n",
       "      <td>301.000000</td>\n",
       "      <td>437.000000</td>\n",
       "      <td>437.000000</td>\n",
       "      <td>258.000000</td>\n",
       "      <td>351.000000</td>\n",
       "      <td>437.000000</td>\n",
       "      <td>318.000000</td>\n",
       "      <td>78.000000</td>\n",
       "    </tr>\n",
       "    <tr>\n",
       "      <td>mean</td>\n",
       "      <td>244.025172</td>\n",
       "      <td>1.505721</td>\n",
       "      <td>2.412178</td>\n",
       "      <td>39.409611</td>\n",
       "      <td>1.537757</td>\n",
       "      <td>1.501144</td>\n",
       "      <td>1.503432</td>\n",
       "      <td>27.718535</td>\n",
       "      <td>2.711670</td>\n",
       "      <td>3.340961</td>\n",
       "      <td>...</td>\n",
       "      <td>2.441648</td>\n",
       "      <td>1.0</td>\n",
       "      <td>49.332359</td>\n",
       "      <td>1.329519</td>\n",
       "      <td>3.796339</td>\n",
       "      <td>10986.988372</td>\n",
       "      <td>52.757835</td>\n",
       "      <td>6.814645</td>\n",
       "      <td>3.047170</td>\n",
       "      <td>53071.423077</td>\n",
       "    </tr>\n",
       "    <tr>\n",
       "      <td>std</td>\n",
       "      <td>141.214366</td>\n",
       "      <td>0.500540</td>\n",
       "      <td>1.200016</td>\n",
       "      <td>13.593347</td>\n",
       "      <td>0.499144</td>\n",
       "      <td>1.037430</td>\n",
       "      <td>0.861038</td>\n",
       "      <td>75.358202</td>\n",
       "      <td>3.781192</td>\n",
       "      <td>2.587105</td>\n",
       "      <td>...</td>\n",
       "      <td>0.750782</td>\n",
       "      <td>0.0</td>\n",
       "      <td>26.827267</td>\n",
       "      <td>0.547197</td>\n",
       "      <td>2.363170</td>\n",
       "      <td>24554.630835</td>\n",
       "      <td>45.169156</td>\n",
       "      <td>4.114749</td>\n",
       "      <td>1.484188</td>\n",
       "      <td>78759.264585</td>\n",
       "    </tr>\n",
       "    <tr>\n",
       "      <td>min</td>\n",
       "      <td>1.000000</td>\n",
       "      <td>1.000000</td>\n",
       "      <td>1.000000</td>\n",
       "      <td>17.000000</td>\n",
       "      <td>1.000000</td>\n",
       "      <td>1.000000</td>\n",
       "      <td>1.000000</td>\n",
       "      <td>1.000000</td>\n",
       "      <td>0.000000</td>\n",
       "      <td>1.000000</td>\n",
       "      <td>...</td>\n",
       "      <td>1.000000</td>\n",
       "      <td>1.0</td>\n",
       "      <td>3.000000</td>\n",
       "      <td>1.000000</td>\n",
       "      <td>1.000000</td>\n",
       "      <td>0.000000</td>\n",
       "      <td>4.000000</td>\n",
       "      <td>1.000000</td>\n",
       "      <td>1.000000</td>\n",
       "      <td>1.000000</td>\n",
       "    </tr>\n",
       "    <tr>\n",
       "      <td>25%</td>\n",
       "      <td>123.000000</td>\n",
       "      <td>1.000000</td>\n",
       "      <td>1.000000</td>\n",
       "      <td>29.000000</td>\n",
       "      <td>1.000000</td>\n",
       "      <td>1.000000</td>\n",
       "      <td>1.000000</td>\n",
       "      <td>4.000000</td>\n",
       "      <td>1.000000</td>\n",
       "      <td>1.000000</td>\n",
       "      <td>...</td>\n",
       "      <td>2.000000</td>\n",
       "      <td>1.0</td>\n",
       "      <td>34.140000</td>\n",
       "      <td>1.000000</td>\n",
       "      <td>2.000000</td>\n",
       "      <td>2000.000000</td>\n",
       "      <td>25.000000</td>\n",
       "      <td>2.000000</td>\n",
       "      <td>2.000000</td>\n",
       "      <td>8000.000000</td>\n",
       "    </tr>\n",
       "    <tr>\n",
       "      <td>50%</td>\n",
       "      <td>242.000000</td>\n",
       "      <td>2.000000</td>\n",
       "      <td>2.000000</td>\n",
       "      <td>37.000000</td>\n",
       "      <td>2.000000</td>\n",
       "      <td>1.000000</td>\n",
       "      <td>1.000000</td>\n",
       "      <td>5.000000</td>\n",
       "      <td>2.000000</td>\n",
       "      <td>3.000000</td>\n",
       "      <td>...</td>\n",
       "      <td>2.000000</td>\n",
       "      <td>1.0</td>\n",
       "      <td>44.000000</td>\n",
       "      <td>1.000000</td>\n",
       "      <td>3.000000</td>\n",
       "      <td>6000.000000</td>\n",
       "      <td>40.000000</td>\n",
       "      <td>8.000000</td>\n",
       "      <td>3.000000</td>\n",
       "      <td>29717.000000</td>\n",
       "    </tr>\n",
       "    <tr>\n",
       "      <td>75%</td>\n",
       "      <td>365.000000</td>\n",
       "      <td>2.000000</td>\n",
       "      <td>4.000000</td>\n",
       "      <td>50.000000</td>\n",
       "      <td>2.000000</td>\n",
       "      <td>1.000000</td>\n",
       "      <td>2.000000</td>\n",
       "      <td>8.000000</td>\n",
       "      <td>3.000000</td>\n",
       "      <td>5.000000</td>\n",
       "      <td>...</td>\n",
       "      <td>3.000000</td>\n",
       "      <td>1.0</td>\n",
       "      <td>57.000000</td>\n",
       "      <td>2.000000</td>\n",
       "      <td>6.000000</td>\n",
       "      <td>11925.000000</td>\n",
       "      <td>60.000000</td>\n",
       "      <td>12.000000</td>\n",
       "      <td>4.000000</td>\n",
       "      <td>61808.000000</td>\n",
       "    </tr>\n",
       "    <tr>\n",
       "      <td>max</td>\n",
       "      <td>486.000000</td>\n",
       "      <td>2.000000</td>\n",
       "      <td>4.000000</td>\n",
       "      <td>80.000000</td>\n",
       "      <td>2.000000</td>\n",
       "      <td>5.000000</td>\n",
       "      <td>4.000000</td>\n",
       "      <td>730.000000</td>\n",
       "      <td>34.000000</td>\n",
       "      <td>8.000000</td>\n",
       "      <td>...</td>\n",
       "      <td>4.000000</td>\n",
       "      <td>1.0</td>\n",
       "      <td>222.000000</td>\n",
       "      <td>4.000000</td>\n",
       "      <td>11.000000</td>\n",
       "      <td>350000.000000</td>\n",
       "      <td>390.000000</td>\n",
       "      <td>12.000000</td>\n",
       "      <td>7.000000</td>\n",
       "      <td>500000.000000</td>\n",
       "    </tr>\n",
       "  </tbody>\n",
       "</table>\n",
       "<p>8 rows × 24 columns</p>\n",
       "</div>"
      ],
      "text/plain": [
       "               ID     Airport     Airline         Age      Gender  \\\n",
       "count  437.000000  437.000000  427.000000  437.000000  437.000000   \n",
       "mean   244.025172    1.505721    2.412178   39.409611    1.537757   \n",
       "std    141.214366    0.500540    1.200016   13.593347    0.499144   \n",
       "min      1.000000    1.000000    1.000000   17.000000    1.000000   \n",
       "25%    123.000000    1.000000    1.000000   29.000000    1.000000   \n",
       "50%    242.000000    2.000000    2.000000   37.000000    2.000000   \n",
       "75%    365.000000    2.000000    4.000000   50.000000    2.000000   \n",
       "max    486.000000    2.000000    4.000000   80.000000    2.000000   \n",
       "\n",
       "       Nationality  TripPurpose  TripDuration  FlyingCompanion  \\\n",
       "count   437.000000   437.000000    437.000000       437.000000   \n",
       "mean      1.501144     1.503432     27.718535         2.711670   \n",
       "std       1.037430     0.861038     75.358202         3.781192   \n",
       "min       1.000000     1.000000      1.000000         0.000000   \n",
       "25%       1.000000     1.000000      4.000000         1.000000   \n",
       "50%       1.000000     1.000000      5.000000         2.000000   \n",
       "75%       1.000000     2.000000      8.000000         3.000000   \n",
       "max       5.000000     4.000000    730.000000        34.000000   \n",
       "\n",
       "       ProvinceResidence  ...  DepartureTime  SeatClass     Airfare  \\\n",
       "count         437.000000  ...     437.000000      437.0  301.000000   \n",
       "mean            3.340961  ...       2.441648        1.0   49.332359   \n",
       "std             2.587105  ...       0.750782        0.0   26.827267   \n",
       "min             1.000000  ...       1.000000        1.0    3.000000   \n",
       "25%             1.000000  ...       2.000000        1.0   34.140000   \n",
       "50%             3.000000  ...       2.000000        1.0   44.000000   \n",
       "75%             5.000000  ...       3.000000        1.0   57.000000   \n",
       "max             8.000000  ...       4.000000        1.0  222.000000   \n",
       "\n",
       "       NoTransport  ModeTransport     AccessCost  AccessTime  Occupation  \\\n",
       "count   437.000000     437.000000     258.000000  351.000000  437.000000   \n",
       "mean      1.329519       3.796339   10986.988372   52.757835    6.814645   \n",
       "std       0.547197       2.363170   24554.630835   45.169156    4.114749   \n",
       "min       1.000000       1.000000       0.000000    4.000000    1.000000   \n",
       "25%       1.000000       2.000000    2000.000000   25.000000    2.000000   \n",
       "50%       1.000000       3.000000    6000.000000   40.000000    8.000000   \n",
       "75%       2.000000       6.000000   11925.000000   60.000000   12.000000   \n",
       "max       4.000000      11.000000  350000.000000  390.000000   12.000000   \n",
       "\n",
       "           Income        Mileage  \n",
       "count  318.000000      78.000000  \n",
       "mean     3.047170   53071.423077  \n",
       "std      1.484188   78759.264585  \n",
       "min      1.000000       1.000000  \n",
       "25%      2.000000    8000.000000  \n",
       "50%      3.000000   29717.000000  \n",
       "75%      4.000000   61808.000000  \n",
       "max      7.000000  500000.000000  \n",
       "\n",
       "[8 rows x 24 columns]"
      ]
     },
     "execution_count": 8,
     "metadata": {},
     "output_type": "execute_result"
    }
   ],
   "source": [
    "# check the Airfare range of SeatClass\n",
    "df[df[['SeatClass', 'Airfare']]['SeatClass']==1].describe()"
   ]
  },
  {
   "cell_type": "code",
   "execution_count": 9,
   "metadata": {},
   "outputs": [],
   "source": [
    "# Fill missing value of SeatClass with Economy\n",
    "df['SeatClass'].fillna(1, inplace=True)"
   ]
  },
  {
   "cell_type": "code",
   "execution_count": 10,
   "metadata": {},
   "outputs": [],
   "source": [
    "# Fill missing value of Airline\n",
    "def impute_airline(cols):\n",
    "    Airline = cols[0]\n",
    "    Nationality=cols[1]\n",
    "    \n",
    "    if pd.isnull(Airline):\n",
    "        \n",
    "        if Nationality==1:\n",
    "            \n",
    "            return 1\n",
    "        \n",
    "        else:\n",
    "            return 4\n",
    "        \n",
    "    else:\n",
    "        return Airline"
   ]
  },
  {
   "cell_type": "code",
   "execution_count": 11,
   "metadata": {},
   "outputs": [],
   "source": [
    "df['Airline']=df[['Airline','Nationality']].apply(impute_airline,axis=1)"
   ]
  },
  {
   "cell_type": "code",
   "execution_count": 12,
   "metadata": {},
   "outputs": [],
   "source": [
    "# fill destination missing value with mode across Airline\n",
    "def impute_destination(cols):\n",
    "    Destination = cols[0]\n",
    "    Airline = cols[1]\n",
    "    \n",
    "    if pd.isnull(Destination):\n",
    "        \n",
    "        if Airline == 1:\n",
    "            \n",
    "            return 1\n",
    "        \n",
    "        elif Airline == 2:\n",
    "            \n",
    "            return 2\n",
    "        \n",
    "        elif Airline == 3:\n",
    "            \n",
    "            return 3\n",
    "        \n",
    "        elif Airline == 4:\n",
    "            \n",
    "            return 2\n",
    "    \n",
    "    else:\n",
    "        return Destination"
   ]
  },
  {
   "cell_type": "code",
   "execution_count": 13,
   "metadata": {},
   "outputs": [],
   "source": [
    "df['Destination']=df[['Destination','Airline']].apply(impute_destination, axis=1)"
   ]
  },
  {
   "cell_type": "markdown",
   "metadata": {},
   "source": [
    "# Outlier Processing"
   ]
  },
  {
   "cell_type": "code",
   "execution_count": 14,
   "metadata": {},
   "outputs": [
    {
     "data": {
      "image/png": "[encoded data removed]",
      "text/plain": [
       "<Figure size 432x288 with 1 Axes>"
      ]
     },
     "metadata": {
      "needs_background": "light"
     },
     "output_type": "display_data"
    },
    {
     "data": {
      "image/png": "[encoded data removed]",
      "text/plain": [
       "<Figure size 432x288 with 1 Axes>"
      ]
     },
     "metadata": {
      "needs_background": "light"
     },
     "output_type": "display_data"
    },
    {
     "data": {
      "image/png": "[encoded data removed]",
      "text/plain": [
       "<Figure size 432x288 with 1 Axes>"
      ]
     },
     "metadata": {
      "needs_background": "light"
     },
     "output_type": "display_data"
    },
    {
     "data": {
      "image/png": "[encoded data removed]",
      "text/plain": [
       "<Figure size 432x288 with 1 Axes>"
      ]
     },
     "metadata": {
      "needs_background": "light"
     },
     "output_type": "display_data"
    },
    {
     "data": {
      "image/png": "[encoded data removed]",
      "text/plain": [
       "<Figure size 432x288 with 1 Axes>"
      ]
     },
     "metadata": {
      "needs_background": "light"
     },
     "output_type": "display_data"
    },
    {
     "data": {
      "image/png": "[encoded data removed]",
      "text/plain": [
       "<Figure size 432x288 with 1 Axes>"
      ]
     },
     "metadata": {
      "needs_background": "light"
     },
     "output_type": "display_data"
    },
    {
     "data": {
      "image/png": "[encoded data removed]",
      "text/plain": [
       "<Figure size 432x288 with 1 Axes>"
      ]
     },
     "metadata": {
      "needs_background": "light"
     },
     "output_type": "display_data"
    }
   ],
   "source": [
    "age_boxplt = df.boxplot(column=['Age'])\n",
    "plt.show()\n",
    "Notrip_boxplt = df.boxplot(column=['NoTripsLastYear'])\n",
    "plt.show()\n",
    "AssTime_boxplt = df.boxplot(column=['AccessTime']) \n",
    "plt.show()\n",
    "AssCost_boxplt = df.boxplot(column=['AccessCost']) \n",
    "plt.show()\n",
    "AssCost_boxplt = df.boxplot(column=['Airfare'])\n",
    "plt.show()\n",
    "TripDur_boxplt = df.boxplot(column=['TripDuration']) \n",
    "plt.show()\n",
    "Mile_boxplt = df.boxplot(column=['Mileage']) \n",
    "plt.show()"
   ]
  },
  {
   "cell_type": "code",
   "execution_count": 15,
   "metadata": {},
   "outputs": [
    {
     "name": "stderr",
     "output_type": "stream",
     "text": [
      "/Users/appleair/opt/anaconda3/lib/python3.7/site-packages/ipykernel_launcher.py:3: UserWarning: Boolean Series key will be reindexed to match DataFrame index.\n",
      "  This is separate from the ipykernel package so we can avoid doing imports until\n",
      "/Users/appleair/opt/anaconda3/lib/python3.7/site-packages/ipykernel_launcher.py:4: UserWarning: Boolean Series key will be reindexed to match DataFrame index.\n",
      "  after removing the cwd from sys.path.\n"
     ]
    }
   ],
   "source": [
    "# remove outlier in TripDuration\n",
    "df_clean = df[df['TripDuration'] != 730]\n",
    "df_clean = df_clean[df['AccessCost'] != 350000]\n",
    "df_clean = df_clean[df['AccessTime'] != 390]"
   ]
  },
  {
   "cell_type": "code",
   "execution_count": 16,
   "metadata": {},
   "outputs": [
    {
     "data": {
      "text/html": [
       "<div>\n",
       "<style scoped>\n",
       "    .dataframe tbody tr th:only-of-type {\n",
       "        vertical-align: middle;\n",
       "    }\n",
       "\n",
       "    .dataframe tbody tr th {\n",
       "        vertical-align: top;\n",
       "    }\n",
       "\n",
       "    .dataframe thead th {\n",
       "        text-align: right;\n",
       "    }\n",
       "</style>\n",
       "<table border=\"1\" class=\"dataframe\">\n",
       "  <thead>\n",
       "    <tr style=\"text-align: right;\">\n",
       "      <th></th>\n",
       "      <th>ID</th>\n",
       "      <th>Airport</th>\n",
       "      <th>Airline</th>\n",
       "      <th>Age</th>\n",
       "      <th>Gender</th>\n",
       "      <th>Nationality</th>\n",
       "      <th>TripPurpose</th>\n",
       "      <th>TripDuration</th>\n",
       "      <th>FlyingCompanion</th>\n",
       "      <th>ProvinceResidence</th>\n",
       "      <th>...</th>\n",
       "      <th>DepartureTime</th>\n",
       "      <th>SeatClass</th>\n",
       "      <th>Airfare</th>\n",
       "      <th>NoTransport</th>\n",
       "      <th>ModeTransport</th>\n",
       "      <th>AccessCost</th>\n",
       "      <th>AccessTime</th>\n",
       "      <th>Occupation</th>\n",
       "      <th>Income</th>\n",
       "      <th>Mileage</th>\n",
       "    </tr>\n",
       "  </thead>\n",
       "  <tbody>\n",
       "    <tr>\n",
       "      <td>count</td>\n",
       "      <td>484.000000</td>\n",
       "      <td>484.000000</td>\n",
       "      <td>484.000000</td>\n",
       "      <td>484.000000</td>\n",
       "      <td>484.000000</td>\n",
       "      <td>484.000000</td>\n",
       "      <td>484.000000</td>\n",
       "      <td>484.000000</td>\n",
       "      <td>484.000000</td>\n",
       "      <td>484.000000</td>\n",
       "      <td>...</td>\n",
       "      <td>484.000000</td>\n",
       "      <td>484.000000</td>\n",
       "      <td>330.000000</td>\n",
       "      <td>484.000000</td>\n",
       "      <td>484.000000</td>\n",
       "      <td>288.000000</td>\n",
       "      <td>387.000000</td>\n",
       "      <td>484.000000</td>\n",
       "      <td>353.000000</td>\n",
       "      <td>89.000000</td>\n",
       "    </tr>\n",
       "    <tr>\n",
       "      <td>mean</td>\n",
       "      <td>244.969008</td>\n",
       "      <td>1.514463</td>\n",
       "      <td>2.413223</td>\n",
       "      <td>40.041322</td>\n",
       "      <td>1.530992</td>\n",
       "      <td>1.487603</td>\n",
       "      <td>1.514463</td>\n",
       "      <td>26.121901</td>\n",
       "      <td>2.832645</td>\n",
       "      <td>3.388430</td>\n",
       "      <td>...</td>\n",
       "      <td>2.425620</td>\n",
       "      <td>1.121901</td>\n",
       "      <td>50.363758</td>\n",
       "      <td>1.334711</td>\n",
       "      <td>3.778926</td>\n",
       "      <td>9934.177083</td>\n",
       "      <td>50.041344</td>\n",
       "      <td>6.741736</td>\n",
       "      <td>3.133144</td>\n",
       "      <td>56230.707865</td>\n",
       "    </tr>\n",
       "    <tr>\n",
       "      <td>std</td>\n",
       "      <td>141.449729</td>\n",
       "      <td>0.500308</td>\n",
       "      <td>1.215289</td>\n",
       "      <td>13.665266</td>\n",
       "      <td>0.499555</td>\n",
       "      <td>1.016352</td>\n",
       "      <td>0.862010</td>\n",
       "      <td>68.141307</td>\n",
       "      <td>4.012776</td>\n",
       "      <td>2.603937</td>\n",
       "      <td>...</td>\n",
       "      <td>0.748113</td>\n",
       "      <td>0.396172</td>\n",
       "      <td>29.029185</td>\n",
       "      <td>0.553133</td>\n",
       "      <td>2.370167</td>\n",
       "      <td>13381.785947</td>\n",
       "      <td>36.229026</td>\n",
       "      <td>4.174932</td>\n",
       "      <td>1.578209</td>\n",
       "      <td>89906.576121</td>\n",
       "    </tr>\n",
       "    <tr>\n",
       "      <td>min</td>\n",
       "      <td>1.000000</td>\n",
       "      <td>1.000000</td>\n",
       "      <td>1.000000</td>\n",
       "      <td>17.000000</td>\n",
       "      <td>1.000000</td>\n",
       "      <td>1.000000</td>\n",
       "      <td>1.000000</td>\n",
       "      <td>0.000000</td>\n",
       "      <td>0.000000</td>\n",
       "      <td>1.000000</td>\n",
       "      <td>...</td>\n",
       "      <td>1.000000</td>\n",
       "      <td>1.000000</td>\n",
       "      <td>3.000000</td>\n",
       "      <td>1.000000</td>\n",
       "      <td>1.000000</td>\n",
       "      <td>0.000000</td>\n",
       "      <td>4.000000</td>\n",
       "      <td>1.000000</td>\n",
       "      <td>1.000000</td>\n",
       "      <td>1.000000</td>\n",
       "    </tr>\n",
       "    <tr>\n",
       "      <td>25%</td>\n",
       "      <td>121.750000</td>\n",
       "      <td>1.000000</td>\n",
       "      <td>1.000000</td>\n",
       "      <td>29.000000</td>\n",
       "      <td>1.000000</td>\n",
       "      <td>1.000000</td>\n",
       "      <td>1.000000</td>\n",
       "      <td>4.000000</td>\n",
       "      <td>1.000000</td>\n",
       "      <td>1.000000</td>\n",
       "      <td>...</td>\n",
       "      <td>2.000000</td>\n",
       "      <td>1.000000</td>\n",
       "      <td>35.000000</td>\n",
       "      <td>1.000000</td>\n",
       "      <td>2.000000</td>\n",
       "      <td>2000.000000</td>\n",
       "      <td>25.000000</td>\n",
       "      <td>2.000000</td>\n",
       "      <td>2.000000</td>\n",
       "      <td>8000.000000</td>\n",
       "    </tr>\n",
       "    <tr>\n",
       "      <td>50%</td>\n",
       "      <td>246.500000</td>\n",
       "      <td>2.000000</td>\n",
       "      <td>2.000000</td>\n",
       "      <td>38.000000</td>\n",
       "      <td>2.000000</td>\n",
       "      <td>1.000000</td>\n",
       "      <td>1.000000</td>\n",
       "      <td>5.000000</td>\n",
       "      <td>2.000000</td>\n",
       "      <td>3.000000</td>\n",
       "      <td>...</td>\n",
       "      <td>2.000000</td>\n",
       "      <td>1.000000</td>\n",
       "      <td>45.000000</td>\n",
       "      <td>1.000000</td>\n",
       "      <td>3.000000</td>\n",
       "      <td>6000.000000</td>\n",
       "      <td>40.000000</td>\n",
       "      <td>8.000000</td>\n",
       "      <td>3.000000</td>\n",
       "      <td>26561.000000</td>\n",
       "    </tr>\n",
       "    <tr>\n",
       "      <td>75%</td>\n",
       "      <td>367.250000</td>\n",
       "      <td>2.000000</td>\n",
       "      <td>4.000000</td>\n",
       "      <td>50.000000</td>\n",
       "      <td>2.000000</td>\n",
       "      <td>1.000000</td>\n",
       "      <td>2.000000</td>\n",
       "      <td>8.000000</td>\n",
       "      <td>3.000000</td>\n",
       "      <td>5.000000</td>\n",
       "      <td>...</td>\n",
       "      <td>3.000000</td>\n",
       "      <td>1.000000</td>\n",
       "      <td>60.000000</td>\n",
       "      <td>2.000000</td>\n",
       "      <td>6.000000</td>\n",
       "      <td>11775.000000</td>\n",
       "      <td>60.000000</td>\n",
       "      <td>12.000000</td>\n",
       "      <td>4.000000</td>\n",
       "      <td>50000.000000</td>\n",
       "    </tr>\n",
       "    <tr>\n",
       "      <td>max</td>\n",
       "      <td>488.000000</td>\n",
       "      <td>2.000000</td>\n",
       "      <td>4.000000</td>\n",
       "      <td>80.000000</td>\n",
       "      <td>2.000000</td>\n",
       "      <td>5.000000</td>\n",
       "      <td>4.000000</td>\n",
       "      <td>415.000000</td>\n",
       "      <td>34.000000</td>\n",
       "      <td>8.000000</td>\n",
       "      <td>...</td>\n",
       "      <td>4.000000</td>\n",
       "      <td>3.000000</td>\n",
       "      <td>260.000000</td>\n",
       "      <td>4.000000</td>\n",
       "      <td>11.000000</td>\n",
       "      <td>98000.000000</td>\n",
       "      <td>180.000000</td>\n",
       "      <td>12.000000</td>\n",
       "      <td>7.000000</td>\n",
       "      <td>500000.000000</td>\n",
       "    </tr>\n",
       "  </tbody>\n",
       "</table>\n",
       "<p>8 rows × 24 columns</p>\n",
       "</div>"
      ],
      "text/plain": [
       "               ID     Airport     Airline         Age      Gender  \\\n",
       "count  484.000000  484.000000  484.000000  484.000000  484.000000   \n",
       "mean   244.969008    1.514463    2.413223   40.041322    1.530992   \n",
       "std    141.449729    0.500308    1.215289   13.665266    0.499555   \n",
       "min      1.000000    1.000000    1.000000   17.000000    1.000000   \n",
       "25%    121.750000    1.000000    1.000000   29.000000    1.000000   \n",
       "50%    246.500000    2.000000    2.000000   38.000000    2.000000   \n",
       "75%    367.250000    2.000000    4.000000   50.000000    2.000000   \n",
       "max    488.000000    2.000000    4.000000   80.000000    2.000000   \n",
       "\n",
       "       Nationality  TripPurpose  TripDuration  FlyingCompanion  \\\n",
       "count   484.000000   484.000000    484.000000       484.000000   \n",
       "mean      1.487603     1.514463     26.121901         2.832645   \n",
       "std       1.016352     0.862010     68.141307         4.012776   \n",
       "min       1.000000     1.000000      0.000000         0.000000   \n",
       "25%       1.000000     1.000000      4.000000         1.000000   \n",
       "50%       1.000000     1.000000      5.000000         2.000000   \n",
       "75%       1.000000     2.000000      8.000000         3.000000   \n",
       "max       5.000000     4.000000    415.000000        34.000000   \n",
       "\n",
       "       ProvinceResidence  ...  DepartureTime   SeatClass     Airfare  \\\n",
       "count         484.000000  ...     484.000000  484.000000  330.000000   \n",
       "mean            3.388430  ...       2.425620    1.121901   50.363758   \n",
       "std             2.603937  ...       0.748113    0.396172   29.029185   \n",
       "min             1.000000  ...       1.000000    1.000000    3.000000   \n",
       "25%             1.000000  ...       2.000000    1.000000   35.000000   \n",
       "50%             3.000000  ...       2.000000    1.000000   45.000000   \n",
       "75%             5.000000  ...       3.000000    1.000000   60.000000   \n",
       "max             8.000000  ...       4.000000    3.000000  260.000000   \n",
       "\n",
       "       NoTransport  ModeTransport    AccessCost  AccessTime  Occupation  \\\n",
       "count   484.000000     484.000000    288.000000  387.000000  484.000000   \n",
       "mean      1.334711       3.778926   9934.177083   50.041344    6.741736   \n",
       "std       0.553133       2.370167  13381.785947   36.229026    4.174932   \n",
       "min       1.000000       1.000000      0.000000    4.000000    1.000000   \n",
       "25%       1.000000       2.000000   2000.000000   25.000000    2.000000   \n",
       "50%       1.000000       3.000000   6000.000000   40.000000    8.000000   \n",
       "75%       2.000000       6.000000  11775.000000   60.000000   12.000000   \n",
       "max       4.000000      11.000000  98000.000000  180.000000   12.000000   \n",
       "\n",
       "           Income        Mileage  \n",
       "count  353.000000      89.000000  \n",
       "mean     3.133144   56230.707865  \n",
       "std      1.578209   89906.576121  \n",
       "min      1.000000       1.000000  \n",
       "25%      2.000000    8000.000000  \n",
       "50%      3.000000   26561.000000  \n",
       "75%      4.000000   50000.000000  \n",
       "max      7.000000  500000.000000  \n",
       "\n",
       "[8 rows x 24 columns]"
      ]
     },
     "execution_count": 16,
     "metadata": {},
     "output_type": "execute_result"
    }
   ],
   "source": [
    "df_clean.describe()"
   ]
  },
  {
   "cell_type": "markdown",
   "metadata": {},
   "source": [
    "# Recategory and Recoded Variables"
   ]
  },
  {
   "cell_type": "code",
   "execution_count": 17,
   "metadata": {},
   "outputs": [],
   "source": [
    "# Recoded Airport\n",
    "df_clean['Airport']=np.where(df_clean['Airport'] == 1,0,1)"
   ]
  },
  {
   "cell_type": "code",
   "execution_count": 18,
   "metadata": {},
   "outputs": [],
   "source": [
    "# Recoded Gender\n",
    "df_clean['Gender']=np.where(df_clean['Gender'] == 1,0,1)"
   ]
  },
  {
   "cell_type": "code",
   "execution_count": 19,
   "metadata": {},
   "outputs": [],
   "source": [
    "# Recoded Group travel\n",
    "df_clean['GroupTravel']=np.where(df_clean['GroupTravel'] == 1,0,1)"
   ]
  },
  {
   "cell_type": "code",
   "execution_count": 20,
   "metadata": {},
   "outputs": [],
   "source": [
    "# Recoded Destination\n",
    "df_clean.loc[df_clean['Destination']==1,'Destination'] ='0'\n",
    "df_clean.loc[df_clean['Destination']==2,'Destination'] ='1'\n",
    "df_clean.loc[df_clean['Destination']==3,'Destination'] ='2'\n",
    "df_clean.loc[df_clean['Destination']==4,'Destination'] ='3'"
   ]
  },
  {
   "cell_type": "code",
   "execution_count": 21,
   "metadata": {},
   "outputs": [],
   "source": [
    "# Recoded Departure time\n",
    "df_clean.loc[df_clean['DepartureTime']==1,'DepartureTime'] ='0'\n",
    "df_clean.loc[df_clean['DepartureTime']==2,'DepartureTime'] ='1'\n",
    "df_clean.loc[df_clean['DepartureTime']==3,'DepartureTime'] ='2'\n",
    "df_clean.loc[df_clean['DepartureTime']==4,'DepartureTime'] ='3'"
   ]
  },
  {
   "cell_type": "code",
   "execution_count": 22,
   "metadata": {},
   "outputs": [],
   "source": [
    "# Recoded Seat Class\n",
    "df_clean.loc[df_clean['SeatClass']==1,'SeatClass'] ='0'\n",
    "df_clean.loc[df_clean['SeatClass']==2,'SeatClass'] ='1'\n",
    "df_clean.loc[df_clean['SeatClass']==3,'SeatClass'] ='2'"
   ]
  },
  {
   "cell_type": "code",
   "execution_count": 23,
   "metadata": {},
   "outputs": [],
   "source": [
    "# Recategory Airline method 1 --Korea and non-korea\n",
    "df_clean['Airline_KOR'] = 0\n",
    "df_clean.loc[df_clean['Airline']==1,'Airline_KOR'] ='1'\n",
    "df_clean.loc[df_clean['Airline']==2,'Airline_KOR'] ='1'\n",
    "df_clean.loc[df_clean['Airline']==3,'Airline_KOR'] ='1'\n",
    "df_clean.loc[df_clean['Airline']==4,'Airline_KOR'] ='0'"
   ]
  },
  {
   "cell_type": "code",
   "execution_count": 24,
   "metadata": {},
   "outputs": [],
   "source": [
    "# Recategory Airline method 2 -- LCC and non-LCC\n",
    "df_clean['Airline_LCC'] = 0\n",
    "df_clean.loc[df_clean['Airline']==1,'Airline_LCC'] ='1'\n",
    "df_clean.loc[df_clean['Airline']==2,'Airline_LCC'] ='1'\n",
    "df_clean.loc[df_clean['Airline']==4,'Airline_LCC'] ='1'\n",
    "df_clean.loc[df_clean['Airline']==3,'Airline_LCC'] ='0'"
   ]
  },
  {
   "cell_type": "code",
   "execution_count": 25,
   "metadata": {},
   "outputs": [],
   "source": [
    "# Recategory Age\n",
    "df_clean['Age']=np.where(df_clean['Age'] < 60,1,0)"
   ]
  },
  {
   "cell_type": "code",
   "execution_count": 26,
   "metadata": {},
   "outputs": [],
   "source": [
    "# Recategory Nationality\n",
    "df_clean['Nationality']=np.where(df_clean['Nationality'] == 1,1,0)"
   ]
  },
  {
   "cell_type": "code",
   "execution_count": 27,
   "metadata": {},
   "outputs": [],
   "source": [
    "# Recategory trip purpose\n",
    "df_clean['TripPurpose']=np.where(df_clean['TripPurpose'] == 1,1,0)"
   ]
  },
  {
   "cell_type": "code",
   "execution_count": 28,
   "metadata": {},
   "outputs": [],
   "source": [
    "# Recategory FrequentFlightDestination\n",
    "df_clean.loc[df_clean['FrequentFlightDestination']==1,'FrequentFlightDestination'] ='0'\n",
    "df_clean.loc[df_clean['FrequentFlightDestination']==2,'FrequentFlightDestination'] ='0'\n",
    "df_clean.loc[df_clean['FrequentFlightDestination']==3,'FrequentFlightDestination'] ='0'\n",
    "df_clean.loc[df_clean['FrequentFlightDestination']==4,'FrequentFlightDestination'] ='1'\n",
    "df_clean.loc[df_clean['FrequentFlightDestination']==5,'FrequentFlightDestination'] ='1'\n",
    "df_clean.loc[df_clean['FrequentFlightDestination']==6,'FrequentFlightDestination'] ='2'\n",
    "df_clean.loc[df_clean['FrequentFlightDestination']==7,'FrequentFlightDestination'] ='2'"
   ]
  },
  {
   "cell_type": "code",
   "execution_count": 29,
   "metadata": {},
   "outputs": [],
   "source": [
    "# Recategory ProvinceResidence\n",
    "df_clean.loc[df_clean['ProvinceResidence']==1,'ProvinceResidence'] ='1'\n",
    "df_clean.loc[df_clean['ProvinceResidence']==2,'ProvinceResidence'] ='1'\n",
    "df_clean.loc[df_clean['ProvinceResidence']==3,'ProvinceResidence'] ='1'\n",
    "df_clean.loc[df_clean['ProvinceResidence']==4,'ProvinceResidence'] ='1'\n",
    "df_clean.loc[df_clean['ProvinceResidence']==5,'ProvinceResidence'] ='0'\n",
    "df_clean.loc[df_clean['ProvinceResidence']==6,'ProvinceResidence'] ='0'\n",
    "df_clean.loc[df_clean['ProvinceResidence']==7,'ProvinceResidence'] ='0'\n",
    "df_clean.loc[df_clean['ProvinceResidence']==8,'ProvinceResidence'] ='0'"
   ]
  },
  {
   "cell_type": "code",
   "execution_count": 30,
   "metadata": {},
   "outputs": [],
   "source": [
    "# Recategory trip duration\n",
    "df_clean['TripDuration']=np.where(df_clean['TripDuration'] == 1,0,1)"
   ]
  },
  {
   "cell_type": "code",
   "execution_count": 31,
   "metadata": {},
   "outputs": [],
   "source": [
    "# NoTripsLastYear\n",
    "df_clean['NoTripsLastYear']=np.where(df_clean['NoTripsLastYear'] >= 3,1,0)"
   ]
  },
  {
   "cell_type": "code",
   "execution_count": 32,
   "metadata": {},
   "outputs": [],
   "source": [
    "# Recategory Access time\n",
    "df_clean.loc[np.logical_and(df_clean['AccessTime'] >0,df_clean['AccessTime'] <=60), 'AccessTime'] =0\n",
    "df_clean.loc[df_clean['AccessTime'] > 60,'AccessTime'] =1\n",
    "df_clean.loc[np.isnan(df_clean['AccessTime']),'AccessTime'] = 2\n",
    "\n",
    "df_clean.loc[df_clean['AccessTime'] == 0, 'AccessTime'] = '0'\n",
    "df_clean.loc[df_clean['AccessTime'] == 1, 'AccessTime'] = '1'\n",
    "df_clean.loc[df_clean['AccessTime'] ==2,'AccessTime'] = '2'"
   ]
  },
  {
   "cell_type": "code",
   "execution_count": 33,
   "metadata": {},
   "outputs": [],
   "source": [
    "# Recategory Airfare\n",
    "df_clean.loc[np.logical_and(df_clean['Airfare']>0, df_clean['Airfare']<=50),'Airfare'] = 0\n",
    "df_clean.loc[np.logical_and(df_clean['Airfare'] > 50,df_clean['Airfare']<=100),'Airfare'] =1\n",
    "df_clean.loc[df_clean['Airfare'] >100,'Airfare'] =2\n",
    "df_clean.loc[np.isnan(df_clean['Airfare']),'Airfare'] =3\n",
    "\n",
    "df_clean.loc[df_clean['Airfare'] == 0, 'Airfare'] = '0'\n",
    "df_clean.loc[df_clean['Airfare'] == 1, 'Airfare'] = '1'\n",
    "df_clean.loc[df_clean['Airfare'] == 2, 'Airfare'] = '2'\n",
    "df_clean.loc[df_clean['Airfare'] == 3,'Airfare'] = '3'"
   ]
  },
  {
   "cell_type": "code",
   "execution_count": 34,
   "metadata": {},
   "outputs": [],
   "source": [
    "# Recategory occupation\n",
    "df_clean['Occupation']=np.where(df_clean['Occupation'] == 1,0,1)"
   ]
  },
  {
   "cell_type": "code",
   "execution_count": 35,
   "metadata": {},
   "outputs": [],
   "source": [
    "# Recategory income class\n",
    "df_clean.loc[df_clean['Income']==1,'Income'] ='0'\n",
    "df_clean.loc[df_clean['Income']==2,'Income'] ='0'\n",
    "df_clean.loc[df_clean['Income']==3,'Income'] ='0'\n",
    "df_clean.loc[df_clean['Income']==4,'Income'] ='0'\n",
    "df_clean.loc[df_clean['Income']==5,'Income'] ='1'\n",
    "df_clean.loc[df_clean['Income']==6,'Income'] ='1'\n",
    "df_clean.loc[df_clean['Income']==7,'Income'] ='2'\n",
    "df_clean.loc[df_clean['Income'].isnull(),'Income'] ='3'"
   ]
  },
  {
   "cell_type": "code",
   "execution_count": 36,
   "metadata": {},
   "outputs": [],
   "source": [
    "# Recategory number of transportations\n",
    "df_clean['NoTransport']=np.where(df_clean['NoTransport'] == 1,0,1)"
   ]
  },
  {
   "cell_type": "markdown",
   "metadata": {},
   "source": [
    "# Basic EDA"
   ]
  },
  {
   "cell_type": "code",
   "execution_count": 37,
   "metadata": {},
   "outputs": [],
   "source": [
    "df_plot = df_clean.iloc[:,:].copy()"
   ]
  },
  {
   "cell_type": "code",
   "execution_count": 38,
   "metadata": {},
   "outputs": [],
   "source": [
    "df2 = df.iloc[:,:].copy()\n",
    "\n",
    "df2['Airport_cat'] = np.where(df['Airport'] == 1 ,'ICN','GMP')\n",
    "df2['Airline_cat'] = df2['Airline'].replace( 1.0, 'Korean Air')\n",
    "df2['Airline_cat'] = df2['Airline'].replace( 2.0, 'Asiana Airlines')\n",
    "df2['Airline_cat'] = df2['Airline'].replace( 3.0, 'Korean LCC')\n",
    "df2['Airline_cat'] = df2['Airline'].replace(4.0, 'Foreign Airlines')\n",
    "  \n",
    "df2['Gender'] = np.where(df['Gender'] == 2 ,'Female','Male')\n",
    "\n",
    "df2['Nationality'] = df2['Nationality'].replace(1, 'Korea')\n",
    "df2['Nationality'] = df2['Nationality'].replace(2, 'China')\n",
    "df2['Nationality'] = df2['Nationality'].replace(3, 'Japan')\n",
    "df2['Nationality'] = df2['Nationality'].replace(4, 'Southeast Asia')\n",
    "df2['Nationality'] = df2['Nationality'].replace(5, 'Other')\n",
    "\n",
    "df2['TripPurpose'] = df2['TripPurpose'].replace(1, 'Leisure Travel')\n",
    "df2['TripPurpose'] = df2['TripPurpose'].replace(2, 'Business Travel')\n",
    "df2['TripPurpose'] = df2['TripPurpose'].replace(3, 'Study')\n",
    "df2['TripPurpose'] = df2['TripPurpose'].replace(4, 'Other')\n",
    "\n",
    "df2['ProvinceResidence'] = df2['ProvinceResidence'].replace(1, 'Seoul')\n",
    "df2['ProvinceResidence'] = df2['ProvinceResidence'].replace(2, 'Incheon')\n",
    "df2['ProvinceResidence'] = df2['ProvinceResidence'].replace(3, 'Kyungki-do')\n",
    "df2['ProvinceResidence'] = df2['ProvinceResidence'].replace(4, 'Chungcheong-do')\n",
    "df2['ProvinceResidence'] = df2['ProvinceResidence'].replace(5, 'Kyungsang-do')\n",
    "df2['ProvinceResidence'] = df2['ProvinceResidence'].replace(6, 'Jeonra-do')\n",
    "df2['ProvinceResidence'] = df2['ProvinceResidence'].replace(7, 'Kangwon-do')\n",
    "df2['ProvinceResidence'] = df2['ProvinceResidence'].replace(8, 'Other')\n",
    "\n",
    "df2['GroupTravel'] = df2['GroupTravel'].replace(1, 'Yes')\n",
    "df2['GroupTravel'] = df2['GroupTravel'].replace(2, 'No')\n",
    "\n",
    "df2['FrequentFlightDestination'] = df2['FrequentFlightDestination'].replace(1, 'Southeast Asia')\n",
    "df2['FrequentFlightDestination'] = df2['FrequentFlightDestination'].replace(2, 'China')\n",
    "df2['FrequentFlightDestination'] = df2['FrequentFlightDestination'].replace(3, 'Japan')\n",
    "df2['FrequentFlightDestination'] = df2['FrequentFlightDestination'].replace(4, 'North/South America')\n",
    "df2['FrequentFlightDestination'] = df2['FrequentFlightDestination'].replace(5, 'Europe')\n",
    "df2['FrequentFlightDestination'] = df2['FrequentFlightDestination'].replace(6, 'Other')\n",
    "df2['FrequentFlightDestination'] = df2['FrequentFlightDestination'].replace(7, 'None')\n",
    "\n",
    "df2['FrequentFlightDestination'] = df2['FrequentFlightDestination'].replace(4, 'North/South America')\n",
    "df2['FrequentFlightDestination'] = df2['FrequentFlightDestination'].replace(5, 'Europe')\n",
    "df2['FrequentFlightDestination'] = df2['FrequentFlightDestination'].replace(6, 'Other')\n",
    "df2['FrequentFlightDestination'] = df2['FrequentFlightDestination'].replace(7, 'None')\n",
    "\n",
    "df2['Destination'] = df2['Destination'].replace(1, 'China')\n",
    "df2['Destination'] = df2['Destination'].replace(2, 'Japan')\n",
    "df2['Destination'] = df2['Destination'].replace(3, 'Southeast Asia')\n",
    "df2['Destination'] = df2['Destination'].replace(4, 'Other')\n",
    "\n",
    "df2['DepartureTime'] = df2['DepartureTime'].replace(1, '6am-12pm')\n",
    "df2['DepartureTime'] = df2['DepartureTime'].replace(2, '12pm-6pm')\n",
    "df2['DepartureTime'] = df2['DepartureTime'].replace(3, '6pm-9pm')\n",
    "df2['DepartureTime'] = df2['DepartureTime'].replace(4, '9pm-6am')\n",
    "\n",
    "df2['SeatClass'] = df2['SeatClass'].replace(1, 'Economy')\n",
    "df2['SeatClass'] = df2['SeatClass'].replace(2, 'Business')\n",
    "df2['SeatClass'] = df2['SeatClass'].replace(3, 'First Class')\n",
    "\n",
    "df2['ModeTransport'] = df2['ModeTransport'].replace(1, 'Car')\n",
    "df2['ModeTransport'] = df2['ModeTransport'].replace(2, 'Taxi')\n",
    "df2['ModeTransport'] = df2['ModeTransport'].replace(3, 'Bus')\n",
    "df2['ModeTransport'] = df2['ModeTransport'].replace(4, 'Express Bus')\n",
    "df2['ModeTransport'] = df2['ModeTransport'].replace(5, 'Subway')\n",
    "df2['ModeTransport'] = df2['ModeTransport'].replace(6, 'Airport Limousine')\n",
    "df2['ModeTransport'] = df2['ModeTransport'].replace(7, 'Rail')\n",
    "df2['ModeTransport'] = df2['ModeTransport'].replace(8, 'KTX')\n",
    "df2['ModeTransport'] = df2['ModeTransport'].replace(9, 'Shuttle')\n",
    "df2['ModeTransport'] = df2['ModeTransport'].replace(10, 'Air')\n",
    "df2['ModeTransport'] = df2['ModeTransport'].replace(11, 'Other')\n",
    "\n",
    "df2['Occupation'] = df2['Occupation'].replace(1, 'Entrepreneur/Senior management')\n",
    "df2['Occupation'] = df2['Occupation'].replace(2, 'Business')\n",
    "df2['Occupation'] = df2['Occupation'].replace(3, 'Sales/Service')\n",
    "df2['Occupation'] = df2['Occupation'].replace(4, 'Government/Military')\n",
    "df2['Occupation'] = df2['Occupation'].replace(5, 'Doctor/Lawyer/Professor')\n",
    "df2['Occupation'] = df2['Occupation'].replace(6, 'Industrial/Manufacturing')\n",
    "df2['Occupation'] = df2['Occupation'].replace(7, 'Self-employeed')\n",
    "df2['Occupation'] = df2['Occupation'].replace(8, 'Student')\n",
    "df2['Occupation'] = df2['Occupation'].replace(9, 'Housewife')\n",
    "df2['Occupation'] = df2['Occupation'].replace(10, 'Retired')\n",
    "df2['Occupation'] = df2['Occupation'].replace(11, 'None')\n",
    "df2['Occupation'] = df2['Occupation'].replace(12, 'Other')\n",
    "\n",
    "df2['Income'] = df2['Income'].replace(1, '<=30M')\n",
    "df2['Income'] = df2['Income'].replace(2, '30-50M')\n",
    "df2['Income'] = df2['Income'].replace(3, '50-80M')\n",
    "df2['Income'] = df2['Income'].replace(4, '80-100M')\n",
    "df2['Income'] = df2['Income'].replace(5, '100-150M')\n",
    "df2['Income'] = df2['Income'].replace(6, '150-200M')\n",
    "df2['Income'] = df2['Income'].replace(7, '>200M')\n",
    "\n"
   ]
  },
  {
   "cell_type": "code",
   "execution_count": 39,
   "metadata": {},
   "outputs": [
    {
     "data": {
      "text/plain": [
       "array([[<matplotlib.axes._subplots.AxesSubplot object at 0x1c253124d0>,\n",
       "        <matplotlib.axes._subplots.AxesSubplot object at 0x1c252bc690>,\n",
       "        <matplotlib.axes._subplots.AxesSubplot object at 0x1c25364e90>,\n",
       "        <matplotlib.axes._subplots.AxesSubplot object at 0x1c253ad6d0>],\n",
       "       [<matplotlib.axes._subplots.AxesSubplot object at 0x1c253dded0>,\n",
       "        <matplotlib.axes._subplots.AxesSubplot object at 0x1c24f32fd0>,\n",
       "        <matplotlib.axes._subplots.AxesSubplot object at 0x1c24f19f50>,\n",
       "        <matplotlib.axes._subplots.AxesSubplot object at 0x1c24484550>],\n",
       "       [<matplotlib.axes._subplots.AxesSubplot object at 0x1c24479f50>,\n",
       "        <matplotlib.axes._subplots.AxesSubplot object at 0x1c244d9650>,\n",
       "        <matplotlib.axes._subplots.AxesSubplot object at 0x1c244c2650>,\n",
       "        <matplotlib.axes._subplots.AxesSubplot object at 0x1c25444e50>],\n",
       "       [<matplotlib.axes._subplots.AxesSubplot object at 0x1c24faf690>,\n",
       "        <matplotlib.axes._subplots.AxesSubplot object at 0x1c25479e90>,\n",
       "        <matplotlib.axes._subplots.AxesSubplot object at 0x1c254bc6d0>,\n",
       "        <matplotlib.axes._subplots.AxesSubplot object at 0x1c254f0ed0>],\n",
       "       [<matplotlib.axes._subplots.AxesSubplot object at 0x1c25531710>,\n",
       "        <matplotlib.axes._subplots.AxesSubplot object at 0x1c25566f10>,\n",
       "        <matplotlib.axes._subplots.AxesSubplot object at 0x1c255a7750>,\n",
       "        <matplotlib.axes._subplots.AxesSubplot object at 0x1c255dbf50>]],\n",
       "      dtype=object)"
      ]
     },
     "execution_count": 39,
     "metadata": {},
     "output_type": "execute_result"
    },
    {
     "data": {
      "image/png": "[encoded data removed]",
      "text/plain": [
       "<Figure size 432x288 with 20 Axes>"
      ]
     },
     "metadata": {
      "needs_background": "light"
     },
     "output_type": "display_data"
    }
   ],
   "source": [
    "df_plot.hist(color='blue',alpha=1,bins=20)"
   ]
  },
  {
   "cell_type": "code",
   "execution_count": 40,
   "metadata": {},
   "outputs": [
    {
     "data": {
      "text/html": [
       "<div>\n",
       "<style scoped>\n",
       "    .dataframe tbody tr th:only-of-type {\n",
       "        vertical-align: middle;\n",
       "    }\n",
       "\n",
       "    .dataframe tbody tr th {\n",
       "        vertical-align: top;\n",
       "    }\n",
       "\n",
       "    .dataframe thead th {\n",
       "        text-align: right;\n",
       "    }\n",
       "</style>\n",
       "<table border=\"1\" class=\"dataframe\">\n",
       "  <thead>\n",
       "    <tr style=\"text-align: right;\">\n",
       "      <th></th>\n",
       "      <th>ID</th>\n",
       "      <th>Airport</th>\n",
       "      <th>Airline</th>\n",
       "      <th>Age</th>\n",
       "      <th>Gender</th>\n",
       "      <th>Nationality</th>\n",
       "      <th>TripPurpose</th>\n",
       "      <th>TripDuration</th>\n",
       "      <th>FlyingCompanion</th>\n",
       "      <th>GroupTravel</th>\n",
       "      <th>NoTripsLastYear</th>\n",
       "      <th>DepartureMn</th>\n",
       "      <th>NoTransport</th>\n",
       "      <th>ModeTransport</th>\n",
       "      <th>AccessCost</th>\n",
       "      <th>Occupation</th>\n",
       "      <th>Mileage</th>\n",
       "    </tr>\n",
       "  </thead>\n",
       "  <tbody>\n",
       "    <tr>\n",
       "      <td>ID</td>\n",
       "      <td>1.000000</td>\n",
       "      <td>0.867107</td>\n",
       "      <td>0.111385</td>\n",
       "      <td>-0.125416</td>\n",
       "      <td>0.087782</td>\n",
       "      <td>-0.175865</td>\n",
       "      <td>-0.121962</td>\n",
       "      <td>-0.095065</td>\n",
       "      <td>0.057112</td>\n",
       "      <td>-0.040098</td>\n",
       "      <td>-0.016172</td>\n",
       "      <td>0.143440</td>\n",
       "      <td>-0.214292</td>\n",
       "      <td>-0.116459</td>\n",
       "      <td>0.047606</td>\n",
       "      <td>-0.002649</td>\n",
       "      <td>-0.081663</td>\n",
       "    </tr>\n",
       "    <tr>\n",
       "      <td>Airport</td>\n",
       "      <td>0.867107</td>\n",
       "      <td>1.000000</td>\n",
       "      <td>0.105925</td>\n",
       "      <td>-0.124091</td>\n",
       "      <td>0.023054</td>\n",
       "      <td>-0.191463</td>\n",
       "      <td>-0.194533</td>\n",
       "      <td>-0.117686</td>\n",
       "      <td>0.035756</td>\n",
       "      <td>0.046007</td>\n",
       "      <td>0.047009</td>\n",
       "      <td>0.137981</td>\n",
       "      <td>-0.286033</td>\n",
       "      <td>-0.109913</td>\n",
       "      <td>0.094264</td>\n",
       "      <td>-0.061686</td>\n",
       "      <td>-0.027992</td>\n",
       "    </tr>\n",
       "    <tr>\n",
       "      <td>Airline</td>\n",
       "      <td>0.111385</td>\n",
       "      <td>0.105925</td>\n",
       "      <td>1.000000</td>\n",
       "      <td>0.097960</td>\n",
       "      <td>0.019785</td>\n",
       "      <td>-0.140291</td>\n",
       "      <td>0.066928</td>\n",
       "      <td>-0.030041</td>\n",
       "      <td>-0.126740</td>\n",
       "      <td>0.142497</td>\n",
       "      <td>-0.008137</td>\n",
       "      <td>0.084260</td>\n",
       "      <td>0.051883</td>\n",
       "      <td>-0.004877</td>\n",
       "      <td>-0.095429</td>\n",
       "      <td>0.021067</td>\n",
       "      <td>-0.116497</td>\n",
       "    </tr>\n",
       "    <tr>\n",
       "      <td>Age</td>\n",
       "      <td>-0.125416</td>\n",
       "      <td>-0.124091</td>\n",
       "      <td>0.097960</td>\n",
       "      <td>1.000000</td>\n",
       "      <td>-0.125021</td>\n",
       "      <td>-0.106373</td>\n",
       "      <td>-0.094697</td>\n",
       "      <td>-0.044260</td>\n",
       "      <td>-0.215130</td>\n",
       "      <td>0.187992</td>\n",
       "      <td>0.138115</td>\n",
       "      <td>0.134118</td>\n",
       "      <td>0.068010</td>\n",
       "      <td>-0.009749</td>\n",
       "      <td>-0.044746</td>\n",
       "      <td>-0.080993</td>\n",
       "      <td>0.105715</td>\n",
       "    </tr>\n",
       "    <tr>\n",
       "      <td>Gender</td>\n",
       "      <td>0.087782</td>\n",
       "      <td>0.023054</td>\n",
       "      <td>0.019785</td>\n",
       "      <td>-0.125021</td>\n",
       "      <td>1.000000</td>\n",
       "      <td>0.033680</td>\n",
       "      <td>0.329430</td>\n",
       "      <td>0.059541</td>\n",
       "      <td>0.115687</td>\n",
       "      <td>-0.146452</td>\n",
       "      <td>-0.189146</td>\n",
       "      <td>-0.017742</td>\n",
       "      <td>0.045991</td>\n",
       "      <td>0.017164</td>\n",
       "      <td>0.027103</td>\n",
       "      <td>0.181474</td>\n",
       "      <td>-0.184217</td>\n",
       "    </tr>\n",
       "    <tr>\n",
       "      <td>Nationality</td>\n",
       "      <td>-0.175865</td>\n",
       "      <td>-0.191463</td>\n",
       "      <td>-0.140291</td>\n",
       "      <td>-0.106373</td>\n",
       "      <td>0.033680</td>\n",
       "      <td>1.000000</td>\n",
       "      <td>0.171705</td>\n",
       "      <td>0.058189</td>\n",
       "      <td>0.121258</td>\n",
       "      <td>-0.170417</td>\n",
       "      <td>-0.097842</td>\n",
       "      <td>-0.135574</td>\n",
       "      <td>0.059433</td>\n",
       "      <td>-0.063131</td>\n",
       "      <td>-0.022530</td>\n",
       "      <td>0.122294</td>\n",
       "      <td>0.056359</td>\n",
       "    </tr>\n",
       "    <tr>\n",
       "      <td>TripPurpose</td>\n",
       "      <td>-0.121962</td>\n",
       "      <td>-0.194533</td>\n",
       "      <td>0.066928</td>\n",
       "      <td>-0.094697</td>\n",
       "      <td>0.329430</td>\n",
       "      <td>0.171705</td>\n",
       "      <td>1.000000</td>\n",
       "      <td>0.171585</td>\n",
       "      <td>0.188217</td>\n",
       "      <td>-0.254063</td>\n",
       "      <td>-0.349952</td>\n",
       "      <td>-0.039249</td>\n",
       "      <td>0.130409</td>\n",
       "      <td>0.069280</td>\n",
       "      <td>-0.132589</td>\n",
       "      <td>0.209465</td>\n",
       "      <td>-0.170960</td>\n",
       "    </tr>\n",
       "    <tr>\n",
       "      <td>TripDuration</td>\n",
       "      <td>-0.095065</td>\n",
       "      <td>-0.117686</td>\n",
       "      <td>-0.030041</td>\n",
       "      <td>-0.044260</td>\n",
       "      <td>0.059541</td>\n",
       "      <td>0.058189</td>\n",
       "      <td>0.171585</td>\n",
       "      <td>1.000000</td>\n",
       "      <td>0.025162</td>\n",
       "      <td>-0.009819</td>\n",
       "      <td>0.007921</td>\n",
       "      <td>-0.023069</td>\n",
       "      <td>0.040517</td>\n",
       "      <td>0.076398</td>\n",
       "      <td>0.021498</td>\n",
       "      <td>-0.034853</td>\n",
       "      <td>-0.529149</td>\n",
       "    </tr>\n",
       "    <tr>\n",
       "      <td>FlyingCompanion</td>\n",
       "      <td>0.057112</td>\n",
       "      <td>0.035756</td>\n",
       "      <td>-0.126740</td>\n",
       "      <td>-0.215130</td>\n",
       "      <td>0.115687</td>\n",
       "      <td>0.121258</td>\n",
       "      <td>0.188217</td>\n",
       "      <td>0.025162</td>\n",
       "      <td>1.000000</td>\n",
       "      <td>-0.494095</td>\n",
       "      <td>-0.164499</td>\n",
       "      <td>-0.106228</td>\n",
       "      <td>0.032684</td>\n",
       "      <td>-0.106863</td>\n",
       "      <td>-0.061848</td>\n",
       "      <td>0.083037</td>\n",
       "      <td>-0.093094</td>\n",
       "    </tr>\n",
       "    <tr>\n",
       "      <td>GroupTravel</td>\n",
       "      <td>-0.040098</td>\n",
       "      <td>0.046007</td>\n",
       "      <td>0.142497</td>\n",
       "      <td>0.187992</td>\n",
       "      <td>-0.146452</td>\n",
       "      <td>-0.170417</td>\n",
       "      <td>-0.254063</td>\n",
       "      <td>-0.009819</td>\n",
       "      <td>-0.494095</td>\n",
       "      <td>1.000000</td>\n",
       "      <td>0.194228</td>\n",
       "      <td>0.151307</td>\n",
       "      <td>-0.073917</td>\n",
       "      <td>0.065505</td>\n",
       "      <td>-0.083393</td>\n",
       "      <td>-0.049717</td>\n",
       "      <td>0.052439</td>\n",
       "    </tr>\n",
       "    <tr>\n",
       "      <td>NoTripsLastYear</td>\n",
       "      <td>-0.016172</td>\n",
       "      <td>0.047009</td>\n",
       "      <td>-0.008137</td>\n",
       "      <td>0.138115</td>\n",
       "      <td>-0.189146</td>\n",
       "      <td>-0.097842</td>\n",
       "      <td>-0.349952</td>\n",
       "      <td>0.007921</td>\n",
       "      <td>-0.164499</td>\n",
       "      <td>0.194228</td>\n",
       "      <td>1.000000</td>\n",
       "      <td>0.018435</td>\n",
       "      <td>-0.050690</td>\n",
       "      <td>-0.073524</td>\n",
       "      <td>0.137101</td>\n",
       "      <td>-0.255934</td>\n",
       "      <td>0.241903</td>\n",
       "    </tr>\n",
       "    <tr>\n",
       "      <td>DepartureMn</td>\n",
       "      <td>0.143440</td>\n",
       "      <td>0.137981</td>\n",
       "      <td>0.084260</td>\n",
       "      <td>0.134118</td>\n",
       "      <td>-0.017742</td>\n",
       "      <td>-0.135574</td>\n",
       "      <td>-0.039249</td>\n",
       "      <td>-0.023069</td>\n",
       "      <td>-0.106228</td>\n",
       "      <td>0.151307</td>\n",
       "      <td>0.018435</td>\n",
       "      <td>1.000000</td>\n",
       "      <td>-0.005070</td>\n",
       "      <td>0.005410</td>\n",
       "      <td>-0.133648</td>\n",
       "      <td>0.047912</td>\n",
       "      <td>-0.024376</td>\n",
       "    </tr>\n",
       "    <tr>\n",
       "      <td>NoTransport</td>\n",
       "      <td>-0.214292</td>\n",
       "      <td>-0.286033</td>\n",
       "      <td>0.051883</td>\n",
       "      <td>0.068010</td>\n",
       "      <td>0.045991</td>\n",
       "      <td>0.059433</td>\n",
       "      <td>0.130409</td>\n",
       "      <td>0.040517</td>\n",
       "      <td>0.032684</td>\n",
       "      <td>-0.073917</td>\n",
       "      <td>-0.050690</td>\n",
       "      <td>-0.005070</td>\n",
       "      <td>1.000000</td>\n",
       "      <td>-0.038991</td>\n",
       "      <td>0.008153</td>\n",
       "      <td>0.101096</td>\n",
       "      <td>0.091595</td>\n",
       "    </tr>\n",
       "    <tr>\n",
       "      <td>ModeTransport</td>\n",
       "      <td>-0.116459</td>\n",
       "      <td>-0.109913</td>\n",
       "      <td>-0.004877</td>\n",
       "      <td>-0.009749</td>\n",
       "      <td>0.017164</td>\n",
       "      <td>-0.063131</td>\n",
       "      <td>0.069280</td>\n",
       "      <td>0.076398</td>\n",
       "      <td>-0.106863</td>\n",
       "      <td>0.065505</td>\n",
       "      <td>-0.073524</td>\n",
       "      <td>0.005410</td>\n",
       "      <td>-0.038991</td>\n",
       "      <td>1.000000</td>\n",
       "      <td>0.326279</td>\n",
       "      <td>-0.013727</td>\n",
       "      <td>-0.026919</td>\n",
       "    </tr>\n",
       "    <tr>\n",
       "      <td>AccessCost</td>\n",
       "      <td>0.047606</td>\n",
       "      <td>0.094264</td>\n",
       "      <td>-0.095429</td>\n",
       "      <td>-0.044746</td>\n",
       "      <td>0.027103</td>\n",
       "      <td>-0.022530</td>\n",
       "      <td>-0.132589</td>\n",
       "      <td>0.021498</td>\n",
       "      <td>-0.061848</td>\n",
       "      <td>-0.083393</td>\n",
       "      <td>0.137101</td>\n",
       "      <td>-0.133648</td>\n",
       "      <td>0.008153</td>\n",
       "      <td>0.326279</td>\n",
       "      <td>1.000000</td>\n",
       "      <td>-0.053210</td>\n",
       "      <td>-0.001425</td>\n",
       "    </tr>\n",
       "    <tr>\n",
       "      <td>Occupation</td>\n",
       "      <td>-0.002649</td>\n",
       "      <td>-0.061686</td>\n",
       "      <td>0.021067</td>\n",
       "      <td>-0.080993</td>\n",
       "      <td>0.181474</td>\n",
       "      <td>0.122294</td>\n",
       "      <td>0.209465</td>\n",
       "      <td>-0.034853</td>\n",
       "      <td>0.083037</td>\n",
       "      <td>-0.049717</td>\n",
       "      <td>-0.255934</td>\n",
       "      <td>0.047912</td>\n",
       "      <td>0.101096</td>\n",
       "      <td>-0.013727</td>\n",
       "      <td>-0.053210</td>\n",
       "      <td>1.000000</td>\n",
       "      <td>-0.382534</td>\n",
       "    </tr>\n",
       "    <tr>\n",
       "      <td>Mileage</td>\n",
       "      <td>-0.081663</td>\n",
       "      <td>-0.027992</td>\n",
       "      <td>-0.116497</td>\n",
       "      <td>0.105715</td>\n",
       "      <td>-0.184217</td>\n",
       "      <td>0.056359</td>\n",
       "      <td>-0.170960</td>\n",
       "      <td>-0.529149</td>\n",
       "      <td>-0.093094</td>\n",
       "      <td>0.052439</td>\n",
       "      <td>0.241903</td>\n",
       "      <td>-0.024376</td>\n",
       "      <td>0.091595</td>\n",
       "      <td>-0.026919</td>\n",
       "      <td>-0.001425</td>\n",
       "      <td>-0.382534</td>\n",
       "      <td>1.000000</td>\n",
       "    </tr>\n",
       "  </tbody>\n",
       "</table>\n",
       "</div>"
      ],
      "text/plain": [
       "                       ID   Airport   Airline       Age    Gender  \\\n",
       "ID               1.000000  0.867107  0.111385 -0.125416  0.087782   \n",
       "Airport          0.867107  1.000000  0.105925 -0.124091  0.023054   \n",
       "Airline          0.111385  0.105925  1.000000  0.097960  0.019785   \n",
       "Age             -0.125416 -0.124091  0.097960  1.000000 -0.125021   \n",
       "Gender           0.087782  0.023054  0.019785 -0.125021  1.000000   \n",
       "Nationality     -0.175865 -0.191463 -0.140291 -0.106373  0.033680   \n",
       "TripPurpose     -0.121962 -0.194533  0.066928 -0.094697  0.329430   \n",
       "TripDuration    -0.095065 -0.117686 -0.030041 -0.044260  0.059541   \n",
       "FlyingCompanion  0.057112  0.035756 -0.126740 -0.215130  0.115687   \n",
       "GroupTravel     -0.040098  0.046007  0.142497  0.187992 -0.146452   \n",
       "NoTripsLastYear -0.016172  0.047009 -0.008137  0.138115 -0.189146   \n",
       "DepartureMn      0.143440  0.137981  0.084260  0.134118 -0.017742   \n",
       "NoTransport     -0.214292 -0.286033  0.051883  0.068010  0.045991   \n",
       "ModeTransport   -0.116459 -0.109913 -0.004877 -0.009749  0.017164   \n",
       "AccessCost       0.047606  0.094264 -0.095429 -0.044746  0.027103   \n",
       "Occupation      -0.002649 -0.061686  0.021067 -0.080993  0.181474   \n",
       "Mileage         -0.081663 -0.027992 -0.116497  0.105715 -0.184217   \n",
       "\n",
       "                 Nationality  TripPurpose  TripDuration  FlyingCompanion  \\\n",
       "ID                 -0.175865    -0.121962     -0.095065         0.057112   \n",
       "Airport            -0.191463    -0.194533     -0.117686         0.035756   \n",
       "Airline            -0.140291     0.066928     -0.030041        -0.126740   \n",
       "Age                -0.106373    -0.094697     -0.044260        -0.215130   \n",
       "Gender              0.033680     0.329430      0.059541         0.115687   \n",
       "Nationality         1.000000     0.171705      0.058189         0.121258   \n",
       "TripPurpose         0.171705     1.000000      0.171585         0.188217   \n",
       "TripDuration        0.058189     0.171585      1.000000         0.025162   \n",
       "FlyingCompanion     0.121258     0.188217      0.025162         1.000000   \n",
       "GroupTravel        -0.170417    -0.254063     -0.009819        -0.494095   \n",
       "NoTripsLastYear    -0.097842    -0.349952      0.007921        -0.164499   \n",
       "DepartureMn        -0.135574    -0.039249     -0.023069        -0.106228   \n",
       "NoTransport         0.059433     0.130409      0.040517         0.032684   \n",
       "ModeTransport      -0.063131     0.069280      0.076398        -0.106863   \n",
       "AccessCost         -0.022530    -0.132589      0.021498        -0.061848   \n",
       "Occupation          0.122294     0.209465     -0.034853         0.083037   \n",
       "Mileage             0.056359    -0.170960     -0.529149        -0.093094   \n",
       "\n",
       "                 GroupTravel  NoTripsLastYear  DepartureMn  NoTransport  \\\n",
       "ID                 -0.040098        -0.016172     0.143440    -0.214292   \n",
       "Airport             0.046007         0.047009     0.137981    -0.286033   \n",
       "Airline             0.142497        -0.008137     0.084260     0.051883   \n",
       "Age                 0.187992         0.138115     0.134118     0.068010   \n",
       "Gender             -0.146452        -0.189146    -0.017742     0.045991   \n",
       "Nationality        -0.170417        -0.097842    -0.135574     0.059433   \n",
       "TripPurpose        -0.254063        -0.349952    -0.039249     0.130409   \n",
       "TripDuration       -0.009819         0.007921    -0.023069     0.040517   \n",
       "FlyingCompanion    -0.494095        -0.164499    -0.106228     0.032684   \n",
       "GroupTravel         1.000000         0.194228     0.151307    -0.073917   \n",
       "NoTripsLastYear     0.194228         1.000000     0.018435    -0.050690   \n",
       "DepartureMn         0.151307         0.018435     1.000000    -0.005070   \n",
       "NoTransport        -0.073917        -0.050690    -0.005070     1.000000   \n",
       "ModeTransport       0.065505        -0.073524     0.005410    -0.038991   \n",
       "AccessCost         -0.083393         0.137101    -0.133648     0.008153   \n",
       "Occupation         -0.049717        -0.255934     0.047912     0.101096   \n",
       "Mileage             0.052439         0.241903    -0.024376     0.091595   \n",
       "\n",
       "                 ModeTransport  AccessCost  Occupation   Mileage  \n",
       "ID                   -0.116459    0.047606   -0.002649 -0.081663  \n",
       "Airport              -0.109913    0.094264   -0.061686 -0.027992  \n",
       "Airline              -0.004877   -0.095429    0.021067 -0.116497  \n",
       "Age                  -0.009749   -0.044746   -0.080993  0.105715  \n",
       "Gender                0.017164    0.027103    0.181474 -0.184217  \n",
       "Nationality          -0.063131   -0.022530    0.122294  0.056359  \n",
       "TripPurpose           0.069280   -0.132589    0.209465 -0.170960  \n",
       "TripDuration          0.076398    0.021498   -0.034853 -0.529149  \n",
       "FlyingCompanion      -0.106863   -0.061848    0.083037 -0.093094  \n",
       "GroupTravel           0.065505   -0.083393   -0.049717  0.052439  \n",
       "NoTripsLastYear      -0.073524    0.137101   -0.255934  0.241903  \n",
       "DepartureMn           0.005410   -0.133648    0.047912 -0.024376  \n",
       "NoTransport          -0.038991    0.008153    0.101096  0.091595  \n",
       "ModeTransport         1.000000    0.326279   -0.013727 -0.026919  \n",
       "AccessCost            0.326279    1.000000   -0.053210 -0.001425  \n",
       "Occupation           -0.013727   -0.053210    1.000000 -0.382534  \n",
       "Mileage              -0.026919   -0.001425   -0.382534  1.000000  "
      ]
     },
     "execution_count": 40,
     "metadata": {},
     "output_type": "execute_result"
    }
   ],
   "source": [
    "df_plot.corr()"
   ]
  },
  {
   "cell_type": "code",
   "execution_count": 41,
   "metadata": {},
   "outputs": [],
   "source": [
    "df_plot['Airport']=df_plot['Airport'].replace(1,'GMP')\n",
    "df_plot['Airport']=df_plot['Airport'].replace(0,'ICN')"
   ]
  },
  {
   "cell_type": "code",
   "execution_count": 42,
   "metadata": {},
   "outputs": [
    {
     "data": {
      "text/plain": [
       "<matplotlib.axes._subplots.AxesSubplot at 0x1c25ad7bd0>"
      ]
     },
     "execution_count": 42,
     "metadata": {},
     "output_type": "execute_result"
    },
    {
     "data": {
      "image/png": "[encoded data removed]",
      "text/plain": [
       "<Figure size 432x288 with 1 Axes>"
      ]
     },
     "metadata": {
      "needs_background": "light"
     },
     "output_type": "display_data"
    }
   ],
   "source": [
    "df_plot.groupby(['Airport'])['ID'].count().plot.bar()"
   ]
  },
  {
   "cell_type": "code",
   "execution_count": 43,
   "metadata": {},
   "outputs": [
    {
     "data": {
      "text/plain": [
       "<matplotlib.axes._subplots.AxesSubplot at 0x1c25bc8850>"
      ]
     },
     "execution_count": 43,
     "metadata": {},
     "output_type": "execute_result"
    },
    {
     "data": {
      "image/png": "[encoded data removed]",
      "text/plain": [
       "<Figure size 432x288 with 1 Axes>"
      ]
     },
     "metadata": {
      "needs_background": "light"
     },
     "output_type": "display_data"
    }
   ],
   "source": [
    "df_plot.groupby(['Airport','Airline'])['ID'].count().unstack('Airport').plot.bar()"
   ]
  },
  {
   "cell_type": "code",
   "execution_count": 44,
   "metadata": {},
   "outputs": [
    {
     "data": {
      "image/png": "[encoded data removed]",
      "text/plain": [
       "<Figure size 432x288 with 1 Axes>"
      ]
     },
     "metadata": {
      "needs_background": "light"
     },
     "output_type": "display_data"
    }
   ],
   "source": [
    "sns.regplot(x=\"ID\", y=\"Age\", data=df);\n",
    "plt.show()"
   ]
  },
  {
   "cell_type": "code",
   "execution_count": 45,
   "metadata": {},
   "outputs": [
    {
     "data": {
      "text/plain": [
       "<matplotlib.axes._subplots.AxesSubplot at 0x1c25e3e810>"
      ]
     },
     "execution_count": 45,
     "metadata": {},
     "output_type": "execute_result"
    },
    {
     "data": {
      "image/png": "[encoded data removed]",
      "text/plain": [
       "<Figure size 432x288 with 1 Axes>"
      ]
     },
     "metadata": {
      "needs_background": "light"
     },
     "output_type": "display_data"
    }
   ],
   "source": [
    "# Recategory Age\n",
    "#df_clean['Age']=np.where(df_clean['Age'] < 60,1,0)\n",
    "df_plot['Age']=df_plot['Age'].replace(1,'< 60')\n",
    "df_plot['Age']=df_plot['Age'].replace(0,'>= 60')\n",
    "a = df_plot.groupby(['Age'])['ID'].count()\n",
    "\n",
    "a.plot.bar()"
   ]
  },
  {
   "cell_type": "code",
   "execution_count": 46,
   "metadata": {},
   "outputs": [],
   "source": [
    "df_plot['Destination'] = df_plot['Destination'].replace('0', 'China')\n",
    "df_plot['Destination'] = df_plot['Destination'].replace('1', 'Japan')\n",
    "df_plot['Destination'] = df_plot['Destination'].replace('2', 'Southeast Asia')\n",
    "df_plot['Destination'] = df_plot['Destination'].replace('3', 'Other')"
   ]
  },
  {
   "cell_type": "code",
   "execution_count": 47,
   "metadata": {},
   "outputs": [
    {
     "data": {
      "text/plain": [
       "<matplotlib.axes._subplots.AxesSubplot at 0x1c25f0f4d0>"
      ]
     },
     "execution_count": 47,
     "metadata": {},
     "output_type": "execute_result"
    },
    {
     "data": {
      "image/png": "[encoded data removed]",
      "text/plain": [
       "<Figure size 432x288 with 1 Axes>"
      ]
     },
     "metadata": {
      "needs_background": "light"
     },
     "output_type": "display_data"
    }
   ],
   "source": [
    "df_plot.groupby(['Airport','Destination'])['ID'].count().unstack('Airport').plot.bar()"
   ]
  },
  {
   "cell_type": "code",
   "execution_count": 48,
   "metadata": {},
   "outputs": [
    {
     "data": {
      "text/plain": [
       "<matplotlib.axes._subplots.AxesSubplot at 0x1c25e07e50>"
      ]
     },
     "execution_count": 48,
     "metadata": {},
     "output_type": "execute_result"
    },
    {
     "data": {
      "image/png": "[encoded data removed]",
      "text/plain": [
       "<Figure size 432x288 with 1 Axes>"
      ]
     },
     "metadata": {
      "needs_background": "light"
     },
     "output_type": "display_data"
    }
   ],
   "source": [
    "# Nationality, Airport\n",
    "df2.groupby(['Airport_cat','Nationality'])['ID'].count().unstack('Airport_cat').plot.bar()"
   ]
  },
  {
   "cell_type": "code",
   "execution_count": 49,
   "metadata": {},
   "outputs": [
    {
     "data": {
      "text/plain": [
       "<matplotlib.axes._subplots.AxesSubplot at 0x1c26016210>"
      ]
     },
     "execution_count": 49,
     "metadata": {},
     "output_type": "execute_result"
    },
    {
     "data": {
      "image/png": "[encoded data removed]",
      "text/plain": [
       "<Figure size 432x288 with 1 Axes>"
      ]
     },
     "metadata": {
      "needs_background": "light"
     },
     "output_type": "display_data"
    }
   ],
   "source": [
    "# Nationality, Airline\n",
    "df2.groupby(['Airline_cat','Nationality'])['ID'].count().unstack('Airline_cat').plot.bar()"
   ]
  },
  {
   "cell_type": "code",
   "execution_count": 50,
   "metadata": {},
   "outputs": [
    {
     "data": {
      "text/plain": [
       "<matplotlib.axes._subplots.AxesSubplot at 0x1c26271e10>"
      ]
     },
     "execution_count": 50,
     "metadata": {},
     "output_type": "execute_result"
    },
    {
     "data": {
      "image/png": "[encoded data removed]",
      "text/plain": [
       "<Figure size 432x288 with 1 Axes>"
      ]
     },
     "metadata": {
      "needs_background": "light"
     },
     "output_type": "display_data"
    }
   ],
   "source": [
    "# Nationality & Airport\n",
    "df_plot.loc[df_plot['Nationality']==1,'Nationality'] ='Korean'\n",
    "df_plot.loc[df_plot['Nationality']==0,'Nationality'] ='Non-Korean'\n",
    "\n",
    "df_plot.groupby(['Airport','Nationality'])['ID'].count().unstack('Airport').plot.bar()\n"
   ]
  },
  {
   "cell_type": "code",
   "execution_count": 51,
   "metadata": {},
   "outputs": [
    {
     "data": {
      "text/plain": [
       "<matplotlib.axes._subplots.AxesSubplot at 0x1c2638dad0>"
      ]
     },
     "execution_count": 51,
     "metadata": {},
     "output_type": "execute_result"
    },
    {
     "data": {
      "image/png": "[encoded data removed]",
      "text/plain": [
       "<Figure size 432x288 with 1 Axes>"
      ]
     },
     "metadata": {
      "needs_background": "light"
     },
     "output_type": "display_data"
    }
   ],
   "source": [
    "# Nationality & Airline\n",
    "df_plot.loc[df_plot['Nationality']==1,'Nationality'] ='Korean'\n",
    "df_plot.loc[df_plot['Nationality']==0,'Nationality'] ='Non-Korean'\n",
    "df_clean.groupby(['Airline','Nationality'])['ID'].count().unstack('Airline').plot.bar()"
   ]
  },
  {
   "cell_type": "code",
   "execution_count": 52,
   "metadata": {},
   "outputs": [
    {
     "data": {
      "text/plain": [
       "<matplotlib.axes._subplots.AxesSubplot at 0x1c2649d050>"
      ]
     },
     "execution_count": 52,
     "metadata": {},
     "output_type": "execute_result"
    },
    {
     "data": {
      "image/png": "[encoded data removed]",
      "text/plain": [
       "<Figure size 432x288 with 1 Axes>"
      ]
     },
     "metadata": {
      "needs_background": "light"
     },
     "output_type": "display_data"
    }
   ],
   "source": [
    "# Trippurpose & Airport\n",
    "df2.groupby(['Airport_cat','TripPurpose'])['ID'].count().unstack('Airport_cat').plot.bar()"
   ]
  },
  {
   "cell_type": "code",
   "execution_count": 53,
   "metadata": {},
   "outputs": [
    {
     "data": {
      "text/plain": [
       "<matplotlib.axes._subplots.AxesSubplot at 0x1c26594750>"
      ]
     },
     "execution_count": 53,
     "metadata": {},
     "output_type": "execute_result"
    },
    {
     "data": {
      "image/png": "[encoded data removed]",
      "text/plain": [
       "<Figure size 432x288 with 1 Axes>"
      ]
     },
     "metadata": {
      "needs_background": "light"
     },
     "output_type": "display_data"
    }
   ],
   "source": [
    "# Trippurpose & Airline\n",
    "df2.groupby(['Airline_cat','TripPurpose'])['ID'].count().unstack('Airline_cat').plot.bar()"
   ]
  },
  {
   "cell_type": "code",
   "execution_count": 54,
   "metadata": {},
   "outputs": [
    {
     "data": {
      "text/plain": [
       "<matplotlib.axes._subplots.AxesSubplot at 0x1a228cef50>"
      ]
     },
     "execution_count": 54,
     "metadata": {},
     "output_type": "execute_result"
    },
    {
     "data": {
      "image/png": "[encoded data removed]",
      "text/plain": [
       "<Figure size 432x288 with 1 Axes>"
      ]
     },
     "metadata": {
      "needs_background": "light"
     },
     "output_type": "display_data"
    }
   ],
   "source": [
    "# Trippurpose & Airport\n",
    "df_plot['TripPurpose']=df_plot['TripPurpose'].replace(1,'Leisure')\n",
    "df_plot['TripPurpose']=df_plot['TripPurpose'].replace(0,'Non-Leisure')\n",
    "\n",
    "df_plot.groupby(['Airport','TripPurpose'])['ID'].count().unstack('Airport').plot.bar()"
   ]
  },
  {
   "cell_type": "code",
   "execution_count": 55,
   "metadata": {},
   "outputs": [
    {
     "data": {
      "text/plain": [
       "<matplotlib.axes._subplots.AxesSubplot at 0x1c267e8c90>"
      ]
     },
     "execution_count": 55,
     "metadata": {},
     "output_type": "execute_result"
    },
    {
     "data": {
      "image/png": "[encoded data removed]",
      "text/plain": [
       "<Figure size 432x288 with 1 Axes>"
      ]
     },
     "metadata": {
      "needs_background": "light"
     },
     "output_type": "display_data"
    }
   ],
   "source": [
    "# Trippurpose & Airline\n",
    "df_plot.groupby(['Airline','TripPurpose'])['ID'].count().unstack('Airline').plot.bar()"
   ]
  },
  {
   "cell_type": "code",
   "execution_count": 56,
   "metadata": {},
   "outputs": [
    {
     "data": {
      "text/plain": [
       "<matplotlib.axes._subplots.AxesSubplot at 0x1c268e7050>"
      ]
     },
     "execution_count": 56,
     "metadata": {},
     "output_type": "execute_result"
    },
    {
     "data": {
      "image/png": "[encoded data removed]",
      "text/plain": [
       "<Figure size 432x288 with 1 Axes>"
      ]
     },
     "metadata": {
      "needs_background": "light"
     },
     "output_type": "display_data"
    }
   ],
   "source": [
    "# Airport, ProvinceResidence\n",
    "df2.groupby(['Airport','ProvinceResidence'])['ID'].count().unstack('Airport').plot.bar()"
   ]
  },
  {
   "cell_type": "code",
   "execution_count": 57,
   "metadata": {},
   "outputs": [
    {
     "data": {
      "text/plain": [
       "<matplotlib.axes._subplots.AxesSubplot at 0x1c269fb6d0>"
      ]
     },
     "execution_count": 57,
     "metadata": {},
     "output_type": "execute_result"
    },
    {
     "data": {
      "image/png": "[encoded data removed]",
      "text/plain": [
       "<Figure size 432x288 with 1 Axes>"
      ]
     },
     "metadata": {
      "needs_background": "light"
     },
     "output_type": "display_data"
    }
   ],
   "source": [
    "# ProvinceResidence & Airport\n",
    "df_plot.groupby(['Airport','ProvinceResidence'])['ID'].count().unstack('Airport').plot.bar()"
   ]
  },
  {
   "cell_type": "code",
   "execution_count": 58,
   "metadata": {},
   "outputs": [
    {
     "data": {
      "text/plain": [
       "<matplotlib.axes._subplots.AxesSubplot at 0x1c26b22610>"
      ]
     },
     "execution_count": 58,
     "metadata": {},
     "output_type": "execute_result"
    },
    {
     "data": {
      "image/png": "[encoded data removed]",
      "text/plain": [
       "<Figure size 432x288 with 1 Axes>"
      ]
     },
     "metadata": {
      "needs_background": "light"
     },
     "output_type": "display_data"
    }
   ],
   "source": [
    "# ProvinceResidence & Airline\n",
    "df_plot.groupby(['Airline','ProvinceResidence'])['ID'].count().unstack('Airline').plot.bar()"
   ]
  },
  {
   "cell_type": "code",
   "execution_count": 59,
   "metadata": {},
   "outputs": [
    {
     "data": {
      "text/plain": [
       "<matplotlib.axes._subplots.AxesSubplot at 0x1c26c25b50>"
      ]
     },
     "execution_count": 59,
     "metadata": {},
     "output_type": "execute_result"
    },
    {
     "data": {
      "image/png": "[encoded data removed]",
      "text/plain": [
       "<Figure size 432x288 with 1 Axes>"
      ]
     },
     "metadata": {
      "needs_background": "light"
     },
     "output_type": "display_data"
    }
   ],
   "source": [
    "df2.groupby(['Airport_cat','DepartureTime'])['ID'].count().unstack('Airport_cat').plot.bar()"
   ]
  },
  {
   "cell_type": "code",
   "execution_count": 60,
   "metadata": {},
   "outputs": [
    {
     "data": {
      "image/png": "[encoded data removed]",
      "text/plain": [
       "<Figure size 432x288 with 1 Axes>"
      ]
     },
     "metadata": {
      "needs_background": "light"
     },
     "output_type": "display_data"
    }
   ],
   "source": [
    "sns.regplot(x=\"ID\", y=\"AccessTime\", data=df2);\n",
    "plt.show()"
   ]
  },
  {
   "cell_type": "code",
   "execution_count": 61,
   "metadata": {},
   "outputs": [
    {
     "data": {
      "text/plain": [
       "<matplotlib.axes._subplots.AxesSubplot at 0x1c26e196d0>"
      ]
     },
     "execution_count": 61,
     "metadata": {},
     "output_type": "execute_result"
    },
    {
     "data": {
      "image/png": "[encoded data removed]",
      "text/plain": [
       "<Figure size 432x288 with 1 Axes>"
      ]
     },
     "metadata": {
      "needs_background": "light"
     },
     "output_type": "display_data"
    }
   ],
   "source": [
    "# AccessTime regroup\n",
    "df_plot['AccessTime']=df_plot['AccessTime'].replace('0','0-60')\n",
    "df_plot['AccessTime']=df_plot['AccessTime'].replace('1','> 60')\n",
    "df_plot['AccessTime']=df_plot['AccessTime'].replace('2','Unknown')\n",
    "\n",
    "df_plot.groupby(['AccessTime'])['ID'].count().plot.bar()\n"
   ]
  },
  {
   "cell_type": "code",
   "execution_count": 62,
   "metadata": {},
   "outputs": [
    {
     "data": {
      "image/png": "[encoded data removed]",
      "text/plain": [
       "<Figure size 432x288 with 1 Axes>"
      ]
     },
     "metadata": {
      "needs_background": "light"
     },
     "output_type": "display_data"
    }
   ],
   "source": [
    "sns.regplot(x=\"ID\", y=\"Airfare\", data=df2);\n",
    "plt.show()"
   ]
  },
  {
   "cell_type": "code",
   "execution_count": 63,
   "metadata": {},
   "outputs": [
    {
     "data": {
      "text/plain": [
       "<matplotlib.axes._subplots.AxesSubplot at 0x1c26fdc9d0>"
      ]
     },
     "execution_count": 63,
     "metadata": {},
     "output_type": "execute_result"
    },
    {
     "data": {
      "image/png": "[encoded data removed]",
      "text/plain": [
       "<Figure size 432x288 with 1 Axes>"
      ]
     },
     "metadata": {
      "needs_background": "light"
     },
     "output_type": "display_data"
    }
   ],
   "source": [
    "# acssesstime regroup\n",
    "df_plot['Airfare']=df_plot['Airfare'].replace('0','0-50')\n",
    "df_plot['Airfare']=df_plot['Airfare'].replace('1','50-100')\n",
    "df_plot['Airfare']=df_plot['Airfare'].replace('2','> 100')\n",
    "df_plot['Airfare']=df_plot['Airfare'].replace('3','Unknown')\n",
    "\n",
    "\n",
    "df_plot.groupby(['Airfare'])['ID'].count().plot.bar()"
   ]
  },
  {
   "cell_type": "code",
   "execution_count": 64,
   "metadata": {},
   "outputs": [
    {
     "data": {
      "image/png": "[encoded data removed]",
      "text/plain": [
       "<Figure size 432x288 with 1 Axes>"
      ]
     },
     "metadata": {
      "needs_background": "light"
     },
     "output_type": "display_data"
    }
   ],
   "source": [
    "sns.regplot(x=\"ID\", y=\"NoTripsLastYear\", data=df2);\n",
    "plt.show()"
   ]
  },
  {
   "cell_type": "code",
   "execution_count": 65,
   "metadata": {},
   "outputs": [
    {
     "data": {
      "text/plain": [
       "<matplotlib.axes._subplots.AxesSubplot at 0x1c25df5790>"
      ]
     },
     "execution_count": 65,
     "metadata": {},
     "output_type": "execute_result"
    },
    {
     "data": {
      "image/png": "[encoded data removed]",
      "text/plain": [
       "<Figure size 432x288 with 1 Axes>"
      ]
     },
     "metadata": {
      "needs_background": "light"
     },
     "output_type": "display_data"
    }
   ],
   "source": [
    "df2.groupby(['Airport_cat','Gender'])['ID'].count().unstack('Airport_cat').plot.bar()"
   ]
  },
  {
   "cell_type": "code",
   "execution_count": 66,
   "metadata": {},
   "outputs": [
    {
     "data": {
      "text/plain": [
       "<matplotlib.axes._subplots.AxesSubplot at 0x1c26f12750>"
      ]
     },
     "execution_count": 66,
     "metadata": {},
     "output_type": "execute_result"
    },
    {
     "data": {
      "image/png": "[encoded data removed]",
      "text/plain": [
       "<Figure size 432x288 with 1 Axes>"
      ]
     },
     "metadata": {
      "needs_background": "light"
     },
     "output_type": "display_data"
    }
   ],
   "source": [
    "# Airport, Occupation\n",
    "df2.groupby(['Airport_cat','Occupation'])['ID'].count().unstack('Airport_cat').plot.bar()"
   ]
  },
  {
   "cell_type": "code",
   "execution_count": 67,
   "metadata": {},
   "outputs": [
    {
     "data": {
      "text/plain": [
       "<matplotlib.axes._subplots.AxesSubplot at 0x1c26e61fd0>"
      ]
     },
     "execution_count": 67,
     "metadata": {},
     "output_type": "execute_result"
    },
    {
     "data": {
      "image/png": "[encoded data removed]",
      "text/plain": [
       "<Figure size 432x288 with 1 Axes>"
      ]
     },
     "metadata": {
      "needs_background": "light"
     },
     "output_type": "display_data"
    }
   ],
   "source": [
    "# Airline, Occupation\n",
    "df2.groupby(['Airline_cat','Occupation'])['ID'].count().unstack('Airline_cat').plot.bar()"
   ]
  },
  {
   "cell_type": "code",
   "execution_count": 68,
   "metadata": {},
   "outputs": [
    {
     "data": {
      "text/plain": [
       "<matplotlib.axes._subplots.AxesSubplot at 0x1c267e0e50>"
      ]
     },
     "execution_count": 68,
     "metadata": {},
     "output_type": "execute_result"
    },
    {
     "data": {
      "image/png": "[encoded data removed]",
      "text/plain": [
       "<Figure size 432x288 with 1 Axes>"
      ]
     },
     "metadata": {
      "needs_background": "light"
     },
     "output_type": "display_data"
    }
   ],
   "source": [
    "# Occupation & Airport\n",
    "df_plot['Occupation']=df_plot['Occupation'].replace(1,'Entrepreneur/Sr.mgmt')\n",
    "df_plot['Occupation']=df_plot['Occupation'].replace(0,'Others')\n",
    "\n",
    "df_plot.groupby(['Airport','Occupation'])['ID'].count().unstack('Airport').plot.bar()"
   ]
  },
  {
   "cell_type": "code",
   "execution_count": 69,
   "metadata": {},
   "outputs": [
    {
     "data": {
      "text/plain": [
       "<matplotlib.axes._subplots.AxesSubplot at 0x1c2740ee50>"
      ]
     },
     "execution_count": 69,
     "metadata": {},
     "output_type": "execute_result"
    },
    {
     "data": {
      "image/png": "[encoded data removed]",
      "text/plain": [
       "<Figure size 432x288 with 1 Axes>"
      ]
     },
     "metadata": {
      "needs_background": "light"
     },
     "output_type": "display_data"
    }
   ],
   "source": [
    "# Occupation & Airline\n",
    "df_plot.groupby(['Airline','Occupation'])['ID'].count().unstack('Airline').plot.bar()"
   ]
  },
  {
   "cell_type": "code",
   "execution_count": 70,
   "metadata": {},
   "outputs": [
    {
     "data": {
      "image/png": "[encoded data removed]",
      "text/plain": [
       "<Figure size 432x288 with 1 Axes>"
      ]
     },
     "metadata": {
      "needs_background": "light"
     },
     "output_type": "display_data"
    }
   ],
   "source": [
    "# TripDuration \n",
    "sns.regplot(x=\"ID\", y=\"TripDuration\", data=df2);\n",
    "plt.show()"
   ]
  },
  {
   "cell_type": "code",
   "execution_count": 71,
   "metadata": {},
   "outputs": [
    {
     "data": {
      "text/plain": [
       "<matplotlib.axes._subplots.AxesSubplot at 0x1c27636d90>"
      ]
     },
     "execution_count": 71,
     "metadata": {},
     "output_type": "execute_result"
    },
    {
     "data": {
      "image/png": "[encoded data removed]",
      "text/plain": [
       "<Figure size 432x288 with 1 Axes>"
      ]
     },
     "metadata": {
      "needs_background": "light"
     },
     "output_type": "display_data"
    }
   ],
   "source": [
    "# TripDuration & Airport\n",
    "df_plot['TripDuration']=df_plot['TripDuration'].replace(1,'One-Day')\n",
    "df_plot['TripDuration']=df_plot['TripDuration'].replace(0,'Multi-Day')\n",
    "df_plot.groupby(['TripDuration'])['ID'].count().plot.bar()"
   ]
  },
  {
   "cell_type": "code",
   "execution_count": 72,
   "metadata": {},
   "outputs": [
    {
     "data": {
      "text/plain": [
       "<matplotlib.axes._subplots.AxesSubplot at 0x1c27701ad0>"
      ]
     },
     "execution_count": 72,
     "metadata": {},
     "output_type": "execute_result"
    },
    {
     "data": {
      "image/png": "[encoded data removed]",
      "text/plain": [
       "<Figure size 432x288 with 1 Axes>"
      ]
     },
     "metadata": {
      "needs_background": "light"
     },
     "output_type": "display_data"
    }
   ],
   "source": [
    "# NoTripsLastYear & Airport\n",
    "df_plot['NoTripsLastYear']=df_plot['NoTripsLastYear'].replace(1,'>= 3 times')\n",
    "df_plot['NoTripsLastYear']=df_plot['NoTripsLastYear'].replace(0,'< 3 times')\n",
    "df_plot.groupby(['NoTripsLastYear'])['ID'].count().plot.bar()\n"
   ]
  },
  {
   "cell_type": "code",
   "execution_count": 73,
   "metadata": {},
   "outputs": [
    {
     "data": {
      "text/plain": [
       "<matplotlib.axes._subplots.AxesSubplot at 0x1c277c55d0>"
      ]
     },
     "execution_count": 73,
     "metadata": {},
     "output_type": "execute_result"
    },
    {
     "data": {
      "image/png": "[encoded data removed]",
      "text/plain": [
       "<Figure size 432x288 with 1 Axes>"
      ]
     },
     "metadata": {
      "needs_background": "light"
     },
     "output_type": "display_data"
    }
   ],
   "source": [
    "# Airport, Income\n",
    "df2.groupby(['Airport_cat','Income'])['ID'].count().unstack('Airport_cat').plot.bar()"
   ]
  },
  {
   "cell_type": "code",
   "execution_count": 74,
   "metadata": {},
   "outputs": [
    {
     "data": {
      "text/plain": [
       "<matplotlib.axes._subplots.AxesSubplot at 0x1c27628810>"
      ]
     },
     "execution_count": 74,
     "metadata": {},
     "output_type": "execute_result"
    },
    {
     "data": {
      "image/png": "[encoded data removed]",
      "text/plain": [
       "<Figure size 432x288 with 1 Axes>"
      ]
     },
     "metadata": {
      "needs_background": "light"
     },
     "output_type": "display_data"
    }
   ],
   "source": [
    "# Airline, Income\n",
    "df2.groupby(['Airline_cat','Income'])['ID'].count().unstack('Airline_cat').plot.bar()"
   ]
  },
  {
   "cell_type": "code",
   "execution_count": 75,
   "metadata": {},
   "outputs": [
    {
     "data": {
      "text/plain": [
       "<matplotlib.axes._subplots.AxesSubplot at 0x1c27a0e410>"
      ]
     },
     "execution_count": 75,
     "metadata": {},
     "output_type": "execute_result"
    },
    {
     "data": {
      "image/png": "[encoded data removed]",
      "text/plain": [
       "<Figure size 432x288 with 1 Axes>"
      ]
     },
     "metadata": {
      "needs_background": "light"
     },
     "output_type": "display_data"
    }
   ],
   "source": [
    "# Income & Airport\n",
    "df_plot['Income']=df_plot['Income'].replace('0','<= 100M')\n",
    "df_plot['Income']=df_plot['Income'].replace('1','100M - 200M')\n",
    "df_plot['Income']=df_plot['Income'].replace('2','>= 200M')\n",
    "df_plot['Income']=df_plot['Income'].replace('3','Unknown')\n",
    "\n",
    "df_plot.groupby(['Airport','Income'])['ID'].count().unstack('Airport').plot.bar()"
   ]
  },
  {
   "cell_type": "code",
   "execution_count": 76,
   "metadata": {},
   "outputs": [
    {
     "data": {
      "text/plain": [
       "<matplotlib.axes._subplots.AxesSubplot at 0x1c27b1d590>"
      ]
     },
     "execution_count": 76,
     "metadata": {},
     "output_type": "execute_result"
    },
    {
     "data": {
      "image/png": "[encoded data removed]",
      "text/plain": [
       "<Figure size 432x288 with 1 Axes>"
      ]
     },
     "metadata": {
      "needs_background": "light"
     },
     "output_type": "display_data"
    }
   ],
   "source": [
    "# Income & Airline\n",
    "df_plot.groupby(['Airline','Income'])['ID'].count().unstack('Airline').plot.bar()"
   ]
  },
  {
   "cell_type": "markdown",
   "metadata": {},
   "source": [
    "# Fit Models"
   ]
  },
  {
   "cell_type": "markdown",
   "metadata": {},
   "source": [
    "# Logit Model"
   ]
  },
  {
   "cell_type": "code",
   "execution_count": 77,
   "metadata": {},
   "outputs": [],
   "source": [
    "df_model = df_clean.iloc[:,:].copy()"
   ]
  },
  {
   "cell_type": "code",
   "execution_count": 78,
   "metadata": {
    "scrolled": true
   },
   "outputs": [],
   "source": [
    "df_model = df_model.drop(['ID','Airline','FlightNo','FlyingCompanion','DepartureHr','DepartureMn','ModeTransport','AccessCost',\n",
    "                         'MileageAirline','Mileage'],axis=1)"
   ]
  },
  {
   "cell_type": "code",
   "execution_count": 79,
   "metadata": {},
   "outputs": [],
   "source": [
    "# Convert all variable to category\n",
    "col_names = list(df_model)\n",
    "\n",
    "for col in col_names:\n",
    "    df_model[col]=df_model[col].astype('category', copy=False)"
   ]
  },
  {
   "cell_type": "code",
   "execution_count": 80,
   "metadata": {
    "scrolled": true
   },
   "outputs": [],
   "source": [
    "# get dummies\n",
    "df_model_dum = pd.get_dummies(df_model)"
   ]
  },
  {
   "cell_type": "code",
   "execution_count": 81,
   "metadata": {},
   "outputs": [
    {
     "data": {
      "text/html": [
       "<div>\n",
       "<style scoped>\n",
       "    .dataframe tbody tr th:only-of-type {\n",
       "        vertical-align: middle;\n",
       "    }\n",
       "\n",
       "    .dataframe tbody tr th {\n",
       "        vertical-align: top;\n",
       "    }\n",
       "\n",
       "    .dataframe thead th {\n",
       "        text-align: right;\n",
       "    }\n",
       "</style>\n",
       "<table border=\"1\" class=\"dataframe\">\n",
       "  <thead>\n",
       "    <tr style=\"text-align: right;\">\n",
       "      <th></th>\n",
       "      <th>Airport_0</th>\n",
       "      <th>Airport_1</th>\n",
       "      <th>Age_0</th>\n",
       "      <th>Age_1</th>\n",
       "      <th>Gender_0</th>\n",
       "      <th>Gender_1</th>\n",
       "      <th>Nationality_0</th>\n",
       "      <th>Nationality_1</th>\n",
       "      <th>TripPurpose_0</th>\n",
       "      <th>TripPurpose_1</th>\n",
       "      <th>...</th>\n",
       "      <th>Occupation_0</th>\n",
       "      <th>Occupation_1</th>\n",
       "      <th>Income_0</th>\n",
       "      <th>Income_1</th>\n",
       "      <th>Income_2</th>\n",
       "      <th>Income_3</th>\n",
       "      <th>Airline_KOR_0</th>\n",
       "      <th>Airline_KOR_1</th>\n",
       "      <th>Airline_LCC_0</th>\n",
       "      <th>Airline_LCC_1</th>\n",
       "    </tr>\n",
       "  </thead>\n",
       "  <tbody>\n",
       "    <tr>\n",
       "      <td>0</td>\n",
       "      <td>1</td>\n",
       "      <td>0</td>\n",
       "      <td>0</td>\n",
       "      <td>1</td>\n",
       "      <td>1</td>\n",
       "      <td>0</td>\n",
       "      <td>0</td>\n",
       "      <td>1</td>\n",
       "      <td>1</td>\n",
       "      <td>0</td>\n",
       "      <td>...</td>\n",
       "      <td>1</td>\n",
       "      <td>0</td>\n",
       "      <td>0</td>\n",
       "      <td>1</td>\n",
       "      <td>0</td>\n",
       "      <td>0</td>\n",
       "      <td>0</td>\n",
       "      <td>1</td>\n",
       "      <td>0</td>\n",
       "      <td>1</td>\n",
       "    </tr>\n",
       "    <tr>\n",
       "      <td>1</td>\n",
       "      <td>1</td>\n",
       "      <td>0</td>\n",
       "      <td>0</td>\n",
       "      <td>1</td>\n",
       "      <td>0</td>\n",
       "      <td>1</td>\n",
       "      <td>0</td>\n",
       "      <td>1</td>\n",
       "      <td>0</td>\n",
       "      <td>1</td>\n",
       "      <td>...</td>\n",
       "      <td>0</td>\n",
       "      <td>1</td>\n",
       "      <td>1</td>\n",
       "      <td>0</td>\n",
       "      <td>0</td>\n",
       "      <td>0</td>\n",
       "      <td>0</td>\n",
       "      <td>1</td>\n",
       "      <td>0</td>\n",
       "      <td>1</td>\n",
       "    </tr>\n",
       "    <tr>\n",
       "      <td>2</td>\n",
       "      <td>1</td>\n",
       "      <td>0</td>\n",
       "      <td>0</td>\n",
       "      <td>1</td>\n",
       "      <td>1</td>\n",
       "      <td>0</td>\n",
       "      <td>0</td>\n",
       "      <td>1</td>\n",
       "      <td>0</td>\n",
       "      <td>1</td>\n",
       "      <td>...</td>\n",
       "      <td>0</td>\n",
       "      <td>1</td>\n",
       "      <td>0</td>\n",
       "      <td>0</td>\n",
       "      <td>0</td>\n",
       "      <td>1</td>\n",
       "      <td>0</td>\n",
       "      <td>1</td>\n",
       "      <td>0</td>\n",
       "      <td>1</td>\n",
       "    </tr>\n",
       "    <tr>\n",
       "      <td>3</td>\n",
       "      <td>1</td>\n",
       "      <td>0</td>\n",
       "      <td>0</td>\n",
       "      <td>1</td>\n",
       "      <td>1</td>\n",
       "      <td>0</td>\n",
       "      <td>0</td>\n",
       "      <td>1</td>\n",
       "      <td>1</td>\n",
       "      <td>0</td>\n",
       "      <td>...</td>\n",
       "      <td>0</td>\n",
       "      <td>1</td>\n",
       "      <td>0</td>\n",
       "      <td>0</td>\n",
       "      <td>1</td>\n",
       "      <td>0</td>\n",
       "      <td>0</td>\n",
       "      <td>1</td>\n",
       "      <td>0</td>\n",
       "      <td>1</td>\n",
       "    </tr>\n",
       "    <tr>\n",
       "      <td>4</td>\n",
       "      <td>1</td>\n",
       "      <td>0</td>\n",
       "      <td>0</td>\n",
       "      <td>1</td>\n",
       "      <td>0</td>\n",
       "      <td>1</td>\n",
       "      <td>0</td>\n",
       "      <td>1</td>\n",
       "      <td>1</td>\n",
       "      <td>0</td>\n",
       "      <td>...</td>\n",
       "      <td>1</td>\n",
       "      <td>0</td>\n",
       "      <td>1</td>\n",
       "      <td>0</td>\n",
       "      <td>0</td>\n",
       "      <td>0</td>\n",
       "      <td>0</td>\n",
       "      <td>1</td>\n",
       "      <td>0</td>\n",
       "      <td>1</td>\n",
       "    </tr>\n",
       "    <tr>\n",
       "      <td>...</td>\n",
       "      <td>...</td>\n",
       "      <td>...</td>\n",
       "      <td>...</td>\n",
       "      <td>...</td>\n",
       "      <td>...</td>\n",
       "      <td>...</td>\n",
       "      <td>...</td>\n",
       "      <td>...</td>\n",
       "      <td>...</td>\n",
       "      <td>...</td>\n",
       "      <td>...</td>\n",
       "      <td>...</td>\n",
       "      <td>...</td>\n",
       "      <td>...</td>\n",
       "      <td>...</td>\n",
       "      <td>...</td>\n",
       "      <td>...</td>\n",
       "      <td>...</td>\n",
       "      <td>...</td>\n",
       "      <td>...</td>\n",
       "      <td>...</td>\n",
       "    </tr>\n",
       "    <tr>\n",
       "      <td>483</td>\n",
       "      <td>0</td>\n",
       "      <td>1</td>\n",
       "      <td>0</td>\n",
       "      <td>1</td>\n",
       "      <td>1</td>\n",
       "      <td>0</td>\n",
       "      <td>0</td>\n",
       "      <td>1</td>\n",
       "      <td>1</td>\n",
       "      <td>0</td>\n",
       "      <td>...</td>\n",
       "      <td>0</td>\n",
       "      <td>1</td>\n",
       "      <td>1</td>\n",
       "      <td>0</td>\n",
       "      <td>0</td>\n",
       "      <td>0</td>\n",
       "      <td>1</td>\n",
       "      <td>0</td>\n",
       "      <td>0</td>\n",
       "      <td>1</td>\n",
       "    </tr>\n",
       "    <tr>\n",
       "      <td>484</td>\n",
       "      <td>0</td>\n",
       "      <td>1</td>\n",
       "      <td>0</td>\n",
       "      <td>1</td>\n",
       "      <td>0</td>\n",
       "      <td>1</td>\n",
       "      <td>0</td>\n",
       "      <td>1</td>\n",
       "      <td>1</td>\n",
       "      <td>0</td>\n",
       "      <td>...</td>\n",
       "      <td>0</td>\n",
       "      <td>1</td>\n",
       "      <td>0</td>\n",
       "      <td>1</td>\n",
       "      <td>0</td>\n",
       "      <td>0</td>\n",
       "      <td>1</td>\n",
       "      <td>0</td>\n",
       "      <td>0</td>\n",
       "      <td>1</td>\n",
       "    </tr>\n",
       "    <tr>\n",
       "      <td>485</td>\n",
       "      <td>0</td>\n",
       "      <td>1</td>\n",
       "      <td>1</td>\n",
       "      <td>0</td>\n",
       "      <td>1</td>\n",
       "      <td>0</td>\n",
       "      <td>1</td>\n",
       "      <td>0</td>\n",
       "      <td>1</td>\n",
       "      <td>0</td>\n",
       "      <td>...</td>\n",
       "      <td>0</td>\n",
       "      <td>1</td>\n",
       "      <td>0</td>\n",
       "      <td>0</td>\n",
       "      <td>1</td>\n",
       "      <td>0</td>\n",
       "      <td>0</td>\n",
       "      <td>1</td>\n",
       "      <td>0</td>\n",
       "      <td>1</td>\n",
       "    </tr>\n",
       "    <tr>\n",
       "      <td>486</td>\n",
       "      <td>0</td>\n",
       "      <td>1</td>\n",
       "      <td>1</td>\n",
       "      <td>0</td>\n",
       "      <td>1</td>\n",
       "      <td>0</td>\n",
       "      <td>1</td>\n",
       "      <td>0</td>\n",
       "      <td>1</td>\n",
       "      <td>0</td>\n",
       "      <td>...</td>\n",
       "      <td>1</td>\n",
       "      <td>0</td>\n",
       "      <td>0</td>\n",
       "      <td>0</td>\n",
       "      <td>1</td>\n",
       "      <td>0</td>\n",
       "      <td>1</td>\n",
       "      <td>0</td>\n",
       "      <td>0</td>\n",
       "      <td>1</td>\n",
       "    </tr>\n",
       "    <tr>\n",
       "      <td>487</td>\n",
       "      <td>0</td>\n",
       "      <td>1</td>\n",
       "      <td>0</td>\n",
       "      <td>1</td>\n",
       "      <td>0</td>\n",
       "      <td>1</td>\n",
       "      <td>0</td>\n",
       "      <td>1</td>\n",
       "      <td>0</td>\n",
       "      <td>1</td>\n",
       "      <td>...</td>\n",
       "      <td>0</td>\n",
       "      <td>1</td>\n",
       "      <td>0</td>\n",
       "      <td>0</td>\n",
       "      <td>1</td>\n",
       "      <td>0</td>\n",
       "      <td>0</td>\n",
       "      <td>1</td>\n",
       "      <td>0</td>\n",
       "      <td>1</td>\n",
       "    </tr>\n",
       "  </tbody>\n",
       "</table>\n",
       "<p>484 rows × 65 columns</p>\n",
       "</div>"
      ],
      "text/plain": [
       "     Airport_0  Airport_1  Age_0  Age_1  Gender_0  Gender_1  Nationality_0  \\\n",
       "0            1          0      0      1         1         0              0   \n",
       "1            1          0      0      1         0         1              0   \n",
       "2            1          0      0      1         1         0              0   \n",
       "3            1          0      0      1         1         0              0   \n",
       "4            1          0      0      1         0         1              0   \n",
       "..         ...        ...    ...    ...       ...       ...            ...   \n",
       "483          0          1      0      1         1         0              0   \n",
       "484          0          1      0      1         0         1              0   \n",
       "485          0          1      1      0         1         0              1   \n",
       "486          0          1      1      0         1         0              1   \n",
       "487          0          1      0      1         0         1              0   \n",
       "\n",
       "     Nationality_1  TripPurpose_0  TripPurpose_1  ...  Occupation_0  \\\n",
       "0                1              1              0  ...             1   \n",
       "1                1              0              1  ...             0   \n",
       "2                1              0              1  ...             0   \n",
       "3                1              1              0  ...             0   \n",
       "4                1              1              0  ...             1   \n",
       "..             ...            ...            ...  ...           ...   \n",
       "483              1              1              0  ...             0   \n",
       "484              1              1              0  ...             0   \n",
       "485              0              1              0  ...             0   \n",
       "486              0              1              0  ...             1   \n",
       "487              1              0              1  ...             0   \n",
       "\n",
       "     Occupation_1  Income_0  Income_1  Income_2  Income_3  Airline_KOR_0  \\\n",
       "0               0         0         1         0         0              0   \n",
       "1               1         1         0         0         0              0   \n",
       "2               1         0         0         0         1              0   \n",
       "3               1         0         0         1         0              0   \n",
       "4               0         1         0         0         0              0   \n",
       "..            ...       ...       ...       ...       ...            ...   \n",
       "483             1         1         0         0         0              1   \n",
       "484             1         0         1         0         0              1   \n",
       "485             1         0         0         1         0              0   \n",
       "486             0         0         0         1         0              1   \n",
       "487             1         0         0         1         0              0   \n",
       "\n",
       "     Airline_KOR_1  Airline_LCC_0  Airline_LCC_1  \n",
       "0                1              0              1  \n",
       "1                1              0              1  \n",
       "2                1              0              1  \n",
       "3                1              0              1  \n",
       "4                1              0              1  \n",
       "..             ...            ...            ...  \n",
       "483              0              0              1  \n",
       "484              0              0              1  \n",
       "485              1              0              1  \n",
       "486              0              0              1  \n",
       "487              1              0              1  \n",
       "\n",
       "[484 rows x 65 columns]"
      ]
     },
     "execution_count": 81,
     "metadata": {},
     "output_type": "execute_result"
    }
   ],
   "source": [
    "df_model_dum"
   ]
  },
  {
   "cell_type": "code",
   "execution_count": 82,
   "metadata": {},
   "outputs": [],
   "source": [
    "# Convert all variable to float\n",
    "col_names1 = list(df_model_dum)\n",
    "\n",
    "for col in col_names1:\n",
    "    df_model_dum[col]=df_model_dum[col].astype(float, copy=False)"
   ]
  },
  {
   "cell_type": "code",
   "execution_count": 83,
   "metadata": {},
   "outputs": [
    {
     "name": "stdout",
     "output_type": "stream",
     "text": [
      "Optimization terminated successfully.\n",
      "         Current function value: 0.692729\n",
      "         Iterations 3\n",
      "                           Logit Regression Results                           \n",
      "==============================================================================\n",
      "Dep. Variable:              Airport_1   No. Observations:                  484\n",
      "Model:                          Logit   Df Residuals:                      483\n",
      "Method:                           MLE   Df Model:                            0\n",
      "Date:                Sat, 14 Mar 2020   Pseudo R-squ.:               1.046e-11\n",
      "Time:                        23:40:26   Log-Likelihood:                -335.28\n",
      "converged:                       True   LL-Null:                       -335.28\n",
      "Covariance Type:            nonrobust   LLR p-value:                       nan\n",
      "==============================================================================\n",
      "                 coef    std err          z      P>|z|      [0.025      0.975]\n",
      "------------------------------------------------------------------------------\n",
      "intercept      0.0579      0.091      0.636      0.525      -0.120       0.236\n",
      "==============================================================================\n"
     ]
    }
   ],
   "source": [
    "# logit model 1 intercept only\n",
    "df_model_dum['intercept'] = 1.0\n",
    "y1=df_model_dum['Airport_1']\n",
    "#df_model_dum['Airport_1']=df_model_dum['Airport_1'].astype(float)\n",
    "\n",
    "X1=df_model_dum['intercept']\n",
    "logit_model1 = sm.Logit(y1, X1).fit()\n",
    "print(logit_model1.summary())"
   ]
  },
  {
   "cell_type": "code",
   "execution_count": 84,
   "metadata": {
    "scrolled": true
   },
   "outputs": [
    {
     "name": "stdout",
     "output_type": "stream",
     "text": [
      "Optimization terminated successfully.\n",
      "         Current function value: 0.671239\n",
      "         Iterations 4\n",
      "                           Logit Regression Results                           \n",
      "==============================================================================\n",
      "Dep. Variable:              Airport_1   No. Observations:                  484\n",
      "Model:                          Logit   Df Residuals:                      482\n",
      "Method:                           MLE   Df Model:                            1\n",
      "Date:                Sat, 14 Mar 2020   Pseudo R-squ.:                 0.03102\n",
      "Time:                        23:40:26   Log-Likelihood:                -324.88\n",
      "converged:                       True   LL-Null:                       -335.28\n",
      "Covariance Type:            nonrobust   LLR p-value:                 5.093e-06\n",
      "=================================================================================\n",
      "                    coef    std err          z      P>|z|      [0.025      0.975]\n",
      "---------------------------------------------------------------------------------\n",
      "intercept         0.7366      0.181      4.064      0.000       0.381       1.092\n",
      "Airline_KOR_1    -0.9402      0.211     -4.453      0.000      -1.354      -0.526\n",
      "=================================================================================\n"
     ]
    }
   ],
   "source": [
    "# logit model 2 Airline Korea and non-Korea Category\n",
    "df_model_dum['intercept'] = 1\n",
    "y2=df_model_dum['Airport_1']\n",
    "\n",
    "X2=df_model_dum[['intercept','Airline_KOR_1']]\n",
    "logit_model2 = sm.Logit(y2, X2).fit()\n",
    "print(logit_model2.summary())"
   ]
  },
  {
   "cell_type": "code",
   "execution_count": 85,
   "metadata": {},
   "outputs": [
    {
     "name": "stdout",
     "output_type": "stream",
     "text": [
      "Optimization terminated successfully.\n",
      "         Current function value: 0.645756\n",
      "         Iterations 5\n",
      "                           Logit Regression Results                           \n",
      "==============================================================================\n",
      "Dep. Variable:              Airport_1   No. Observations:                  484\n",
      "Model:                          Logit   Df Residuals:                      480\n",
      "Method:                           MLE   Df Model:                            3\n",
      "Date:                Sat, 14 Mar 2020   Pseudo R-squ.:                 0.06781\n",
      "Time:                        23:40:26   Log-Likelihood:                -312.55\n",
      "converged:                       True   LL-Null:                       -335.28\n",
      "Covariance Type:            nonrobust   LLR p-value:                 7.353e-10\n",
      "=================================================================================\n",
      "                    coef    std err          z      P>|z|      [0.025      0.975]\n",
      "---------------------------------------------------------------------------------\n",
      "intercept         2.3319      0.403      5.791      0.000       1.543       3.121\n",
      "Airline_KOR_1    -0.8776      0.218     -4.017      0.000      -1.306      -0.449\n",
      "Age_1            -1.0481      0.311     -3.371      0.001      -1.657      -0.439\n",
      "Nationality_1    -0.9096      0.240     -3.795      0.000      -1.379      -0.440\n",
      "=================================================================================\n"
     ]
    }
   ],
   "source": [
    "# logit model 3\n",
    "df_model_dum['intercept'] = 1\n",
    "y3=df_model_dum['Airport_1']\n",
    "\n",
    "X3=df_model_dum[['intercept','Airline_KOR_1','Age_1','Nationality_1']]\n",
    "logit_model3 = sm.Logit(y3, X3).fit()\n",
    "print(logit_model3.summary())"
   ]
  },
  {
   "cell_type": "code",
   "execution_count": 86,
   "metadata": {},
   "outputs": [
    {
     "name": "stdout",
     "output_type": "stream",
     "text": [
      "Optimization terminated successfully.\n",
      "         Current function value: 0.629135\n",
      "         Iterations 5\n",
      "                           Logit Regression Results                           \n",
      "==============================================================================\n",
      "Dep. Variable:              Airport_1   No. Observations:                  484\n",
      "Model:                          Logit   Df Residuals:                      479\n",
      "Method:                           MLE   Df Model:                            4\n",
      "Date:                Sat, 14 Mar 2020   Pseudo R-squ.:                 0.09180\n",
      "Time:                        23:40:26   Log-Likelihood:                -304.50\n",
      "converged:                       True   LL-Null:                       -335.28\n",
      "Covariance Type:            nonrobust   LLR p-value:                 1.364e-12\n",
      "=================================================================================\n",
      "                    coef    std err          z      P>|z|      [0.025      0.975]\n",
      "---------------------------------------------------------------------------------\n",
      "intercept         2.9194      0.440      6.629      0.000       2.056       3.783\n",
      "Airline_KOR_1    -0.8920      0.222     -4.013      0.000      -1.328      -0.456\n",
      "Age_1            -1.1758      0.317     -3.706      0.000      -1.798      -0.554\n",
      "Nationality_1    -0.7836      0.245     -3.198      0.001      -1.264      -0.303\n",
      "TripPurpose_1    -0.8364      0.211     -3.959      0.000      -1.251      -0.422\n",
      "=================================================================================\n"
     ]
    }
   ],
   "source": [
    "# logit model 4\n",
    "df_model_dum['intercept'] = 1\n",
    "y4=df_model_dum['Airport_1']\n",
    "\n",
    "X4=df_model_dum[['intercept','Airline_KOR_1','Age_1','Nationality_1','TripPurpose_1']]\n",
    "logit_model4 = sm.Logit(y4, X4).fit()\n",
    "print(logit_model4.summary())"
   ]
  },
  {
   "cell_type": "code",
   "execution_count": 87,
   "metadata": {
    "scrolled": true
   },
   "outputs": [
    {
     "name": "stdout",
     "output_type": "stream",
     "text": [
      "Optimization terminated successfully.\n",
      "         Current function value: 0.368623\n",
      "         Iterations 8\n",
      "                           Logit Regression Results                           \n",
      "==============================================================================\n",
      "Dep. Variable:              Airport_1   No. Observations:                  484\n",
      "Model:                          Logit   Df Residuals:                      468\n",
      "Method:                           MLE   Df Model:                           15\n",
      "Date:                Sat, 14 Mar 2020   Pseudo R-squ.:                  0.4679\n",
      "Time:                        23:40:26   Log-Likelihood:                -178.41\n",
      "converged:                       True   LL-Null:                       -335.28\n",
      "Covariance Type:            nonrobust   LLR p-value:                 7.772e-58\n",
      "===============================================================================================\n",
      "                                  coef    std err          z      P>|z|      [0.025      0.975]\n",
      "-----------------------------------------------------------------------------------------------\n",
      "intercept                       5.6164      0.832      6.751      0.000       3.986       7.247\n",
      "Airline_KOR_1                  -1.1870      0.327     -3.631      0.000      -1.828      -0.546\n",
      "Age_1                          -0.9328      0.436     -2.141      0.032      -1.787      -0.079\n",
      "Nationality_1                  -1.0526      0.361     -2.912      0.004      -1.761      -0.344\n",
      "FrequentFlightDestination_1    -0.6230      0.526     -1.185      0.236      -1.653       0.407\n",
      "FrequentFlightDestination_2     1.1592      0.503      2.304      0.021       0.173       2.145\n",
      "Destination_1                   1.2335      0.328      3.758      0.000       0.590       1.877\n",
      "Destination_2                  -2.8489      0.403     -7.069      0.000      -3.639      -2.059\n",
      "Destination_3                  -1.8533      0.732     -2.530      0.011      -3.289      -0.418\n",
      "DepartureTime_1                -1.9069      0.525     -3.629      0.000      -2.937      -0.877\n",
      "DepartureTime_2                -3.2766      0.547     -5.988      0.000      -4.349      -2.204\n",
      "DepartureTime_3                -5.6212      1.166     -4.819      0.000      -7.907      -3.335\n",
      "SeatClass_1                    -0.3530      0.467     -0.756      0.449      -1.268       0.562\n",
      "SeatClass_2                     0.5109      0.858      0.595      0.552      -1.171       2.193\n",
      "Airfare_1                      -0.4016      0.347     -1.159      0.247      -1.081       0.278\n",
      "Airfare_2                      -2.5332      0.925     -2.739      0.006      -4.346      -0.720\n",
      "===============================================================================================\n"
     ]
    }
   ],
   "source": [
    "# logit model 5\n",
    "df_model_dum['intercept'] = 1\n",
    "y5=df_model_dum['Airport_1']\n",
    "\n",
    "X5=df_model_dum[['intercept','Airline_KOR_1','Age_1','Nationality_1','FrequentFlightDestination_1',\n",
    "                 'FrequentFlightDestination_2','Destination_1','Destination_2','Destination_3','DepartureTime_1',\n",
    "                 'DepartureTime_2','DepartureTime_3','SeatClass_1','SeatClass_2','Airfare_1','Airfare_2']]\n",
    "logit_model5 = sm.Logit(y5, X5).fit()\n",
    "print(logit_model5.summary())"
   ]
  },
  {
   "cell_type": "code",
   "execution_count": 88,
   "metadata": {},
   "outputs": [
    {
     "name": "stdout",
     "output_type": "stream",
     "text": [
      "Optimization terminated successfully.\n",
      "         Current function value: 0.357291\n",
      "         Iterations 8\n",
      "                           Logit Regression Results                           \n",
      "==============================================================================\n",
      "Dep. Variable:              Airport_1   No. Observations:                  484\n",
      "Model:                          Logit   Df Residuals:                      468\n",
      "Method:                           MLE   Df Model:                           15\n",
      "Date:                Sat, 14 Mar 2020   Pseudo R-squ.:                  0.4842\n",
      "Time:                        23:40:26   Log-Likelihood:                -172.93\n",
      "converged:                       True   LL-Null:                       -335.28\n",
      "Covariance Type:            nonrobust   LLR p-value:                 4.026e-60\n",
      "===============================================================================================\n",
      "                                  coef    std err          z      P>|z|      [0.025      0.975]\n",
      "-----------------------------------------------------------------------------------------------\n",
      "intercept                       5.7835      0.852      6.785      0.000       4.113       7.454\n",
      "Airline_KOR_1                  -1.2770      0.334     -3.827      0.000      -1.931      -0.623\n",
      "Age_1                          -0.7735      0.448     -1.725      0.085      -1.652       0.106\n",
      "Nationality_1                  -1.0448      0.367     -2.849      0.004      -1.764      -0.326\n",
      "FrequentFlightDestination_1    -0.4934      0.549     -0.898      0.369      -1.570       0.583\n",
      "FrequentFlightDestination_2     1.2531      0.504      2.487      0.013       0.266       2.241\n",
      "Destination_1                   1.1336      0.333      3.399      0.001       0.480       1.787\n",
      "Destination_2                  -2.7437      0.408     -6.717      0.000      -3.544      -1.943\n",
      "Destination_3                  -2.1609      0.768     -2.813      0.005      -3.667      -0.655\n",
      "DepartureTime_1                -1.9535      0.535     -3.654      0.000      -3.001      -0.906\n",
      "DepartureTime_2                -3.3841      0.559     -6.057      0.000      -4.479      -2.289\n",
      "DepartureTime_3                -5.6108      1.169     -4.801      0.000      -7.901      -3.320\n",
      "Airfare_1                      -0.2690      0.353     -0.761      0.446      -0.962       0.423\n",
      "Airfare_2                      -2.3993      0.981     -2.447      0.014      -4.321      -0.477\n",
      "AccessTime_1                    0.3132      0.386      0.812      0.417      -0.443       1.070\n",
      "NoTransport_1                  -1.0166      0.313     -3.247      0.001      -1.630      -0.403\n",
      "===============================================================================================\n"
     ]
    }
   ],
   "source": [
    "# logit model 6\n",
    "df_model_dum['intercept'] = 1\n",
    "y6=df_model_dum['Airport_1']\n",
    "\n",
    "X6=df_model_dum[['intercept','Airline_KOR_1','Age_1','Nationality_1','FrequentFlightDestination_1',\n",
    "                 'FrequentFlightDestination_2','Destination_1','Destination_2','Destination_3','DepartureTime_1',\n",
    "                 'DepartureTime_2','DepartureTime_3','Airfare_1','Airfare_2','AccessTime_1','NoTransport_1']]\n",
    "logit_model6 = sm.Logit(y6, X6).fit()\n",
    "print(logit_model6.summary())"
   ]
  },
  {
   "cell_type": "code",
   "execution_count": 89,
   "metadata": {
    "scrolled": true
   },
   "outputs": [
    {
     "name": "stdout",
     "output_type": "stream",
     "text": [
      "Optimization terminated successfully.\n",
      "         Current function value: 0.327993\n",
      "         Iterations 8\n",
      "                           Logit Regression Results                           \n",
      "==============================================================================\n",
      "Dep. Variable:              Airport_1   No. Observations:                  484\n",
      "Model:                          Logit   Df Residuals:                      462\n",
      "Method:                           MLE   Df Model:                           21\n",
      "Date:                Sat, 14 Mar 2020   Pseudo R-squ.:                  0.5265\n",
      "Time:                        23:40:26   Log-Likelihood:                -158.75\n",
      "converged:                       True   LL-Null:                       -335.28\n",
      "Covariance Type:            nonrobust   LLR p-value:                 4.440e-62\n",
      "===============================================================================================\n",
      "                                  coef    std err          z      P>|z|      [0.025      0.975]\n",
      "-----------------------------------------------------------------------------------------------\n",
      "intercept                       5.3593      1.027      5.216      0.000       3.345       7.373\n",
      "Airline_KOR_1                  -1.2991      0.360     -3.611      0.000      -2.004      -0.594\n",
      "Age_1                          -0.6914      0.478     -1.446      0.148      -1.628       0.245\n",
      "Gender_1                        0.2989      0.324      0.921      0.357      -0.337       0.935\n",
      "TripPurpose_1                  -0.5980      0.355     -1.686      0.092      -1.293       0.097\n",
      "FrequentFlightDestination_1    -0.5798      0.568     -1.020      0.308      -1.694       0.534\n",
      "FrequentFlightDestination_2     0.9746      0.517      1.884      0.060      -0.039       1.988\n",
      "Nationality_1                  -1.0675      0.385     -2.770      0.006      -1.823      -0.312\n",
      "Destination_1                   1.2370      0.365      3.388      0.001       0.521       1.953\n",
      "Destination_2                  -2.4925      0.441     -5.646      0.000      -3.358      -1.627\n",
      "Destination_3                  -1.9343      0.790     -2.449      0.014      -3.482      -0.386\n",
      "Airfare_1                      -0.2027      0.388     -0.522      0.601      -0.963       0.558\n",
      "Airfare_2                      -2.3400      1.071     -2.186      0.029      -4.439      -0.241\n",
      "Airfare_3                       0.2063      0.346      0.597      0.551      -0.471       0.884\n",
      "NoTransport_1                  -0.3071      0.379     -0.811      0.417      -1.049       0.435\n",
      "Occupation_1                    0.5869      0.555      1.058      0.290      -0.501       1.675\n",
      "Income_1                        0.3356      0.483      0.694      0.487      -0.612       1.283\n",
      "Income_2                       -0.5383      0.748     -0.719      0.472      -2.005       0.928\n",
      "Income_3                       -1.8976      0.403     -4.704      0.000      -2.688      -1.107\n",
      "DepartureTime_1                -1.6712      0.544     -3.073      0.002      -2.737      -0.605\n",
      "DepartureTime_2                -3.2902      0.573     -5.741      0.000      -4.414      -2.167\n",
      "DepartureTime_3                -5.1151      1.176     -4.351      0.000      -7.419      -2.811\n",
      "===============================================================================================\n"
     ]
    }
   ],
   "source": [
    "# logit model 7 (Model 1 in report)\n",
    "df_model_dum['intercept'] = 1\n",
    "y7=df_model_dum['Airport_1']\n",
    "#df_model_dum['Airport_1']=df_model_dum['Airport_1'].astype(float)\n",
    "#df_model_dum['Airline_KOR_1']=df_model_dum['Airline_KOR_1'].astype()\n",
    "\n",
    "X7=df_model_dum[['intercept','Airline_KOR_1','Age_1','Gender_1','TripPurpose_1','FrequentFlightDestination_1',\n",
    "                 'FrequentFlightDestination_2','Nationality_1','Destination_1','Destination_2','Destination_3',\n",
    "                 'Airfare_1','Airfare_2','Airfare_3','NoTransport_1','Occupation_1','Income_1','Income_2','Income_3',\n",
    "                'DepartureTime_1','DepartureTime_2','DepartureTime_3']]\n",
    "logit_model7 = sm.Logit(y7, X7).fit()\n",
    "print(logit_model7.summary())"
   ]
  },
  {
   "cell_type": "code",
   "execution_count": 91,
   "metadata": {},
   "outputs": [
    {
     "name": "stdout",
     "output_type": "stream",
     "text": [
      "The K-Fold Validation Error is: 0.18598748009842234\n",
      "The K-Fold Validation Accuracy is: 0.8306366695614414\n"
     ]
    },
    {
     "name": "stderr",
     "output_type": "stream",
     "text": [
      "/Users/appleair/opt/anaconda3/lib/python3.7/site-packages/sklearn/linear_model/logistic.py:432: FutureWarning: Default solver will be changed to 'lbfgs' in 0.22. Specify a solver to silence this warning.\n",
      "  FutureWarning)\n",
      "/Users/appleair/opt/anaconda3/lib/python3.7/site-packages/sklearn/linear_model/logistic.py:432: FutureWarning: Default solver will be changed to 'lbfgs' in 0.22. Specify a solver to silence this warning.\n",
      "  FutureWarning)\n",
      "/Users/appleair/opt/anaconda3/lib/python3.7/site-packages/sklearn/linear_model/logistic.py:432: FutureWarning: Default solver will be changed to 'lbfgs' in 0.22. Specify a solver to silence this warning.\n",
      "  FutureWarning)\n",
      "/Users/appleair/opt/anaconda3/lib/python3.7/site-packages/sklearn/linear_model/logistic.py:432: FutureWarning: Default solver will be changed to 'lbfgs' in 0.22. Specify a solver to silence this warning.\n",
      "  FutureWarning)\n",
      "/Users/appleair/opt/anaconda3/lib/python3.7/site-packages/sklearn/linear_model/logistic.py:432: FutureWarning: Default solver will be changed to 'lbfgs' in 0.22. Specify a solver to silence this warning.\n",
      "  FutureWarning)\n",
      "/Users/appleair/opt/anaconda3/lib/python3.7/site-packages/sklearn/linear_model/logistic.py:432: FutureWarning: Default solver will be changed to 'lbfgs' in 0.22. Specify a solver to silence this warning.\n",
      "  FutureWarning)\n",
      "/Users/appleair/opt/anaconda3/lib/python3.7/site-packages/sklearn/linear_model/logistic.py:432: FutureWarning: Default solver will be changed to 'lbfgs' in 0.22. Specify a solver to silence this warning.\n",
      "  FutureWarning)\n",
      "/Users/appleair/opt/anaconda3/lib/python3.7/site-packages/sklearn/linear_model/logistic.py:432: FutureWarning: Default solver will be changed to 'lbfgs' in 0.22. Specify a solver to silence this warning.\n",
      "  FutureWarning)\n",
      "/Users/appleair/opt/anaconda3/lib/python3.7/site-packages/sklearn/linear_model/logistic.py:432: FutureWarning: Default solver will be changed to 'lbfgs' in 0.22. Specify a solver to silence this warning.\n",
      "  FutureWarning)\n",
      "/Users/appleair/opt/anaconda3/lib/python3.7/site-packages/sklearn/linear_model/logistic.py:432: FutureWarning: Default solver will be changed to 'lbfgs' in 0.22. Specify a solver to silence this warning.\n",
      "  FutureWarning)\n",
      "/Users/appleair/opt/anaconda3/lib/python3.7/site-packages/sklearn/linear_model/logistic.py:432: FutureWarning: Default solver will be changed to 'lbfgs' in 0.22. Specify a solver to silence this warning.\n",
      "  FutureWarning)\n",
      "/Users/appleair/opt/anaconda3/lib/python3.7/site-packages/sklearn/linear_model/logistic.py:432: FutureWarning: Default solver will be changed to 'lbfgs' in 0.22. Specify a solver to silence this warning.\n",
      "  FutureWarning)\n",
      "/Users/appleair/opt/anaconda3/lib/python3.7/site-packages/sklearn/linear_model/logistic.py:432: FutureWarning: Default solver will be changed to 'lbfgs' in 0.22. Specify a solver to silence this warning.\n",
      "  FutureWarning)\n",
      "/Users/appleair/opt/anaconda3/lib/python3.7/site-packages/sklearn/linear_model/logistic.py:432: FutureWarning: Default solver will be changed to 'lbfgs' in 0.22. Specify a solver to silence this warning.\n",
      "  FutureWarning)\n",
      "/Users/appleair/opt/anaconda3/lib/python3.7/site-packages/sklearn/linear_model/logistic.py:432: FutureWarning: Default solver will be changed to 'lbfgs' in 0.22. Specify a solver to silence this warning.\n",
      "  FutureWarning)\n",
      "/Users/appleair/opt/anaconda3/lib/python3.7/site-packages/sklearn/linear_model/logistic.py:432: FutureWarning: Default solver will be changed to 'lbfgs' in 0.22. Specify a solver to silence this warning.\n",
      "  FutureWarning)\n",
      "/Users/appleair/opt/anaconda3/lib/python3.7/site-packages/sklearn/linear_model/logistic.py:432: FutureWarning: Default solver will be changed to 'lbfgs' in 0.22. Specify a solver to silence this warning.\n",
      "  FutureWarning)\n",
      "/Users/appleair/opt/anaconda3/lib/python3.7/site-packages/sklearn/linear_model/logistic.py:432: FutureWarning: Default solver will be changed to 'lbfgs' in 0.22. Specify a solver to silence this warning.\n",
      "  FutureWarning)\n",
      "/Users/appleair/opt/anaconda3/lib/python3.7/site-packages/sklearn/linear_model/logistic.py:432: FutureWarning: Default solver will be changed to 'lbfgs' in 0.22. Specify a solver to silence this warning.\n",
      "  FutureWarning)\n",
      "/Users/appleair/opt/anaconda3/lib/python3.7/site-packages/sklearn/linear_model/logistic.py:432: FutureWarning: Default solver will be changed to 'lbfgs' in 0.22. Specify a solver to silence this warning.\n",
      "  FutureWarning)\n"
     ]
    }
   ],
   "source": [
    "from sklearn.linear_model import LogisticRegression\n",
    "from sklearn.model_selection import cross_val_score\n",
    "reg=LogisticRegression()\n",
    "K_Fold_Scores = cross_val_score(reg, X7, y7, cv=10, scoring='neg_mean_squared_error')\n",
    "print(\"The K-Fold Validation Error is:\",-K_Fold_Scores.mean())\n",
    "\n",
    "accuracy = cross_val_score(LogisticRegression(fit_intercept = False, C = 1e9), X7, y7, cv=10, scoring='accuracy')\n",
    "print(\"The K-Fold Validation Accuracy is:\",accuracy.mean())"
   ]
  },
  {
   "cell_type": "code",
   "execution_count": 92,
   "metadata": {},
   "outputs": [
    {
     "name": "stdout",
     "output_type": "stream",
     "text": [
      "Optimization terminated successfully.\n",
      "         Current function value: 0.304064\n",
      "         Iterations 8\n",
      "                           Logit Regression Results                           \n",
      "==============================================================================\n",
      "Dep. Variable:              Airport_1   No. Observations:                  484\n",
      "Model:                          Logit   Df Residuals:                      468\n",
      "Method:                           MLE   Df Model:                           15\n",
      "Date:                Sat, 14 Mar 2020   Pseudo R-squ.:                  0.5611\n",
      "Time:                        23:40:27   Log-Likelihood:                -147.17\n",
      "converged:                       True   LL-Null:                       -335.28\n",
      "Covariance Type:            nonrobust   LLR p-value:                 6.761e-71\n",
      "=======================================================================================\n",
      "                          coef    std err          z      P>|z|      [0.025      0.975]\n",
      "---------------------------------------------------------------------------------------\n",
      "intercept               7.3920      0.999      7.399      0.000       5.434       9.350\n",
      "Airline_KOR_1          -1.1214      0.360     -3.113      0.002      -1.828      -0.415\n",
      "Age_1                  -0.9971      0.496     -2.012      0.044      -1.968      -0.026\n",
      "ProvinceResidence_1    -1.1912      0.384     -3.098      0.002      -1.945      -0.438\n",
      "Nationality_1          -0.6004      0.427     -1.407      0.160      -1.437       0.236\n",
      "Destination_1           1.0315      0.366      2.821      0.005       0.315       1.748\n",
      "Destination_2          -2.7044      0.436     -6.207      0.000      -3.558      -1.850\n",
      "Destination_3          -2.6471      0.790     -3.349      0.001      -4.196      -1.098\n",
      "Income_1                0.0550      0.500      0.110      0.912      -0.926       1.036\n",
      "Income_2               -0.5427      0.812     -0.668      0.504      -2.135       1.050\n",
      "Income_3               -2.5965      0.411     -6.318      0.000      -3.402      -1.791\n",
      "AccessTime_1           -0.3889      0.433     -0.899      0.369      -1.237       0.459\n",
      "AccessTime_2           -2.1282      0.413     -5.158      0.000      -2.937      -1.319\n",
      "DepartureTime_1        -2.2305      0.542     -4.117      0.000      -3.292      -1.169\n",
      "DepartureTime_2        -3.5324      0.576     -6.129      0.000      -4.662      -2.403\n",
      "DepartureTime_3        -5.1266      1.202     -4.266      0.000      -7.482      -2.771\n",
      "=======================================================================================\n"
     ]
    }
   ],
   "source": [
    "# logit model 8 (Model 2 in report)\n",
    "df_model_dum['intercept'] = 1\n",
    "y8=df_model_dum['Airport_1']\n",
    "\n",
    "X8=df_model_dum[['intercept','Airline_KOR_1','Age_1','ProvinceResidence_1','Nationality_1','Destination_1',\n",
    "                 'Destination_2','Destination_3','Income_1','Income_2','Income_3','AccessTime_1','AccessTime_2',\n",
    "                 'DepartureTime_1','DepartureTime_2','DepartureTime_3']]\n",
    "logit_model8 = sm.Logit(y8, X8).fit()\n",
    "print(logit_model8.summary())"
   ]
  },
  {
   "cell_type": "code",
   "execution_count": 93,
   "metadata": {},
   "outputs": [
    {
     "name": "stderr",
     "output_type": "stream",
     "text": [
      "/Users/appleair/opt/anaconda3/lib/python3.7/site-packages/sklearn/linear_model/logistic.py:432: FutureWarning: Default solver will be changed to 'lbfgs' in 0.22. Specify a solver to silence this warning.\n",
      "  FutureWarning)\n",
      "/Users/appleair/opt/anaconda3/lib/python3.7/site-packages/sklearn/linear_model/logistic.py:432: FutureWarning: Default solver will be changed to 'lbfgs' in 0.22. Specify a solver to silence this warning.\n",
      "  FutureWarning)\n",
      "/Users/appleair/opt/anaconda3/lib/python3.7/site-packages/sklearn/linear_model/logistic.py:432: FutureWarning: Default solver will be changed to 'lbfgs' in 0.22. Specify a solver to silence this warning.\n",
      "  FutureWarning)\n",
      "/Users/appleair/opt/anaconda3/lib/python3.7/site-packages/sklearn/linear_model/logistic.py:432: FutureWarning: Default solver will be changed to 'lbfgs' in 0.22. Specify a solver to silence this warning.\n",
      "  FutureWarning)\n",
      "/Users/appleair/opt/anaconda3/lib/python3.7/site-packages/sklearn/linear_model/logistic.py:432: FutureWarning: Default solver will be changed to 'lbfgs' in 0.22. Specify a solver to silence this warning.\n",
      "  FutureWarning)\n",
      "/Users/appleair/opt/anaconda3/lib/python3.7/site-packages/sklearn/linear_model/logistic.py:432: FutureWarning: Default solver will be changed to 'lbfgs' in 0.22. Specify a solver to silence this warning.\n",
      "  FutureWarning)\n",
      "/Users/appleair/opt/anaconda3/lib/python3.7/site-packages/sklearn/linear_model/logistic.py:432: FutureWarning: Default solver will be changed to 'lbfgs' in 0.22. Specify a solver to silence this warning.\n",
      "  FutureWarning)\n",
      "/Users/appleair/opt/anaconda3/lib/python3.7/site-packages/sklearn/linear_model/logistic.py:432: FutureWarning: Default solver will be changed to 'lbfgs' in 0.22. Specify a solver to silence this warning.\n",
      "  FutureWarning)\n",
      "/Users/appleair/opt/anaconda3/lib/python3.7/site-packages/sklearn/linear_model/logistic.py:432: FutureWarning: Default solver will be changed to 'lbfgs' in 0.22. Specify a solver to silence this warning.\n",
      "  FutureWarning)\n",
      "/Users/appleair/opt/anaconda3/lib/python3.7/site-packages/sklearn/linear_model/logistic.py:432: FutureWarning: Default solver will be changed to 'lbfgs' in 0.22. Specify a solver to silence this warning.\n",
      "  FutureWarning)\n",
      "/Users/appleair/opt/anaconda3/lib/python3.7/site-packages/sklearn/linear_model/logistic.py:432: FutureWarning: Default solver will be changed to 'lbfgs' in 0.22. Specify a solver to silence this warning.\n",
      "  FutureWarning)\n",
      "/Users/appleair/opt/anaconda3/lib/python3.7/site-packages/sklearn/linear_model/logistic.py:432: FutureWarning: Default solver will be changed to 'lbfgs' in 0.22. Specify a solver to silence this warning.\n",
      "  FutureWarning)\n",
      "/Users/appleair/opt/anaconda3/lib/python3.7/site-packages/sklearn/linear_model/logistic.py:432: FutureWarning: Default solver will be changed to 'lbfgs' in 0.22. Specify a solver to silence this warning.\n",
      "  FutureWarning)\n"
     ]
    },
    {
     "name": "stdout",
     "output_type": "stream",
     "text": [
      "The K-Fold Validation Error is: 0.1548596034158344\n",
      "The K-Fold Validation Accuracy is: 0.8573852945433493\n"
     ]
    },
    {
     "name": "stderr",
     "output_type": "stream",
     "text": [
      "/Users/appleair/opt/anaconda3/lib/python3.7/site-packages/sklearn/linear_model/logistic.py:432: FutureWarning: Default solver will be changed to 'lbfgs' in 0.22. Specify a solver to silence this warning.\n",
      "  FutureWarning)\n",
      "/Users/appleair/opt/anaconda3/lib/python3.7/site-packages/sklearn/linear_model/logistic.py:432: FutureWarning: Default solver will be changed to 'lbfgs' in 0.22. Specify a solver to silence this warning.\n",
      "  FutureWarning)\n",
      "/Users/appleair/opt/anaconda3/lib/python3.7/site-packages/sklearn/linear_model/logistic.py:432: FutureWarning: Default solver will be changed to 'lbfgs' in 0.22. Specify a solver to silence this warning.\n",
      "  FutureWarning)\n",
      "/Users/appleair/opt/anaconda3/lib/python3.7/site-packages/sklearn/linear_model/logistic.py:432: FutureWarning: Default solver will be changed to 'lbfgs' in 0.22. Specify a solver to silence this warning.\n",
      "  FutureWarning)\n",
      "/Users/appleair/opt/anaconda3/lib/python3.7/site-packages/sklearn/linear_model/logistic.py:432: FutureWarning: Default solver will be changed to 'lbfgs' in 0.22. Specify a solver to silence this warning.\n",
      "  FutureWarning)\n",
      "/Users/appleair/opt/anaconda3/lib/python3.7/site-packages/sklearn/linear_model/logistic.py:432: FutureWarning: Default solver will be changed to 'lbfgs' in 0.22. Specify a solver to silence this warning.\n",
      "  FutureWarning)\n",
      "/Users/appleair/opt/anaconda3/lib/python3.7/site-packages/sklearn/linear_model/logistic.py:432: FutureWarning: Default solver will be changed to 'lbfgs' in 0.22. Specify a solver to silence this warning.\n",
      "  FutureWarning)\n"
     ]
    }
   ],
   "source": [
    "reg=LogisticRegression()\n",
    "K_Fold_Scores = cross_val_score(reg, X8, y8, cv=10, scoring='neg_mean_squared_error')\n",
    "print(\"The K-Fold Validation Error is:\",-K_Fold_Scores.mean())\n",
    "\n",
    "accuracy = cross_val_score(LogisticRegression(fit_intercept = False, C = 1e9), X8, y8, cv=10, scoring='accuracy')\n",
    "print(\"The K-Fold Validation Accuracy is:\",accuracy.mean())"
   ]
  },
  {
   "cell_type": "code",
   "execution_count": 94,
   "metadata": {},
   "outputs": [
    {
     "name": "stdout",
     "output_type": "stream",
     "text": [
      "Optimization terminated successfully.\n",
      "         Current function value: 0.296176\n",
      "         Iterations 8\n",
      "                           Logit Regression Results                           \n",
      "==============================================================================\n",
      "Dep. Variable:              Airport_1   No. Observations:                  484\n",
      "Model:                          Logit   Df Residuals:                      465\n",
      "Method:                           MLE   Df Model:                           18\n",
      "Date:                Sat, 14 Mar 2020   Pseudo R-squ.:                  0.5724\n",
      "Time:                        23:40:27   Log-Likelihood:                -143.35\n",
      "converged:                       True   LL-Null:                       -335.28\n",
      "Covariance Type:            nonrobust   LLR p-value:                 2.105e-70\n",
      "=======================================================================================\n",
      "                          coef    std err          z      P>|z|      [0.025      0.975]\n",
      "---------------------------------------------------------------------------------------\n",
      "intercept               7.4939      1.056      7.098      0.000       5.425       9.563\n",
      "Airline_KOR_1          -1.2038      0.368     -3.268      0.001      -1.926      -0.482\n",
      "Age_1                  -0.9328      0.517     -1.804      0.071      -1.946       0.081\n",
      "ProvinceResidence_1    -1.2925      0.391     -3.303      0.001      -2.059      -0.526\n",
      "Nationality_1          -0.6155      0.431     -1.428      0.153      -1.460       0.229\n",
      "Destination_1           1.0594      0.375      2.822      0.005       0.324       1.795\n",
      "Destination_2          -2.7122      0.443     -6.123      0.000      -3.580      -1.844\n",
      "Destination_3          -2.5876      0.812     -3.188      0.001      -4.178      -0.997\n",
      "Income_1                0.1382      0.508      0.272      0.786      -0.857       1.134\n",
      "Income_2               -0.5606      0.809     -0.693      0.488      -2.145       1.024\n",
      "Income_3               -2.5627      0.420     -6.105      0.000      -3.385      -1.740\n",
      "AccessTime_1           -0.4339      0.444     -0.978      0.328      -1.303       0.436\n",
      "AccessTime_2           -2.2598      0.423     -5.338      0.000      -3.090      -1.430\n",
      "DepartureTime_1        -2.1396      0.551     -3.881      0.000      -3.220      -1.059\n",
      "DepartureTime_2        -3.5789      0.590     -6.063      0.000      -4.736      -2.422\n",
      "DepartureTime_3        -5.0948      1.190     -4.282      0.000      -7.427      -2.763\n",
      "Airfare_1              -0.5127      0.421     -1.217      0.224      -1.339       0.313\n",
      "Airfare_2              -2.0415      0.983     -2.077      0.038      -3.968      -0.115\n",
      "Airfare_3               0.3302      0.364      0.908      0.364      -0.383       1.043\n",
      "=======================================================================================\n"
     ]
    }
   ],
   "source": [
    "# logit model 9 Model 3 in report\n",
    "df_model_dum['intercept'] = 1\n",
    "y9=df_model_dum['Airport_1']\n",
    "\n",
    "X9=df_model_dum[['intercept','Airline_KOR_1','Age_1','ProvinceResidence_1','Nationality_1','Destination_1',\n",
    "                 'Destination_2','Destination_3','Income_1','Income_2','Income_3','AccessTime_1','AccessTime_2',\n",
    "                 'DepartureTime_1','DepartureTime_2','DepartureTime_3','Airfare_1', 'Airfare_2', 'Airfare_3']]\n",
    "logit_model9 = sm.Logit(y9, X9).fit()\n",
    "print(logit_model9.summary())"
   ]
  },
  {
   "cell_type": "code",
   "execution_count": 95,
   "metadata": {},
   "outputs": [
    {
     "name": "stderr",
     "output_type": "stream",
     "text": [
      "/Users/appleair/opt/anaconda3/lib/python3.7/site-packages/sklearn/linear_model/logistic.py:432: FutureWarning: Default solver will be changed to 'lbfgs' in 0.22. Specify a solver to silence this warning.\n",
      "  FutureWarning)\n",
      "/Users/appleair/opt/anaconda3/lib/python3.7/site-packages/sklearn/linear_model/logistic.py:432: FutureWarning: Default solver will be changed to 'lbfgs' in 0.22. Specify a solver to silence this warning.\n",
      "  FutureWarning)\n",
      "/Users/appleair/opt/anaconda3/lib/python3.7/site-packages/sklearn/linear_model/logistic.py:432: FutureWarning: Default solver will be changed to 'lbfgs' in 0.22. Specify a solver to silence this warning.\n",
      "  FutureWarning)\n",
      "/Users/appleair/opt/anaconda3/lib/python3.7/site-packages/sklearn/linear_model/logistic.py:432: FutureWarning: Default solver will be changed to 'lbfgs' in 0.22. Specify a solver to silence this warning.\n",
      "  FutureWarning)\n",
      "/Users/appleair/opt/anaconda3/lib/python3.7/site-packages/sklearn/linear_model/logistic.py:432: FutureWarning: Default solver will be changed to 'lbfgs' in 0.22. Specify a solver to silence this warning.\n",
      "  FutureWarning)\n",
      "/Users/appleair/opt/anaconda3/lib/python3.7/site-packages/sklearn/linear_model/logistic.py:432: FutureWarning: Default solver will be changed to 'lbfgs' in 0.22. Specify a solver to silence this warning.\n",
      "  FutureWarning)\n",
      "/Users/appleair/opt/anaconda3/lib/python3.7/site-packages/sklearn/linear_model/logistic.py:432: FutureWarning: Default solver will be changed to 'lbfgs' in 0.22. Specify a solver to silence this warning.\n",
      "  FutureWarning)\n",
      "/Users/appleair/opt/anaconda3/lib/python3.7/site-packages/sklearn/linear_model/logistic.py:432: FutureWarning: Default solver will be changed to 'lbfgs' in 0.22. Specify a solver to silence this warning.\n",
      "  FutureWarning)\n",
      "/Users/appleair/opt/anaconda3/lib/python3.7/site-packages/sklearn/linear_model/logistic.py:432: FutureWarning: Default solver will be changed to 'lbfgs' in 0.22. Specify a solver to silence this warning.\n",
      "  FutureWarning)\n",
      "/Users/appleair/opt/anaconda3/lib/python3.7/site-packages/sklearn/linear_model/logistic.py:432: FutureWarning: Default solver will be changed to 'lbfgs' in 0.22. Specify a solver to silence this warning.\n",
      "  FutureWarning)\n",
      "/Users/appleair/opt/anaconda3/lib/python3.7/site-packages/sklearn/linear_model/logistic.py:432: FutureWarning: Default solver will be changed to 'lbfgs' in 0.22. Specify a solver to silence this warning.\n",
      "  FutureWarning)\n",
      "/Users/appleair/opt/anaconda3/lib/python3.7/site-packages/sklearn/linear_model/logistic.py:432: FutureWarning: Default solver will be changed to 'lbfgs' in 0.22. Specify a solver to silence this warning.\n",
      "  FutureWarning)\n",
      "/Users/appleair/opt/anaconda3/lib/python3.7/site-packages/sklearn/linear_model/logistic.py:432: FutureWarning: Default solver will be changed to 'lbfgs' in 0.22. Specify a solver to silence this warning.\n",
      "  FutureWarning)\n",
      "/Users/appleair/opt/anaconda3/lib/python3.7/site-packages/sklearn/linear_model/logistic.py:432: FutureWarning: Default solver will be changed to 'lbfgs' in 0.22. Specify a solver to silence this warning.\n",
      "  FutureWarning)\n"
     ]
    },
    {
     "name": "stdout",
     "output_type": "stream",
     "text": [
      "The K-Fold Validation Error is: 0.1527301346070343\n",
      "The K-Fold Validation Accuracy is: 0.8677630626718773\n"
     ]
    },
    {
     "name": "stderr",
     "output_type": "stream",
     "text": [
      "/Users/appleair/opt/anaconda3/lib/python3.7/site-packages/sklearn/linear_model/logistic.py:432: FutureWarning: Default solver will be changed to 'lbfgs' in 0.22. Specify a solver to silence this warning.\n",
      "  FutureWarning)\n",
      "/Users/appleair/opt/anaconda3/lib/python3.7/site-packages/sklearn/linear_model/logistic.py:432: FutureWarning: Default solver will be changed to 'lbfgs' in 0.22. Specify a solver to silence this warning.\n",
      "  FutureWarning)\n",
      "/Users/appleair/opt/anaconda3/lib/python3.7/site-packages/sklearn/linear_model/logistic.py:432: FutureWarning: Default solver will be changed to 'lbfgs' in 0.22. Specify a solver to silence this warning.\n",
      "  FutureWarning)\n",
      "/Users/appleair/opt/anaconda3/lib/python3.7/site-packages/sklearn/linear_model/logistic.py:432: FutureWarning: Default solver will be changed to 'lbfgs' in 0.22. Specify a solver to silence this warning.\n",
      "  FutureWarning)\n",
      "/Users/appleair/opt/anaconda3/lib/python3.7/site-packages/sklearn/linear_model/logistic.py:432: FutureWarning: Default solver will be changed to 'lbfgs' in 0.22. Specify a solver to silence this warning.\n",
      "  FutureWarning)\n",
      "/Users/appleair/opt/anaconda3/lib/python3.7/site-packages/sklearn/linear_model/logistic.py:432: FutureWarning: Default solver will be changed to 'lbfgs' in 0.22. Specify a solver to silence this warning.\n",
      "  FutureWarning)\n"
     ]
    }
   ],
   "source": [
    "\n",
    "reg=LogisticRegression()\n",
    "K_Fold_Scores = cross_val_score(reg, X9, y9, cv=10, scoring='neg_mean_squared_error')\n",
    "print(\"The K-Fold Validation Error is:\",-K_Fold_Scores.mean())\n",
    "\n",
    "accuracy = cross_val_score(LogisticRegression(fit_intercept = False, C = 1e9), X9, y9, cv=10, scoring='accuracy')\n",
    "print(\"The K-Fold Validation Accuracy is:\",accuracy.mean())"
   ]
  },
  {
   "cell_type": "code",
   "execution_count": 96,
   "metadata": {},
   "outputs": [
    {
     "name": "stderr",
     "output_type": "stream",
     "text": [
      "/Users/appleair/opt/anaconda3/lib/python3.7/site-packages/statsmodels/base/model.py:512: ConvergenceWarning: Maximum Likelihood optimization failed to converge. Check mle_retvals\n",
      "  \"Check mle_retvals\", ConvergenceWarning)\n"
     ]
    },
    {
     "name": "stdout",
     "output_type": "stream",
     "text": [
      "Warning: Maximum number of iterations has been exceeded.\n",
      "         Current function value: 0.245834\n",
      "         Iterations: 35\n",
      "                           Logit Regression Results                           \n",
      "==============================================================================\n",
      "Dep. Variable:          Airline_LCC_1   No. Observations:                  484\n",
      "Model:                          Logit   Df Residuals:                      465\n",
      "Method:                           MLE   Df Model:                           18\n",
      "Date:                Sat, 14 Mar 2020   Pseudo R-squ.:                  0.4557\n",
      "Time:                        23:40:27   Log-Likelihood:                -118.98\n",
      "converged:                      False   LL-Null:                       -218.61\n",
      "Covariance Type:            nonrobust   LLR p-value:                 1.417e-32\n",
      "===================================================================================\n",
      "                      coef    std err          z      P>|z|      [0.025      0.975]\n",
      "-----------------------------------------------------------------------------------\n",
      "intercept          21.9707   9421.171      0.002      0.998   -1.84e+04    1.85e+04\n",
      "Occupation_1        0.5395      1.005      0.537      0.591      -1.430       2.509\n",
      "Gender_1           -0.2036      0.351     -0.580      0.562      -0.891       0.484\n",
      "TripPurpose_1      -1.2064      0.542     -2.226      0.026      -2.269      -0.144\n",
      "GroupTravel_1      -0.9341      0.491     -1.904      0.057      -1.896       0.028\n",
      "Destination_1     -19.6919   9421.170     -0.002      0.998   -1.85e+04    1.84e+04\n",
      "Destination_2     -22.7114   9421.170     -0.002      0.998   -1.85e+04    1.84e+04\n",
      "Destination_3       6.3056   3.73e+05   1.69e-05      1.000    -7.3e+05     7.3e+05\n",
      "Income_1            1.5196      0.767      1.981      0.048       0.016       3.023\n",
      "Income_2           -0.9234      1.120     -0.825      0.409      -3.118       1.271\n",
      "Income_3            0.4674      0.379      1.232      0.218      -0.276       1.211\n",
      "AccessTime_1        0.0983      0.494      0.199      0.842      -0.871       1.067\n",
      "AccessTime_2        0.1756      0.401      0.438      0.661      -0.609       0.961\n",
      "DepartureTime_1     2.0107      0.590      3.408      0.001       0.854       3.167\n",
      "DepartureTime_2     1.5135      0.543      2.789      0.005       0.450       2.577\n",
      "DepartureTime_3     1.1001      0.694      1.584      0.113      -0.261       2.461\n",
      "Airfare_1           0.9186      0.413      2.223      0.026       0.109       1.729\n",
      "Airfare_2          16.5659   1.25e+04      0.001      0.999   -2.45e+04    2.45e+04\n",
      "Airfare_3           1.5443      0.437      3.535      0.000       0.688       2.401\n",
      "===================================================================================\n",
      "\n",
      "Possibly complete quasi-separation: A fraction 0.33 of observations can be\n",
      "perfectly predicted. This might indicate that there is complete\n",
      "quasi-separation. In this case some parameters will not be identified.\n"
     ]
    }
   ],
   "source": [
    "# logit model Airline Model in report\n",
    "df_model_dum['intercept'] = 1\n",
    "y_A = df_model_dum['Airline_LCC_1']\n",
    "\n",
    "X_A = df_model_dum[['intercept','Occupation_1','Gender_1','TripPurpose_1','GroupTravel_1','Destination_1',\n",
    "                 'Destination_2','Destination_3','Income_1','Income_2','Income_3','AccessTime_1','AccessTime_2',\n",
    "                 'DepartureTime_1','DepartureTime_2','DepartureTime_3','Airfare_1', 'Airfare_2', 'Airfare_3']]\n",
    "logit_modelA = sm.Logit(y_A, X_A).fit()\n",
    "print(logit_modelA.summary())"
   ]
  },
  {
   "cell_type": "code",
   "execution_count": 97,
   "metadata": {},
   "outputs": [
    {
     "name": "stderr",
     "output_type": "stream",
     "text": [
      "/Users/appleair/opt/anaconda3/lib/python3.7/site-packages/sklearn/linear_model/logistic.py:432: FutureWarning: Default solver will be changed to 'lbfgs' in 0.22. Specify a solver to silence this warning.\n",
      "  FutureWarning)\n",
      "/Users/appleair/opt/anaconda3/lib/python3.7/site-packages/sklearn/linear_model/logistic.py:432: FutureWarning: Default solver will be changed to 'lbfgs' in 0.22. Specify a solver to silence this warning.\n",
      "  FutureWarning)\n",
      "/Users/appleair/opt/anaconda3/lib/python3.7/site-packages/sklearn/linear_model/logistic.py:432: FutureWarning: Default solver will be changed to 'lbfgs' in 0.22. Specify a solver to silence this warning.\n",
      "  FutureWarning)\n",
      "/Users/appleair/opt/anaconda3/lib/python3.7/site-packages/sklearn/linear_model/logistic.py:432: FutureWarning: Default solver will be changed to 'lbfgs' in 0.22. Specify a solver to silence this warning.\n",
      "  FutureWarning)\n",
      "/Users/appleair/opt/anaconda3/lib/python3.7/site-packages/sklearn/linear_model/logistic.py:432: FutureWarning: Default solver will be changed to 'lbfgs' in 0.22. Specify a solver to silence this warning.\n",
      "  FutureWarning)\n",
      "/Users/appleair/opt/anaconda3/lib/python3.7/site-packages/sklearn/linear_model/logistic.py:432: FutureWarning: Default solver will be changed to 'lbfgs' in 0.22. Specify a solver to silence this warning.\n",
      "  FutureWarning)\n",
      "/Users/appleair/opt/anaconda3/lib/python3.7/site-packages/sklearn/linear_model/logistic.py:432: FutureWarning: Default solver will be changed to 'lbfgs' in 0.22. Specify a solver to silence this warning.\n",
      "  FutureWarning)\n",
      "/Users/appleair/opt/anaconda3/lib/python3.7/site-packages/sklearn/linear_model/logistic.py:432: FutureWarning: Default solver will be changed to 'lbfgs' in 0.22. Specify a solver to silence this warning.\n",
      "  FutureWarning)\n",
      "/Users/appleair/opt/anaconda3/lib/python3.7/site-packages/sklearn/linear_model/logistic.py:432: FutureWarning: Default solver will be changed to 'lbfgs' in 0.22. Specify a solver to silence this warning.\n",
      "  FutureWarning)\n",
      "/Users/appleair/opt/anaconda3/lib/python3.7/site-packages/sklearn/linear_model/logistic.py:432: FutureWarning: Default solver will be changed to 'lbfgs' in 0.22. Specify a solver to silence this warning.\n",
      "  FutureWarning)\n",
      "/Users/appleair/opt/anaconda3/lib/python3.7/site-packages/sklearn/linear_model/logistic.py:432: FutureWarning: Default solver will be changed to 'lbfgs' in 0.22. Specify a solver to silence this warning.\n",
      "  FutureWarning)\n"
     ]
    },
    {
     "name": "stdout",
     "output_type": "stream",
     "text": [
      "The K-Fold Validation Error is: 0.1527301346070343\n",
      "The K-Fold Validation Accuracy is: 0.8577261904761905\n"
     ]
    },
    {
     "name": "stderr",
     "output_type": "stream",
     "text": [
      "/Users/appleair/opt/anaconda3/lib/python3.7/site-packages/sklearn/linear_model/logistic.py:432: FutureWarning: Default solver will be changed to 'lbfgs' in 0.22. Specify a solver to silence this warning.\n",
      "  FutureWarning)\n",
      "/Users/appleair/opt/anaconda3/lib/python3.7/site-packages/sklearn/linear_model/logistic.py:432: FutureWarning: Default solver will be changed to 'lbfgs' in 0.22. Specify a solver to silence this warning.\n",
      "  FutureWarning)\n",
      "/Users/appleair/opt/anaconda3/lib/python3.7/site-packages/sklearn/linear_model/logistic.py:432: FutureWarning: Default solver will be changed to 'lbfgs' in 0.22. Specify a solver to silence this warning.\n",
      "  FutureWarning)\n",
      "/Users/appleair/opt/anaconda3/lib/python3.7/site-packages/sklearn/linear_model/logistic.py:432: FutureWarning: Default solver will be changed to 'lbfgs' in 0.22. Specify a solver to silence this warning.\n",
      "  FutureWarning)\n",
      "/Users/appleair/opt/anaconda3/lib/python3.7/site-packages/sklearn/linear_model/logistic.py:432: FutureWarning: Default solver will be changed to 'lbfgs' in 0.22. Specify a solver to silence this warning.\n",
      "  FutureWarning)\n",
      "/Users/appleair/opt/anaconda3/lib/python3.7/site-packages/sklearn/linear_model/logistic.py:432: FutureWarning: Default solver will be changed to 'lbfgs' in 0.22. Specify a solver to silence this warning.\n",
      "  FutureWarning)\n",
      "/Users/appleair/opt/anaconda3/lib/python3.7/site-packages/sklearn/linear_model/logistic.py:432: FutureWarning: Default solver will be changed to 'lbfgs' in 0.22. Specify a solver to silence this warning.\n",
      "  FutureWarning)\n",
      "/Users/appleair/opt/anaconda3/lib/python3.7/site-packages/sklearn/linear_model/logistic.py:432: FutureWarning: Default solver will be changed to 'lbfgs' in 0.22. Specify a solver to silence this warning.\n",
      "  FutureWarning)\n",
      "/Users/appleair/opt/anaconda3/lib/python3.7/site-packages/sklearn/linear_model/logistic.py:432: FutureWarning: Default solver will be changed to 'lbfgs' in 0.22. Specify a solver to silence this warning.\n",
      "  FutureWarning)\n"
     ]
    }
   ],
   "source": [
    "\n",
    "reg=LogisticRegression()\n",
    "K_Fold_Scores = cross_val_score(reg, X9, y9, cv=10, scoring='neg_mean_squared_error')\n",
    "print(\"The K-Fold Validation Error is:\",-K_Fold_Scores.mean())\n",
    "\n",
    "accuracy = cross_val_score(LogisticRegression(fit_intercept = False, C = 1e9), X_A, y_A, cv=10, scoring='accuracy')\n",
    "print(\"The K-Fold Validation Accuracy is:\",accuracy.mean())"
   ]
  },
  {
   "cell_type": "markdown",
   "metadata": {},
   "source": [
    "# Decision Tree"
   ]
  },
  {
   "cell_type": "markdown",
   "metadata": {},
   "source": [
    "## Airport "
   ]
  },
  {
   "cell_type": "markdown",
   "metadata": {},
   "source": [
    "### Model 1"
   ]
  },
  {
   "cell_type": "code",
   "execution_count": 98,
   "metadata": {},
   "outputs": [],
   "source": [
    "df_tree = df_clean.iloc[:,:].copy()"
   ]
  },
  {
   "cell_type": "code",
   "execution_count": 99,
   "metadata": {},
   "outputs": [
    {
     "name": "stdout",
     "output_type": "stream",
     "text": [
      "<class 'pandas.core.frame.DataFrame'>\n",
      "Int64Index: 484 entries, 0 to 487\n",
      "Data columns (total 30 columns):\n",
      "ID                           484 non-null int64\n",
      "Airport                      484 non-null int64\n",
      "Airline                      484 non-null float64\n",
      "Age                          484 non-null int64\n",
      "Gender                       484 non-null int64\n",
      "Nationality                  484 non-null int64\n",
      "TripPurpose                  484 non-null int64\n",
      "TripDuration                 484 non-null int64\n",
      "FlyingCompanion              484 non-null int64\n",
      "ProvinceResidence            484 non-null object\n",
      "GroupTravel                  484 non-null int64\n",
      "NoTripsLastYear              484 non-null int64\n",
      "FrequentFlightDestination    484 non-null object\n",
      "Destination                  484 non-null object\n",
      "FlightNo                     342 non-null object\n",
      "DepartureHr                  452 non-null object\n",
      "DepartureMn                  365 non-null float64\n",
      "DepartureTime                484 non-null object\n",
      "SeatClass                    484 non-null object\n",
      "Airfare                      484 non-null object\n",
      "NoTransport                  484 non-null int64\n",
      "ModeTransport                484 non-null int64\n",
      "AccessCost                   288 non-null float64\n",
      "AccessTime                   484 non-null object\n",
      "Occupation                   484 non-null int64\n",
      "Income                       484 non-null object\n",
      "MileageAirline               249 non-null object\n",
      "Mileage                      89 non-null float64\n",
      "Airline_KOR                  484 non-null object\n",
      "Airline_LCC                  484 non-null object\n",
      "dtypes: float64(4), int64(13), object(13)\n",
      "memory usage: 117.2+ KB\n"
     ]
    }
   ],
   "source": [
    "df_tree.info()"
   ]
  },
  {
   "cell_type": "code",
   "execution_count": 100,
   "metadata": {},
   "outputs": [
    {
     "name": "stdout",
     "output_type": "stream",
     "text": [
      "[[63 15]\n",
      " [ 5 63]]\n"
     ]
    }
   ],
   "source": [
    "## All Variables\n",
    "y=df_tree['Airport']\n",
    "\n",
    "X=df_tree.drop(['ID','Airport', 'DepartureHr','DepartureMn', 'AccessCost',\n",
    "                 'FrequentFlightDestination','FlightNo','MileageAirline','Mileage','Airline_KOR','Airline_LCC'], axis = 1)\n",
    "\n",
    "X_train, X_test, y_train, y_test = train_test_split(X, y, test_size=0.30,random_state=109)  \n",
    "clf = tree.DecisionTreeClassifier(class_weight=None, criterion='gini', max_depth=10, max_features=None, \n",
    "                                  max_leaf_nodes=None, min_samples_leaf=20, min_samples_split=2, \n",
    "                                  min_weight_fraction_leaf=0.0, presort=False, random_state=100, splitter='best')\n",
    "clf = clf.fit(X_train, y_train)\n",
    "\n",
    "y_pred = clf.predict(X_test)  \n",
    "print(metrics.confusion_matrix(y_test, y_pred))"
   ]
  },
  {
   "cell_type": "code",
   "execution_count": 101,
   "metadata": {},
   "outputs": [
    {
     "name": "stdout",
     "output_type": "stream",
     "text": [
      "              precision    recall  f1-score   support\n",
      "\n",
      "           0       0.93      0.81      0.86        78\n",
      "           1       0.81      0.93      0.86        68\n",
      "\n",
      "    accuracy                           0.86       146\n",
      "   macro avg       0.87      0.87      0.86       146\n",
      "weighted avg       0.87      0.86      0.86       146\n",
      "\n"
     ]
    }
   ],
   "source": [
    "print(classification_report(y_test, y_pred))"
   ]
  },
  {
   "cell_type": "code",
   "execution_count": 102,
   "metadata": {},
   "outputs": [],
   "source": [
    "airport_all_tree = tree.export_graphviz(clf, out_file='airport_all_new_Dtree.dot', feature_names=X.columns)"
   ]
  },
  {
   "cell_type": "markdown",
   "metadata": {},
   "source": [
    "### Model 2"
   ]
  },
  {
   "cell_type": "code",
   "execution_count": 103,
   "metadata": {},
   "outputs": [
    {
     "name": "stdout",
     "output_type": "stream",
     "text": [
      "[[51 27]\n",
      " [ 2 66]]\n"
     ]
    }
   ],
   "source": [
    "##Without AccessTime & Income\n",
    "y=df_tree['Airport']\n",
    "\n",
    "X=df_tree.drop(['ID','Airport', 'DepartureHr','DepartureMn', 'AccessCost','AccessTime','Income',\n",
    "                 'FrequentFlightDestination','FlightNo','MileageAirline','Mileage','Airline_KOR','Airline_LCC'], axis = 1)\n",
    "\n",
    "X_train, X_test, y_train, y_test = train_test_split(X, y, test_size=0.30,random_state=109)  \n",
    "clf = tree.DecisionTreeClassifier(class_weight=None, criterion='gini', max_depth=10, max_features=None, \n",
    "                                  max_leaf_nodes=None, min_samples_leaf=20, min_samples_split=2, \n",
    "                                  min_weight_fraction_leaf=0.0, presort=False, random_state=100, splitter='best')\n",
    "clf = clf.fit(X_train, y_train)\n",
    "\n",
    "y_pred = clf.predict(X_test)  \n",
    "print(metrics.confusion_matrix(y_test, y_pred)) "
   ]
  },
  {
   "cell_type": "code",
   "execution_count": 104,
   "metadata": {},
   "outputs": [
    {
     "name": "stdout",
     "output_type": "stream",
     "text": [
      "              precision    recall  f1-score   support\n",
      "\n",
      "           0       0.96      0.65      0.78        78\n",
      "           1       0.71      0.97      0.82        68\n",
      "\n",
      "    accuracy                           0.80       146\n",
      "   macro avg       0.84      0.81      0.80       146\n",
      "weighted avg       0.84      0.80      0.80       146\n",
      "\n"
     ]
    }
   ],
   "source": [
    "print(classification_report(y_test, y_pred))"
   ]
  },
  {
   "cell_type": "code",
   "execution_count": 105,
   "metadata": {},
   "outputs": [],
   "source": [
    "airport_tree = tree.export_graphviz(clf, out_file='airport_new_Dtree.dot', feature_names=X.columns)"
   ]
  },
  {
   "cell_type": "markdown",
   "metadata": {},
   "source": [
    "## Airline"
   ]
  },
  {
   "cell_type": "markdown",
   "metadata": {},
   "source": [
    "### Model 1: Korean/Non-Korean Airline"
   ]
  },
  {
   "cell_type": "code",
   "execution_count": 106,
   "metadata": {},
   "outputs": [
    {
     "name": "stdout",
     "output_type": "stream",
     "text": [
      "[[11 25]\n",
      " [17 93]]\n"
     ]
    }
   ],
   "source": [
    "y=df_tree['Airline_KOR']\n",
    "\n",
    "X=df_tree.drop(['ID', 'Airline','DepartureHr','DepartureMn', 'AccessCost',\n",
    "                 'FrequentFlightDestination','FlightNo','MileageAirline','Mileage','Airline_KOR','Airline_LCC'], axis = 1)\n",
    "\n",
    "X_train, X_test, y_train, y_test = train_test_split(X, y, test_size=0.30,random_state=109)  \n",
    "clf = tree.DecisionTreeClassifier(class_weight=None, criterion='gini', max_depth=10, max_features=None, \n",
    "                                  max_leaf_nodes=None, min_samples_leaf=20, min_samples_split=2, \n",
    "                                  min_weight_fraction_leaf=0.0, presort=False, random_state=100, splitter='best')\n",
    "clf = clf.fit(X_train, y_train)\n",
    "\n",
    "y_pred = clf.predict(X_test)  \n",
    "print(metrics.confusion_matrix(y_test, y_pred))  \n",
    "#'AccessTime','Income'"
   ]
  },
  {
   "cell_type": "code",
   "execution_count": 107,
   "metadata": {},
   "outputs": [
    {
     "name": "stdout",
     "output_type": "stream",
     "text": [
      "              precision    recall  f1-score   support\n",
      "\n",
      "           0       0.39      0.31      0.34        36\n",
      "           1       0.79      0.85      0.82       110\n",
      "\n",
      "    accuracy                           0.71       146\n",
      "   macro avg       0.59      0.58      0.58       146\n",
      "weighted avg       0.69      0.71      0.70       146\n",
      "\n"
     ]
    }
   ],
   "source": [
    "print(classification_report(y_test, y_pred))"
   ]
  },
  {
   "cell_type": "code",
   "execution_count": 108,
   "metadata": {},
   "outputs": [],
   "source": [
    "airline_korean_tree = tree.export_graphviz(clf, out_file='airline_korean_new_Dtree.dot', feature_names=X.columns)"
   ]
  },
  {
   "cell_type": "markdown",
   "metadata": {},
   "source": [
    "### Model 2: LLC/ Non-LLC Airline"
   ]
  },
  {
   "cell_type": "code",
   "execution_count": 109,
   "metadata": {},
   "outputs": [
    {
     "name": "stdout",
     "output_type": "stream",
     "text": [
      "[[  8  22]\n",
      " [  4 112]]\n"
     ]
    }
   ],
   "source": [
    "y=df_tree['Airline_LCC']\n",
    "\n",
    "X=df_tree.drop(['ID', 'Airline','DepartureHr','DepartureMn', 'AccessCost','Airfare',\n",
    "                 'FrequentFlightDestination','FlightNo','MileageAirline','Mileage','Airline_KOR','Airline_LCC'], axis = 1)\n",
    "\n",
    "X_train, X_test, y_train, y_test = train_test_split(X, y, test_size=0.30,random_state=109)  \n",
    "clf = tree.DecisionTreeClassifier(class_weight=None, criterion='gini', max_depth=10, max_features=None, \n",
    "                                  max_leaf_nodes=None, min_samples_leaf=20, min_samples_split=2, \n",
    "                                  min_weight_fraction_leaf=0.0, presort=False, random_state=100, splitter='best')\n",
    "clf = clf.fit(X_train, y_train)\n",
    "\n",
    "y_pred = clf.predict(X_test)  \n",
    "print(metrics.confusion_matrix(y_test, y_pred)) "
   ]
  },
  {
   "cell_type": "code",
   "execution_count": 110,
   "metadata": {},
   "outputs": [
    {
     "name": "stdout",
     "output_type": "stream",
     "text": [
      "              precision    recall  f1-score   support\n",
      "\n",
      "           0       0.67      0.27      0.38        30\n",
      "           1       0.84      0.97      0.90       116\n",
      "\n",
      "    accuracy                           0.82       146\n",
      "   macro avg       0.75      0.62      0.64       146\n",
      "weighted avg       0.80      0.82      0.79       146\n",
      "\n"
     ]
    }
   ],
   "source": [
    "print(classification_report(y_test, y_pred))"
   ]
  },
  {
   "cell_type": "code",
   "execution_count": 111,
   "metadata": {},
   "outputs": [],
   "source": [
    "airline_LCC_tree = tree.export_graphviz(clf, out_file='airline_LCC_new_Dtree.dot', feature_names=X.columns)"
   ]
  }
 ],
 "metadata": {
  "kernelspec": {
   "display_name": "Python 3",
   "language": "python",
   "name": "python3"
  },
  "language_info": {
   "codemirror_mode": {
    "name": "ipython",
    "version": 3
   },
   "file_extension": ".py",
   "mimetype": "text/x-python",
   "name": "python",
   "nbconvert_exporter": "python",
   "pygments_lexer": "ipython3",
   "version": "3.7.4"
  }
 },
 "nbformat": 4,
 "nbformat_minor": 2
}
